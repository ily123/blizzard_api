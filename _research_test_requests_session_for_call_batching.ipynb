{
 "cells": [
  {
   "cell_type": "code",
   "execution_count": 9,
   "metadata": {},
   "outputs": [],
   "source": [
    "import requests\n",
    "import time"
   ]
  },
  {
   "cell_type": "code",
   "execution_count": 10,
   "metadata": {},
   "outputs": [],
   "source": [
    "test_urls = [   \n",
    " 'https://us.api.blizzard.com/data/wow/connected-realm/3694/mythic-leaderboard/244/period/734?namespace=dynamic-us&locale=en_US&access_token=USyy7vEdPGYnbQIhBSdaRNE9f1ut8qfZGM',\n",
    " 'https://us.api.blizzard.com/data/wow/connected-realm/3694/mythic-leaderboard/244/period/735?namespace=dynamic-us&locale=en_US&access_token=USyy7vEdPGYnbQIhBSdaRNE9f1ut8qfZGM',\n",
    " 'https://us.api.blizzard.com/data/wow/connected-realm/3694/mythic-leaderboard/244/period/736?namespace=dynamic-us&locale=en_US&access_token=USyy7vEdPGYnbQIhBSdaRNE9f1ut8qfZGM',\n",
    " 'https://us.api.blizzard.com/data/wow/connected-realm/3694/mythic-leaderboard/244/period/737?namespace=dynamic-us&locale=en_US&access_token=USyy7vEdPGYnbQIhBSdaRNE9f1ut8qfZGM',\n",
    " 'https://us.api.blizzard.com/data/wow/connected-realm/3694/mythic-leaderboard/244/period/738?namespace=dynamic-us&locale=en_US&access_token=USyy7vEdPGYnbQIhBSdaRNE9f1ut8qfZGM',\n",
    " 'https://us.api.blizzard.com/data/wow/connected-realm/3694/mythic-leaderboard/244/period/739?namespace=dynamic-us&locale=en_US&access_token=USyy7vEdPGYnbQIhBSdaRNE9f1ut8qfZGM',\n",
    " 'https://us.api.blizzard.com/data/wow/connected-realm/3694/mythic-leaderboard/244/period/740?namespace=dynamic-us&locale=en_US&access_token=USyy7vEdPGYnbQIhBSdaRNE9f1ut8qfZGM',\n",
    " 'https://us.api.blizzard.com/data/wow/connected-realm/3694/mythic-leaderboard/244/period/741?namespace=dynamic-us&locale=en_US&access_token=USyy7vEdPGYnbQIhBSdaRNE9f1ut8qfZGM',\n",
    " 'https://us.api.blizzard.com/data/wow/connected-realm/3694/mythic-leaderboard/244/period/742?namespace=dynamic-us&locale=en_US&access_token=USyy7vEdPGYnbQIhBSdaRNE9f1ut8qfZGM',\n",
    " 'https://us.api.blizzard.com/data/wow/connected-realm/3694/mythic-leaderboard/244/period/743?namespace=dynamic-us&locale=en_US&access_token=USyy7vEdPGYnbQIhBSdaRNE9f1ut8qfZGM',\n",
    " 'https://us.api.blizzard.com/data/wow/connected-realm/3694/mythic-leaderboard/244/period/744?namespace=dynamic-us&locale=en_US&access_token=USyy7vEdPGYnbQIhBSdaRNE9f1ut8qfZGM',\n",
    " 'https://us.api.blizzard.com/data/wow/connected-realm/3694/mythic-leaderboard/244/period/745?namespace=dynamic-us&locale=en_US&access_token=USyy7vEdPGYnbQIhBSdaRNE9f1ut8qfZGM',\n",
    " 'https://us.api.blizzard.com/data/wow/connected-realm/3694/mythic-leaderboard/244/period/746?namespace=dynamic-us&locale=en_US&access_token=USyy7vEdPGYnbQIhBSdaRNE9f1ut8qfZGM',\n",
    " 'https://us.api.blizzard.com/data/wow/connected-realm/3694/mythic-leaderboard/244/period/747?namespace=dynamic-us&locale=en_US&access_token=USyy7vEdPGYnbQIhBSdaRNE9f1ut8qfZGM',\n",
    " 'https://us.api.blizzard.com/data/wow/connected-realm/3694/mythic-leaderboard/244/period/748?namespace=dynamic-us&locale=en_US&access_token=USyy7vEdPGYnbQIhBSdaRNE9f1ut8qfZGM',\n",
    " 'https://us.api.blizzard.com/data/wow/connected-realm/3694/mythic-leaderboard/244/period/749?namespace=dynamic-us&locale=en_US&access_token=USyy7vEdPGYnbQIhBSdaRNE9f1ut8qfZGM',\n",
    " 'https://us.api.blizzard.com/data/wow/connected-realm/3694/mythic-leaderboard/244/period/750?namespace=dynamic-us&locale=en_US&access_token=USyy7vEdPGYnbQIhBSdaRNE9f1ut8qfZGM',\n",
    " 'https://us.api.blizzard.com/data/wow/connected-realm/3694/mythic-leaderboard/244/period/751?namespace=dynamic-us&locale=en_US&access_token=USyy7vEdPGYnbQIhBSdaRNE9f1ut8qfZGM',\n",
    " 'https://us.api.blizzard.com/data/wow/connected-realm/3694/mythic-leaderboard/244/period/752?namespace=dynamic-us&locale=en_US&access_token=USyy7vEdPGYnbQIhBSdaRNE9f1ut8qfZGM',\n",
    " 'https://us.api.blizzard.com/data/wow/connected-realm/3694/mythic-leaderboard/244/period/753?namespace=dynamic-us&locale=en_US&access_token=USyy7vEdPGYnbQIhBSdaRNE9f1ut8qfZGM',\n",
    " 'https://us.api.blizzard.com/data/wow/connected-realm/3694/mythic-leaderboard/244/period/754?namespace=dynamic-us&locale=en_US&access_token=USyy7vEdPGYnbQIhBSdaRNE9f1ut8qfZGM',\n",
    " 'https://us.api.blizzard.com/data/wow/connected-realm/3694/mythic-leaderboard/244/period/755?namespace=dynamic-us&locale=en_US&access_token=USyy7vEdPGYnbQIhBSdaRNE9f1ut8qfZGM',\n",
    " 'https://us.api.blizzard.com/data/wow/connected-realm/3694/mythic-leaderboard/244/period/756?namespace=dynamic-us&locale=en_US&access_token=USyy7vEdPGYnbQIhBSdaRNE9f1ut8qfZGM',\n",
    " 'https://us.api.blizzard.com/data/wow/connected-realm/3694/mythic-leaderboard/244/period/757?namespace=dynamic-us&locale=en_US&access_token=USyy7vEdPGYnbQIhBSdaRNE9f1ut8qfZGM',\n",
    " 'https://us.api.blizzard.com/data/wow/connected-realm/3694/mythic-leaderboard/244/period/758?namespace=dynamic-us&locale=en_US&access_token=USyy7vEdPGYnbQIhBSdaRNE9f1ut8qfZGM',\n",
    " 'https://us.api.blizzard.com/data/wow/connected-realm/3694/mythic-leaderboard/244/period/759?namespace=dynamic-us&locale=en_US&access_token=USyy7vEdPGYnbQIhBSdaRNE9f1ut8qfZGM',\n",
    " 'https://us.api.blizzard.com/data/wow/connected-realm/3694/mythic-leaderboard/244/period/760?namespace=dynamic-us&locale=en_US&access_token=USyy7vEdPGYnbQIhBSdaRNE9f1ut8qfZGM',\n",
    " 'https://us.api.blizzard.com/data/wow/connected-realm/3694/mythic-leaderboard/244/period/761?namespace=dynamic-us&locale=en_US&access_token=USyy7vEdPGYnbQIhBSdaRNE9f1ut8qfZGM',\n",
    " 'https://us.api.blizzard.com/data/wow/connected-realm/3694/mythic-leaderboard/244/period/762?namespace=dynamic-us&locale=en_US&access_token=USyy7vEdPGYnbQIhBSdaRNE9f1ut8qfZGM',\n",
    " 'https://us.api.blizzard.com/data/wow/connected-realm/3694/mythic-leaderboard/244/period/763?namespace=dynamic-us&locale=en_US&access_token=USyy7vEdPGYnbQIhBSdaRNE9f1ut8qfZGM',\n",
    " 'https://us.api.blizzard.com/data/wow/connected-realm/1168/mythic-leaderboard/244/period/734?namespace=dynamic-us&locale=en_US&access_token=USyy7vEdPGYnbQIhBSdaRNE9f1ut8qfZGM',\n",
    " 'https://us.api.blizzard.com/data/wow/connected-realm/1168/mythic-leaderboard/244/period/735?namespace=dynamic-us&locale=en_US&access_token=USyy7vEdPGYnbQIhBSdaRNE9f1ut8qfZGM',\n",
    " 'https://us.api.blizzard.com/data/wow/connected-realm/1168/mythic-leaderboard/244/period/736?namespace=dynamic-us&locale=en_US&access_token=USyy7vEdPGYnbQIhBSdaRNE9f1ut8qfZGM',\n",
    " 'https://us.api.blizzard.com/data/wow/connected-realm/1168/mythic-leaderboard/244/period/737?namespace=dynamic-us&locale=en_US&access_token=USyy7vEdPGYnbQIhBSdaRNE9f1ut8qfZGM',\n",
    " 'https://us.api.blizzard.com/data/wow/connected-realm/1168/mythic-leaderboard/244/period/738?namespace=dynamic-us&locale=en_US&access_token=USyy7vEdPGYnbQIhBSdaRNE9f1ut8qfZGM',\n",
    " 'https://us.api.blizzard.com/data/wow/connected-realm/1168/mythic-leaderboard/244/period/739?namespace=dynamic-us&locale=en_US&access_token=USyy7vEdPGYnbQIhBSdaRNE9f1ut8qfZGM'\n",
    "]"
   ]
  },
  {
   "cell_type": "code",
   "execution_count": 11,
   "metadata": {},
   "outputs": [
    {
     "name": "stdout",
     "output_type": "stream",
     "text": [
      "CPU times: user 2.2 s, sys: 572 ms, total: 2.77 s\n",
      "Wall time: 37.5 s\n"
     ]
    }
   ],
   "source": [
    "%%time\n",
    "# 20 calls using their own session\n",
    "for url in test_urls[:20]:\n",
    "    requests.get(url)"
   ]
  },
  {
   "cell_type": "code",
   "execution_count": 12,
   "metadata": {},
   "outputs": [
    {
     "name": "stdout",
     "output_type": "stream",
     "text": [
      "CPU times: user 1.5 s, sys: 288 ms, total: 1.79 s\n",
      "Wall time: 19.7 s\n"
     ]
    }
   ],
   "source": [
    "%%time\n",
    "# 20 calls sharing a sessions\n",
    "with requests.Session() as session:\n",
    "    for url in test_urls[:20]:\n",
    "        response = session.get(url)"
   ]
  },
  {
   "cell_type": "code",
   "execution_count": null,
   "metadata": {},
   "outputs": [],
   "source": []
  }
 ],
 "metadata": {
  "kernelspec": {
   "display_name": "Python 3",
   "language": "python",
   "name": "python3"
  },
  "language_info": {
   "codemirror_mode": {
    "name": "ipython",
    "version": 3
   },
   "file_extension": ".py",
   "mimetype": "text/x-python",
   "name": "python",
   "nbconvert_exporter": "python",
   "pygments_lexer": "ipython3",
   "version": "3.6.12"
  }
 },
 "nbformat": 4,
 "nbformat_minor": 4
}

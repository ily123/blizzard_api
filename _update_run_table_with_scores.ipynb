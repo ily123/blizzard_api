{
 "cells": [
  {
   "cell_type": "code",
   "execution_count": 16,
   "metadata": {},
   "outputs": [],
   "source": [
    "import importlib\n",
    "import blizzard_api\n",
    "import mysql\n",
    "import mplusdb\n",
    "import time\n",
    "import sys"
   ]
  },
  {
   "cell_type": "code",
   "execution_count": 33,
   "metadata": {},
   "outputs": [
    {
     "name": "stdout",
     "output_type": "stream",
     "text": [
      "7.357625722885132\n"
     ]
    }
   ],
   "source": [
    "t0 = time.time()\n",
    "mdb = mplusdb.MplusDatabase('.db_config')\n",
    "conn = mdb.connect()\n",
    "cursor = conn.cursor()\n",
    "cursor.execute('SELECT id, level, dungeon, duration FROM new_table where score is null')\n",
    "data = cursor.fetchall()\n",
    "#conn.commit()\n",
    "cursor.close()\n",
    "conn.close()\n",
    "\n",
    "print(time.time() - t0)"
   ]
  },
  {
   "cell_type": "code",
   "execution_count": 27,
   "metadata": {},
   "outputs": [],
   "source": [
    "conn = mdb.connect()\n",
    "cursor = conn.cursor()\n",
    "cursor.execute('SELECT * from dungeon')\n",
    "dungeon = cursor.fetchall()\n",
    "#conn.commit()\n",
    "cursor.close()\n",
    "conn.close()"
   ]
  },
  {
   "cell_type": "code",
   "execution_count": 28,
   "metadata": {},
   "outputs": [],
   "source": [
    "dungeon\n",
    "ids = [i[0] for i in dungeon]\n",
    "timers = [i[-1] for i in dungeon]\n",
    "\n",
    "dungeon_timer = dict(zip(ids, timers))"
   ]
  },
  {
   "cell_type": "code",
   "execution_count": 29,
   "metadata": {},
   "outputs": [
    {
     "name": "stdout",
     "output_type": "stream",
     "text": [
      "141.4225996615385\n",
      "---\n",
      "132.0122658461539\n"
     ]
    }
   ],
   "source": [
    "class Scorer:\n",
    "    def __init__(self, dungeon_timers):\n",
    "        self.dungeon_timers = dungeon_timers\n",
    "    \n",
    "    def get_ratio_user_vs_base_timer(self, user_time, user_dungeon):\n",
    "        default_time = self.dungeon_timers[user_dungeon]\n",
    "        return user_time / default_time\n",
    "    \n",
    "    def get_score(self, user_time, user_dungeon, dungeon_level):\n",
    "        ratio = self.get_ratio_user_vs_base_timer(user_time, user_dungeon)\n",
    "    \n",
    "        base_points = self.get_base_score(dungeon_level)\n",
    "        final_score = 0\n",
    "        if ratio <= 1.0: # successful timer\n",
    "            bonus = self.get_bonus_points(ratio, base_points)\n",
    "            final_score = base_points + bonus\n",
    "        else:\n",
    "            penalty = self.get_penalty_points(ratio, base_points)\n",
    "            final_score = base_points - penalty\n",
    "        if final_score < 10:\n",
    "            final_score = 10\n",
    "        return final_score\n",
    "    \n",
    "    def get_bonus_points(self, ratio, base_points):\n",
    "        flat_bonus = (1 - ratio) * 0.085\n",
    "        chest_bonus = 0\n",
    "        if ratio <= 0.6:\n",
    "            chest_bonus = 0.03\n",
    "        elif ratio <= 0.8:\n",
    "            chest_bonus = 0.015\n",
    "        pct_bonus = flat_bonus + chest_bonus\n",
    "        bonus_points = base_points * pct_bonus\n",
    "        return bonus_points\n",
    "            \n",
    "    def get_penalty_points(self, ratio, base_points):\n",
    "        base_penatly_points = base_points * 0.1\n",
    "        additional_penalty_points = (ratio - 1) * (0.24 * base_points * 0.9)\n",
    "        total_penalty = base_penatly_points + additional_penalty_points\n",
    "        return total_penalty\n",
    "    \n",
    "    def get_base_score(self, dungeon_level):\n",
    "        \"\"\"Calculates score for key level.\"\"\"\n",
    "        if dungeon_level <= 10:\n",
    "            return 10*dungeon_level\n",
    "        else:\n",
    "            return 100 * 1.1**(dungeon_level - 10)\n",
    "    \n",
    "    \n",
    "scorer = Scorer(dungeon_timer)\n",
    "\n",
    "print(scorer.get_score(2577000, 248, 15))\n",
    "print('---')\n",
    "print(scorer.get_score(3210000, 248, 15))"
   ]
  },
  {
   "cell_type": "code",
   "execution_count": 34,
   "metadata": {},
   "outputs": [
    {
     "name": "stdout",
     "output_type": "stream",
     "text": [
      "2316121\n"
     ]
    }
   ],
   "source": [
    "print(len(data))"
   ]
  },
  {
   "cell_type": "code",
   "execution_count": 35,
   "metadata": {},
   "outputs": [
    {
     "name": "stdout",
     "output_type": "stream",
     "text": [
      "231612013001.866752147675\n"
     ]
    }
   ],
   "source": [
    "t0 = time.time()\n",
    "conn = mdb.connect()\n",
    "cursor = conn.cursor()\n",
    "i = 0\n",
    "for record in data:\n",
    "    id_, level, dungeon, run_time = record\n",
    "    score = scorer.get_score(run_time, dungeon, level)\n",
    "    query = 'UPDATE new_table set score = %f where id = %d' % (score, id_)\n",
    "    cursor.execute(query)\n",
    "    conn.commit()\n",
    "    print('\\r%s' % i, end='')\n",
    "    i += 1\n",
    "\n",
    "\n",
    "cursor.close()\n",
    "conn.close()\n",
    "print(time.time() - t0)"
   ]
  },
  {
   "cell_type": "code",
   "execution_count": 32,
   "metadata": {},
   "outputs": [],
   "source": [
    "cursor.close()\n",
    "conn.close()"
   ]
  },
  {
   "cell_type": "code",
   "execution_count": null,
   "metadata": {},
   "outputs": [],
   "source": []
  }
 ],
 "metadata": {
  "kernelspec": {
   "display_name": "Python 3",
   "language": "python",
   "name": "python3"
  },
  "language_info": {
   "codemirror_mode": {
    "name": "ipython",
    "version": 3
   },
   "file_extension": ".py",
   "mimetype": "text/x-python",
   "name": "python",
   "nbconvert_exporter": "python",
   "pygments_lexer": "ipython3",
   "version": "3.6.9"
  }
 },
 "nbformat": 4,
 "nbformat_minor": 4
}

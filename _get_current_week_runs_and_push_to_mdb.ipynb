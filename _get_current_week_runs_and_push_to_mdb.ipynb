{
 "cells": [
  {
   "cell_type": "markdown",
   "metadata": {},
   "source": [
    "### Inital test of fetch/push pipeline"
   ]
  },
  {
   "cell_type": "code",
   "execution_count": 12,
   "metadata": {},
   "outputs": [],
   "source": [
    "import requests\n",
    "import importlib\n",
    "import blizzard_api\n",
    "import mysql\n",
    "import mplusdb\n",
    "import blizzard_credentials\n",
    "import pandas as pd\n",
    "import sys\n",
    "import time"
   ]
  },
  {
   "cell_type": "code",
   "execution_count": 3,
   "metadata": {},
   "outputs": [],
   "source": [
    "#grab access token\n",
    "importlib.reload(blizzard_credentials)\n",
    "tokens_file_path = '.api_tokens'\n",
    "authorization = blizzard_credentials.Credentials(tokens_file_path)\n",
    "access_token = authorization.access_token"
   ]
  },
  {
   "cell_type": "code",
   "execution_count": 6,
   "metadata": {},
   "outputs": [],
   "source": [
    "#grab list of realm ids from MDB\n",
    "#conn.close()\n",
    "mdb = mplusdb.MplusDatabase('.db_config')\n",
    "conn = mdb.connect()\n",
    "cursor = conn.cursor()\n",
    "cursor.execute('SELECT cluster_id, region from realm')\n",
    "realm_ids_raw = cursor.fetchall()\n",
    "cursor.execute('SELECT * from dungeon')\n",
    "dungeon_ids_raw = cursor.fetchall()\n",
    "cursor.close()\n",
    "conn.close()"
   ]
  },
  {
   "cell_type": "code",
   "execution_count": 7,
   "metadata": {},
   "outputs": [
    {
     "name": "stdout",
     "output_type": "stream",
     "text": [
      "{197: 'Eye of Azshara', 198: 'Darkheart Thicket', 199: 'Black Rook Hold', 200: 'Halls of Valor', 206: \"Neltharion's Lair\", 207: 'Vault of the Wardens', 208: 'Maw of Souls', 209: 'The Arcway', 210: 'Court of Stars', 227: 'Return to Karazhan', 233: 'Cathedral of Eternal Night', 234: 'Return to Karazhan', 239: 'Seat of the Triumvirate', 244: \"Atal'Dazar\", 245: 'Freehold', 246: 'Tol Dagor', 247: 'The MOTHERLODE!!', 248: 'Waycrest Manor', 249: \"Kings' Rest\", 250: 'Temple of Sethraliss', 251: 'The Underrot', 252: 'Shrine of the Storm', 353: 'Siege of Boralus', 369: 'Operation: Mechagon - Junkyard', 370: 'Operation: Mechagon - Workshop'}\n"
     ]
    }
   ],
   "source": [
    "dungeons = dict(dungeon_ids_raw)\n",
    "print(dungeons)"
   ]
  },
  {
   "cell_type": "code",
   "execution_count": 8,
   "metadata": {},
   "outputs": [],
   "source": [
    "realm_ids = pd.DataFrame(realm_ids_raw,\n",
    "                         columns = ['cluster_id', 'region'])"
   ]
  },
  {
   "cell_type": "code",
   "execution_count": 9,
   "metadata": {},
   "outputs": [],
   "source": [
    "region_to_realms = realm_ids.groupby('region')['cluster_id'].agg('unique').apply(list).to_dict()"
   ]
  },
  {
   "cell_type": "code",
   "execution_count": 10,
   "metadata": {},
   "outputs": [],
   "source": [
    "region_map = {1:'us', 2:'kr', 3:'eu', 4:'tw'}"
   ]
  },
  {
   "cell_type": "code",
   "execution_count": 24,
   "metadata": {},
   "outputs": [
    {
     "name": "stdout",
     "output_type": "stream",
     "text": [
      "querying board 12 out of 1380 \n",
      "\n",
      "time elapsed 0.18672302563985188\n"
     ]
    }
   ],
   "source": [
    "# loop through time periods / realms / regions\n",
    "importlib.reload(blizzard_api)\n",
    "\n",
    "region_encoder = {'us':1, 'kr':2,'tw':4, 'eu':3 }\n",
    "start = time.time()\n",
    "mdb = mplusdb.MplusDatabase('.db_config')\n",
    "i = 0\n",
    "region_token = 'us'\n",
    "period = 762\n",
    "response_tracker = []\n",
    "call_factory = blizzard_api.CallFactory(access_token, region_token)\n",
    "for dungeon in dungeons:\n",
    "    if dungeon < 244: ##### <<<<<<<<\n",
    "        continue\n",
    "    for realm in [3685]:#region_to_realms[region_encoder[region_token]]:\n",
    "        leaderboard_call = call_factory.get_mythic_plus_leaderboard_call(\n",
    "            dungeon_id = dungeon,\n",
    "            realm_id = realm,\n",
    "            period = period)\n",
    "        response = requests.get(leaderboard_call)\n",
    "        if response.status_code == 200:\n",
    "            leaderboard = blizzard_api.KeyRunLeaderboard(response.json())\n",
    "           \n",
    "            rosters = leaderboard.concat_rosters_for_sql_insert()\n",
    "            \n",
    "            insert_query_rosters = 'INSERT IGNORE INTO roster VALUES ' + ','.join(rosters)\n",
    "        \n",
    "            runs = leaderboard.concat_runs_for_sql_insert()\n",
    "            insert_query_runs = 'INSERT IGNORE INTO run VALUES ' + ','.join(runs)\n",
    "            conn = mdb.connect()\n",
    "            cursor = conn.cursor()\n",
    "            conn.start_transaction()\n",
    "            \n",
    "            try:\n",
    "                cursor.execute(insert_query_runs)\n",
    "                conn.commit()\n",
    "                #print('runs ', cursor.rowcount)\n",
    "                cursor.execute(insert_query_rosters)\n",
    "                conn.commit()\n",
    "                #print('rosters', cursor.rowcount)\n",
    "                response_tracker.append([leaderboard_call, response.status_code, True])\n",
    "            except:\n",
    "                print(\"something went wrong\")\n",
    "                response_tracker.append([leaderboard_call, response.status_code, False])\n",
    "            finally:\n",
    "                cursor.close()\n",
    "                conn.close()\n",
    "        else:\n",
    "            response_tracker.append([leaderboard_call, response.status_code, False])\n",
    "        i += 1\n",
    "        print('\\rquerying board %s out of %s ' % (i, \n",
    "            12*len(region_to_realms[region_encoder[region_token]])), end='')\n",
    "        #if i == 5:\n",
    "        #    break\n",
    "    #break\n",
    "print('\\n')\n",
    "\n",
    "time_elapsed = time.time() - start\n",
    "print('time elapsed', time_elapsed / 60)"
   ]
  },
  {
   "cell_type": "code",
   "execution_count": 295,
   "metadata": {
    "scrolled": true
   },
   "outputs": [],
   "source": [
    "df = pd.DataFrame(response_tracker, columns = ['call', 'reponse_status_code', 'upload'])\n",
    "df.head(10)"
   ]
  },
  {
   "cell_type": "code",
   "execution_count": 292,
   "metadata": {},
   "outputs": [
    {
     "data": {
      "text/plain": [
       "Series([], Name: call, dtype: object)"
      ]
     },
     "execution_count": 292,
     "metadata": {},
     "output_type": "execute_result"
    }
   ],
   "source": [
    "df.loc[~df.upload, 'call']"
   ]
  }
 ],
 "metadata": {
  "kernelspec": {
   "display_name": "Python 3",
   "language": "python",
   "name": "python3"
  },
  "language_info": {
   "codemirror_mode": {
    "name": "ipython",
    "version": 3
   },
   "file_extension": ".py",
   "mimetype": "text/x-python",
   "name": "python",
   "nbconvert_exporter": "python",
   "pygments_lexer": "ipython3",
   "version": "3.7.3"
  }
 },
 "nbformat": 4,
 "nbformat_minor": 2
}

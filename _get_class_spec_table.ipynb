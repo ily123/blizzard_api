{
 "cells": [
  {
   "cell_type": "markdown",
   "metadata": {},
   "source": [
    "#### Scape blizzard API for spec/class ids, push into MDB"
   ]
  },
  {
   "cell_type": "code",
   "execution_count": 1,
   "metadata": {},
   "outputs": [],
   "source": [
    "#import requests\n",
    "import importlib\n",
    "import blizzard_api\n",
    "#import mysql\n",
    "import mplusdb\n",
    "import blizzard_credentials\n",
    "#import pandas as pd\n",
    "#import utils\n",
    "#import time\n",
    "#from concurrent.futures import ThreadPoolExecutor, as_completed\n",
    "#import matplotlib.pyplot as plt\n",
    "#import matplotlib.ticker as ticker\n",
    "#import datetime"
   ]
  },
  {
   "cell_type": "code",
   "execution_count": 2,
   "metadata": {},
   "outputs": [],
   "source": [
    "auth = blizzard_credentials.Credentials('.api_tokens')\n",
    "access_token = auth.access_token"
   ]
  },
  {
   "cell_type": "code",
   "execution_count": 11,
   "metadata": {},
   "outputs": [],
   "source": [
    "importlib.reload(blizzard_api)\n",
    "caller = blizzard_api.Caller(access_token)\n",
    "class_spec_table = caller.get_class_spec_table()"
   ]
  },
  {
   "cell_type": "code",
   "execution_count": 12,
   "metadata": {},
   "outputs": [
    {
     "data": {
      "text/plain": [
       "[['mage', 8, 'arcane', 62, 'damage'],\n",
       " ['mage', 8, 'fire', 63, 'damage'],\n",
       " ['mage', 8, 'frost', 64, 'damage'],\n",
       " ['paladin', 2, 'holy', 65, 'healer'],\n",
       " ['paladin', 2, 'protection', 66, 'tank'],\n",
       " ['paladin', 2, 'retribution', 70, 'damage'],\n",
       " ['warrior', 1, 'arms', 71, 'damage'],\n",
       " ['warrior', 1, 'fury', 72, 'damage'],\n",
       " ['warrior', 1, 'protection', 73, 'tank'],\n",
       " ['druid', 11, 'balance', 102, 'damage'],\n",
       " ['druid', 11, 'feral', 103, 'damage'],\n",
       " ['druid', 11, 'guardian', 104, 'tank'],\n",
       " ['druid', 11, 'restoration', 105, 'healer'],\n",
       " ['death knight', 6, 'blood', 250, 'tank'],\n",
       " ['death knight', 6, 'frost', 251, 'damage'],\n",
       " ['death knight', 6, 'unholy', 252, 'damage'],\n",
       " ['hunter', 3, 'beast mastery', 253, 'damage'],\n",
       " ['hunter', 3, 'marksmanship', 254, 'damage'],\n",
       " ['hunter', 3, 'survival', 255, 'damage'],\n",
       " ['priest', 5, 'discipline', 256, 'healer'],\n",
       " ['priest', 5, 'holy', 257, 'healer'],\n",
       " ['priest', 5, 'shadow', 258, 'damage'],\n",
       " ['rogue', 4, 'assassination', 259, 'damage'],\n",
       " ['rogue', 4, 'outlaw', 260, 'damage'],\n",
       " ['rogue', 4, 'subtlety', 261, 'damage'],\n",
       " ['shaman', 7, 'elemental', 262, 'damage'],\n",
       " ['shaman', 7, 'enhancement', 263, 'damage'],\n",
       " ['shaman', 7, 'restoration', 264, 'healer'],\n",
       " ['warlock', 9, 'affliction', 265, 'damage'],\n",
       " ['warlock', 9, 'demonology', 266, 'damage'],\n",
       " ['warlock', 9, 'destruction', 267, 'damage'],\n",
       " ['monk', 10, 'brewmaster', 268, 'tank'],\n",
       " ['monk', 10, 'windwalker', 269, 'damage'],\n",
       " ['monk', 10, 'mistweaver', 270, 'healer'],\n",
       " ['demon hunter', 12, 'havoc', 577, 'damage'],\n",
       " ['demon hunter', 12, 'vengeance', 581, 'tank']]"
      ]
     },
     "execution_count": 12,
     "metadata": {},
     "output_type": "execute_result"
    }
   ],
   "source": [
    "class_spec_table"
   ]
  },
  {
   "cell_type": "code",
   "execution_count": 33,
   "metadata": {},
   "outputs": [],
   "source": [
    "#tokenize into single string\n",
    "\n",
    "tokenized = []\n",
    "for spec in class_spec_table:\n",
    "    class_name = spec[0].replace(' ', '_')\n",
    "    spec_name = spec[2].replace(' ', '_')\n",
    "    token = '%s_%s' % (class_name, spec_name)\n",
    "    tokenized.append([spec[0], spec[1], spec[2], spec[3], spec[4], token]) #extend behaves weirdly"
   ]
  },
  {
   "cell_type": "code",
   "execution_count": 40,
   "metadata": {},
   "outputs": [
    {
     "name": "stdout",
     "output_type": "stream",
     "text": [
      "mage_arcane tinyint not null DEFAULT 0\n",
      "mage_fire tinyint not null DEFAULT 0\n",
      "mage_frost tinyint not null DEFAULT 0\n",
      "paladin_holy tinyint not null DEFAULT 0\n",
      "paladin_protection tinyint not null DEFAULT 0\n",
      "paladin_retribution tinyint not null DEFAULT 0\n",
      "warrior_arms tinyint not null DEFAULT 0\n",
      "warrior_fury tinyint not null DEFAULT 0\n",
      "warrior_protection tinyint not null DEFAULT 0\n",
      "druid_balance tinyint not null DEFAULT 0\n",
      "druid_feral tinyint not null DEFAULT 0\n",
      "druid_guardian tinyint not null DEFAULT 0\n",
      "druid_restoration tinyint not null DEFAULT 0\n",
      "death_knight_blood tinyint not null DEFAULT 0\n",
      "death_knight_frost tinyint not null DEFAULT 0\n",
      "death_knight_unholy tinyint not null DEFAULT 0\n",
      "hunter_beast_mastery tinyint not null DEFAULT 0\n",
      "hunter_marksmanship tinyint not null DEFAULT 0\n",
      "hunter_survival tinyint not null DEFAULT 0\n",
      "priest_discipline tinyint not null DEFAULT 0\n",
      "priest_holy tinyint not null DEFAULT 0\n",
      "priest_shadow tinyint not null DEFAULT 0\n",
      "rogue_assassination tinyint not null DEFAULT 0\n",
      "rogue_outlaw tinyint not null DEFAULT 0\n",
      "rogue_subtlety tinyint not null DEFAULT 0\n",
      "shaman_elemental tinyint not null DEFAULT 0\n",
      "shaman_enhancement tinyint not null DEFAULT 0\n",
      "shaman_restoration tinyint not null DEFAULT 0\n",
      "warlock_affliction tinyint not null DEFAULT 0\n",
      "warlock_demonology tinyint not null DEFAULT 0\n",
      "warlock_destruction tinyint not null DEFAULT 0\n",
      "monk_brewmaster tinyint not null DEFAULT 0\n",
      "monk_windwalker tinyint not null DEFAULT 0\n",
      "monk_mistweaver tinyint not null DEFAULT 0\n",
      "demon_hunter_havoc tinyint not null DEFAULT 0\n",
      "demon_hunter_vengeance tinyint not null DEFAULT 0\n"
     ]
    }
   ],
   "source": []
  },
  {
   "cell_type": "code",
   "execution_count": 34,
   "metadata": {},
   "outputs": [
    {
     "data": {
      "text/plain": [
       "[['mage', 8, 'arcane', 62, 'damage', 'mage_arcane'],\n",
       " ['mage', 8, 'fire', 63, 'damage', 'mage_fire'],\n",
       " ['mage', 8, 'frost', 64, 'damage', 'mage_frost'],\n",
       " ['paladin', 2, 'holy', 65, 'healer', 'paladin_holy'],\n",
       " ['paladin', 2, 'protection', 66, 'tank', 'paladin_protection'],\n",
       " ['paladin', 2, 'retribution', 70, 'damage', 'paladin_retribution'],\n",
       " ['warrior', 1, 'arms', 71, 'damage', 'warrior_arms'],\n",
       " ['warrior', 1, 'fury', 72, 'damage', 'warrior_fury'],\n",
       " ['warrior', 1, 'protection', 73, 'tank', 'warrior_protection'],\n",
       " ['druid', 11, 'balance', 102, 'damage', 'druid_balance'],\n",
       " ['druid', 11, 'feral', 103, 'damage', 'druid_feral'],\n",
       " ['druid', 11, 'guardian', 104, 'tank', 'druid_guardian'],\n",
       " ['druid', 11, 'restoration', 105, 'healer', 'druid_restoration'],\n",
       " ['death knight', 6, 'blood', 250, 'tank', 'death_knight_blood'],\n",
       " ['death knight', 6, 'frost', 251, 'damage', 'death_knight_frost'],\n",
       " ['death knight', 6, 'unholy', 252, 'damage', 'death_knight_unholy'],\n",
       " ['hunter', 3, 'beast mastery', 253, 'damage', 'hunter_beast_mastery'],\n",
       " ['hunter', 3, 'marksmanship', 254, 'damage', 'hunter_marksmanship'],\n",
       " ['hunter', 3, 'survival', 255, 'damage', 'hunter_survival'],\n",
       " ['priest', 5, 'discipline', 256, 'healer', 'priest_discipline'],\n",
       " ['priest', 5, 'holy', 257, 'healer', 'priest_holy'],\n",
       " ['priest', 5, 'shadow', 258, 'damage', 'priest_shadow'],\n",
       " ['rogue', 4, 'assassination', 259, 'damage', 'rogue_assassination'],\n",
       " ['rogue', 4, 'outlaw', 260, 'damage', 'rogue_outlaw'],\n",
       " ['rogue', 4, 'subtlety', 261, 'damage', 'rogue_subtlety'],\n",
       " ['shaman', 7, 'elemental', 262, 'damage', 'shaman_elemental'],\n",
       " ['shaman', 7, 'enhancement', 263, 'damage', 'shaman_enhancement'],\n",
       " ['shaman', 7, 'restoration', 264, 'healer', 'shaman_restoration'],\n",
       " ['warlock', 9, 'affliction', 265, 'damage', 'warlock_affliction'],\n",
       " ['warlock', 9, 'demonology', 266, 'damage', 'warlock_demonology'],\n",
       " ['warlock', 9, 'destruction', 267, 'damage', 'warlock_destruction'],\n",
       " ['monk', 10, 'brewmaster', 268, 'tank', 'monk_brewmaster'],\n",
       " ['monk', 10, 'windwalker', 269, 'damage', 'monk_windwalker'],\n",
       " ['monk', 10, 'mistweaver', 270, 'healer', 'monk_mistweaver'],\n",
       " ['demon hunter', 12, 'havoc', 577, 'damage', 'demon_hunter_havoc'],\n",
       " ['demon hunter', 12, 'vengeance', 581, 'tank', 'demon_hunter_vengeance']]"
      ]
     },
     "execution_count": 34,
     "metadata": {},
     "output_type": "execute_result"
    }
   ],
   "source": [
    "tokenized"
   ]
  },
  {
   "cell_type": "markdown",
   "metadata": {},
   "source": [
    "#### Insert into db"
   ]
  },
  {
   "cell_type": "code",
   "execution_count": 39,
   "metadata": {
    "collapsed": true
   },
   "outputs": [],
   "source": [
    "importlib.reload(mplusdb)\n",
    "\n",
    "mdb = mplusdb.MplusDatabase('.db_config')\n",
    "\n",
    "query = ('INSERT IGNORE INTO class_spec '\n",
    "         '(class_name, class_id, spec_name, spec_id, spec_role, token) '\n",
    "         'VALUES (%s,%s,%s,%s,%s,%s)'\n",
    "         )\n",
    "mdb.raw_batch_insert(query = query, data = tokenized)"
   ]
  },
  {
   "cell_type": "markdown",
   "metadata": {},
   "source": [
    "---"
   ]
  },
  {
   "cell_type": "code",
   "execution_count": 69,
   "metadata": {},
   "outputs": [
    {
     "name": "stdout",
     "output_type": "stream",
     "text": [
      "['use keyruns;\\nCREATE table run_composition(\\n', '\\trun_id bigint unsigned not null PRIMARY KEY,\\n', '\\tmage_arcane tinyint unsigned not null DEFAULT 0,\\n', '\\tmage_fire tinyint unsigned not null DEFAULT 0,\\n', '\\tmage_frost tinyint unsigned not null DEFAULT 0,\\n', '\\tpaladin_holy tinyint unsigned not null DEFAULT 0,\\n', '\\tpaladin_protection tinyint unsigned not null DEFAULT 0,\\n', '\\tpaladin_retribution tinyint unsigned not null DEFAULT 0,\\n', '\\twarrior_arms tinyint unsigned not null DEFAULT 0,\\n', '\\twarrior_fury tinyint unsigned not null DEFAULT 0,\\n', '\\twarrior_protection tinyint unsigned not null DEFAULT 0,\\n', '\\tdruid_balance tinyint unsigned not null DEFAULT 0,\\n', '\\tdruid_feral tinyint unsigned not null DEFAULT 0,\\n', '\\tdruid_guardian tinyint unsigned not null DEFAULT 0,\\n', '\\tdruid_restoration tinyint unsigned not null DEFAULT 0,\\n', '\\tdeath_knight_blood tinyint unsigned not null DEFAULT 0,\\n', '\\tdeath_knight_frost tinyint unsigned not null DEFAULT 0,\\n', '\\tdeath_knight_unholy tinyint unsigned not null DEFAULT 0,\\n', '\\thunter_beast_mastery tinyint unsigned not null DEFAULT 0,\\n', '\\thunter_marksmanship tinyint unsigned not null DEFAULT 0,\\n', '\\thunter_survival tinyint unsigned not null DEFAULT 0,\\n', '\\tpriest_discipline tinyint unsigned not null DEFAULT 0,\\n', '\\tpriest_holy tinyint unsigned not null DEFAULT 0,\\n', '\\tpriest_shadow tinyint unsigned not null DEFAULT 0,\\n', '\\trogue_assassination tinyint unsigned not null DEFAULT 0,\\n', '\\trogue_outlaw tinyint unsigned not null DEFAULT 0,\\n', '\\trogue_subtlety tinyint unsigned not null DEFAULT 0,\\n', '\\tshaman_elemental tinyint unsigned not null DEFAULT 0,\\n', '\\tshaman_enhancement tinyint unsigned not null DEFAULT 0,\\n', '\\tshaman_restoration tinyint unsigned not null DEFAULT 0,\\n', '\\twarlock_affliction tinyint unsigned not null DEFAULT 0,\\n', '\\twarlock_demonology tinyint unsigned not null DEFAULT 0,\\n', '\\twarlock_destruction tinyint unsigned not null DEFAULT 0,\\n', '\\tmonk_brewmaster tinyint unsigned not null DEFAULT 0,\\n', '\\tmonk_windwalker tinyint unsigned not null DEFAULT 0,\\n', '\\tmonk_mistweaver tinyint unsigned not null DEFAULT 0,\\n', '\\tdemon_hunter_havoc tinyint unsigned not null DEFAULT 0,\\n', '\\tdemon_hunter_vengeance tinyint unsigned not null DEFAULT 0);\\n']\n"
     ]
    }
   ],
   "source": [
    "####\n",
    "#\n",
    "# Bonus track: write code to write code to generate one-hot encoded table for spec comps\n",
    "#\n",
    "# This needs to be in its own nb.\n",
    "\n",
    "\n",
    "sql_script = ['use keyruns;\\n'\n",
    "              'CREATE table run_composition(\\n',\n",
    "              '\\trun_id bigint unsigned not null PRIMARY KEY,\\n']\n",
    "for index, spec in enumerate(tokenized):\n",
    "    token = spec[-1]\n",
    "    if index < len(tokenized) - 1:\n",
    "        sql_script.append('\\t%s tinyint unsigned not null DEFAULT 0,\\n' % token)\n",
    "    else:\n",
    "        sql_script.append('\\t%s tinyint unsigned not null DEFAULT 0);\\n' % token)        \n",
    "print(sql_script)\n",
    "\n",
    "\n",
    "with open('sql_scripts/test2.sql', 'w') as file:\n",
    "    file.write(\"/* Generate one-hot encoded run comp table. Auto-generated.*/\\n\")\n",
    "    for line in sql_script:\n",
    "        file.write(line)\n",
    "    file.write(\"/* to run: > mysql -u username -p < path-to\\scriptName.sql */\")"
   ]
  },
  {
   "cell_type": "code",
   "execution_count": null,
   "metadata": {},
   "outputs": [],
   "source": []
  }
 ],
 "metadata": {
  "kernelspec": {
   "display_name": "scraper",
   "language": "python",
   "name": "scraper"
  },
  "language_info": {
   "codemirror_mode": {
    "name": "ipython",
    "version": 3
   },
   "file_extension": ".py",
   "mimetype": "text/x-python",
   "name": "python",
   "nbconvert_exporter": "python",
   "pygments_lexer": "ipython3",
   "version": "3.6.9"
  }
 },
 "nbformat": 4,
 "nbformat_minor": 2
}

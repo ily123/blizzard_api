{
 "cells": [
  {
   "cell_type": "markdown",
   "metadata": {},
   "source": [
    "This notebook does two things:\n",
    "\n",
    "1. Provides examples to use the code\n",
    "2. Doubles as a code tester"
   ]
  },
  {
   "cell_type": "code",
   "execution_count": 62,
   "metadata": {},
   "outputs": [],
   "source": [
    "import importlib\n",
    "import tasks\n",
    "import blizzard_api\n",
    "import time\n",
    "import blizzard_credentials"
   ]
  },
  {
   "cell_type": "markdown",
   "metadata": {},
   "source": [
    "### blizzard_credentials"
   ]
  },
  {
   "cell_type": "code",
   "execution_count": 93,
   "metadata": {},
   "outputs": [
    {
     "name": "stdout",
     "output_type": "stream",
     "text": [
      "USmdks6793uadCsOo23txXh2JZqb2HJPHz\n"
     ]
    }
   ],
   "source": [
    "# API access token getter\n",
    "auth = blizzard_credentials.Credentials(\"config/blizzard_api_access.ini\")\n",
    "api_token = auth.access_token\n",
    "print(api_token) # token is valid for 24 hrs"
   ]
  },
  {
   "cell_type": "markdown",
   "metadata": {},
   "source": [
    "### blizzard_api"
   ]
  },
  {
   "cell_type": "code",
   "execution_count": 94,
   "metadata": {},
   "outputs": [
    {
     "name": "stdout",
     "output_type": "stream",
     "text": [
      "https://us.api.blizzard.com/data/wow/connected-realm/1234?namespace=dynamic-us&locale=en_US&access_token=USmdks6793uadCsOo23txXh2JZqb2HJPHz\n",
      "https://us.api.blizzard.com/data/wow/playable-specialization/1234?namespace=static-us&locale=en_US&access_token=USmdks6793uadCsOo23txXh2JZqb2HJPHz\n"
     ]
    }
   ],
   "source": [
    "### URL factory -- constructs API urls for the caller\n",
    "importlib.reload(blizzard_api)\n",
    "url_factory = blizzard_api.UrlFactory(access_token = api_token, region = 'us')\n",
    "print(url_factory.get_connected_realm_url(realm_id = 1234))\n",
    "print(url_factory.get_spec_url(spec_id = 1234))\n",
    "#help(url_factory)"
   ]
  },
  {
   "cell_type": "code",
   "execution_count": 111,
   "metadata": {},
   "outputs": [],
   "source": [
    "# set up caller\n",
    "importlib.reload(blizzard_api)\n",
    "caller = blizzard_api.Caller(access_token = api_token)"
   ]
  },
  {
   "cell_type": "code",
   "execution_count": 112,
   "metadata": {},
   "outputs": [
    {
     "name": "stdout",
     "output_type": "stream",
     "text": [
      "Help on Caller in module blizzard_api object:\n",
      "\n",
      "class Caller(builtins.object)\n",
      " |  Abstracts API interactions into a high-level interface.\n",
      " |  \n",
      " |  Methods defined here:\n",
      " |  \n",
      " |  __init__(self, access_token:Union[str, NoneType]=None)\n",
      " |      Inits wtih access token. If token not given, tries to get one.\n",
      " |  \n",
      " |  get_class_spec_table(self)\n",
      " |      Gets class/spec table.\n",
      " |  \n",
      " |  get_connected_realms(self, region)\n",
      " |      Gets list of connected realms (realm clusters).\n",
      " |  \n",
      " |  get_current_period(self, region)\n",
      " |      Gets current m+ period for region.\n",
      " |  \n",
      " |  get_dungeons(self)\n",
      " |      Gets list of dungeon ids.\n",
      " |  \n",
      " |  get_leaderboard(self, region, realm, dungeon, period)\n",
      " |      Gets leaderboard for specified region/realm/dungeon/period.\n",
      " |  \n",
      " |  get_period_startend(self, region, period)\n",
      " |      Gets start and end timestamp for period.\n",
      " |  \n",
      " |  get_spec_by_index(self, spec_index)\n",
      " |      Returns full info for spec.\n",
      " |  \n",
      " |  get_spec_indices(self)\n",
      " |      Gets list of spec ids and names.\n",
      " |  \n",
      " |  ----------------------------------------------------------------------\n",
      " |  Data descriptors defined here:\n",
      " |  \n",
      " |  __dict__\n",
      " |      dictionary for instance variables (if defined)\n",
      " |  \n",
      " |  __weakref__\n",
      " |      list of weak references to the object (if defined)\n",
      "\n"
     ]
    }
   ],
   "source": [
    "help(caller)"
   ]
  },
  {
   "cell_type": "code",
   "execution_count": null,
   "metadata": {},
   "outputs": [],
   "source": [
    "caller.get_class_spec_table()"
   ]
  },
  {
   "cell_type": "code",
   "execution_count": null,
   "metadata": {},
   "outputs": [],
   "source": []
  },
  {
   "cell_type": "code",
   "execution_count": 63,
   "metadata": {
    "scrolled": false
   },
   "outputs": [
    {
     "name": "stdout",
     "output_type": "stream",
     "text": [
      "period 773, region us\n",
      "getting DB data:  5.308664321899414\n",
      "API calls:  14.916154861450195\n",
      "Total runs:  2793\n",
      "Find new runs:  0.08287215232849121\n",
      "New runs:  557\n",
      "Inserting new runs:  0.7207274436950684\n",
      "-next--next--next--next--next-\n",
      "API calls:  14.447040557861328\n",
      "Total runs:  3725\n",
      "Find new runs:  0.1333754062652588\n",
      "New runs:  674\n",
      "Inserting new runs:  0.8533749580383301\n",
      "-next--next--next--next--next-\n",
      "API calls:  12.328773736953735\n",
      "Total runs:  1885\n",
      "Find new runs:  0.041754961013793945\n",
      "New runs:  360\n",
      "Inserting new runs:  0.41063499450683594\n",
      "-next--next--next--next--next-\n",
      "API calls:  13.656780481338501\n",
      "Total runs:  2798\n",
      "Find new runs:  0.08723115921020508\n",
      "New runs:  561\n",
      "Inserting new runs:  0.5520572662353516\n",
      "-next--next--next--next--next-\n",
      "API calls:  14.673864126205444\n",
      "Total runs:  2523\n",
      "Find new runs:  0.07168745994567871\n",
      "New runs:  491\n",
      "Inserting new runs:  0.5109226703643799\n",
      "-next--next--next--next--next-\n",
      "API calls:  14.492815494537354\n",
      "Total runs:  2300\n",
      "Find new runs:  0.055333852767944336\n",
      "New runs:  416\n",
      "Inserting new runs:  0.409670352935791\n",
      "-next--next--next--next--next-\n",
      "API calls:  10.970033407211304\n",
      "Total runs:  2345\n",
      "Find new runs:  0.06351780891418457\n",
      "New runs:  466\n",
      "Inserting new runs:  0.5014564990997314\n",
      "-next--next--next--next--next-\n",
      "API calls:  13.648260831832886\n",
      "Total runs:  2537\n",
      "Find new runs:  0.07096385955810547\n",
      "New runs:  492\n",
      "Inserting new runs:  0.4649381637573242\n",
      "-next--next--next--next--next-\n",
      "API calls:  10.306787014007568\n",
      "Total runs:  1645\n",
      "Find new runs:  0.033924102783203125\n",
      "New runs:  333\n",
      "Inserting new runs:  0.3667728900909424\n",
      "-next--next--next--next--next-\n",
      "API calls:  10.080168724060059\n",
      "Total runs:  1490\n",
      "Find new runs:  0.029276132583618164\n",
      "New runs:  307\n",
      "Inserting new runs:  0.28875041007995605\n",
      "-next--next--next--next--next-\n",
      "API calls:  11.290849924087524\n",
      "Total runs:  2402\n",
      "Find new runs:  0.061919450759887695\n",
      "New runs:  456\n",
      "Inserting new runs:  0.45645689964294434\n",
      "-next--next--next--next--next-\n",
      "API calls:  15.630460739135742\n",
      "Total runs:  2673\n",
      "Find new runs:  0.06685042381286621\n",
      "New runs:  483\n",
      "Inserting new runs:  0.6007664203643799\n",
      "-next--next--next--next--next-\n",
      "==============================\n",
      "period 773, region eu\n",
      "getting DB data:  5.1516852378845215\n",
      "API calls:  16.967761278152466\n",
      "Total runs:  2655\n",
      "Find new runs:  0.027271509170532227\n",
      "New runs:  115\n",
      "Inserting new runs:  0.18009090423583984\n",
      "-next--next--next--next--next-\n",
      "API calls:  18.995208263397217\n",
      "Total runs:  3794\n",
      "Find new runs:  0.03403806686401367\n",
      "New runs:  135\n",
      "Inserting new runs:  0.1932976245880127\n",
      "-next--next--next--next--next-\n",
      "API calls:  11.613532304763794\n",
      "Total runs:  1611\n",
      "Find new runs:  0.012351274490356445\n",
      "New runs:  75\n",
      "Inserting new runs:  0.11927485466003418\n",
      "-next--next--next--next--next-\n",
      "API calls:  19.45160460472107\n",
      "Total runs:  2537\n",
      "Find new runs:  0.020215749740600586\n",
      "New runs:  107\n",
      "Inserting new runs:  0.16408944129943848\n",
      "-next--next--next--next--next-\n",
      "API calls:  16.735804796218872\n",
      "Total runs:  2473\n",
      "Find new runs:  0.019675731658935547\n",
      "New runs:  106\n",
      "Inserting new runs:  0.15047979354858398\n",
      "-next--next--next--next--next-\n",
      "API calls:  14.688275814056396\n",
      "Total runs:  2298\n",
      "Find new runs:  0.019108295440673828\n",
      "New runs:  111\n",
      "Inserting new runs:  0.15317368507385254\n",
      "-next--next--next--next--next-\n",
      "API calls:  18.743854761123657\n",
      "Total runs:  2140\n",
      "Find new runs:  0.015430212020874023\n",
      "New runs:  87\n",
      "Inserting new runs:  0.13942456245422363\n",
      "-next--next--next--next--next-\n",
      "API calls:  18.959122896194458\n",
      "Total runs:  2334\n",
      "Find new runs:  0.019644737243652344\n",
      "New runs:  103\n",
      "Inserting new runs:  0.15703392028808594\n",
      "-next--next--next--next--next-\n",
      "API calls:  11.120650291442871\n",
      "Total runs:  1446\n",
      "Find new runs:  0.011155366897583008\n",
      "New runs:  81\n",
      "Inserting new runs:  0.12404799461364746\n",
      "-next--next--next--next--next-\n",
      "API calls:  13.30919861793518\n",
      "Total runs:  1543\n",
      "Find new runs:  0.011926889419555664\n",
      "New runs:  83\n",
      "Inserting new runs:  0.12974309921264648\n",
      "-next--next--next--next--next-\n",
      "API calls:  16.088213443756104\n",
      "Total runs:  1995\n",
      "Find new runs:  0.01548624038696289\n",
      "New runs:  96\n",
      "Inserting new runs:  0.14111590385437012\n",
      "-next--next--next--next--next-\n",
      "API calls:  15.454603433609009\n",
      "Total runs:  2499\n",
      "Find new runs:  0.021161317825317383\n",
      "New runs:  109\n",
      "Inserting new runs:  0.19833922386169434\n",
      "-next--next--next--next--next-\n",
      "==============================\n",
      "period 773, region tw\n",
      "getting DB data:  5.335454940795898\n",
      "API calls:  2.9938204288482666\n",
      "Total runs:  2\n",
      "Find new runs:  0.0006487369537353516\n",
      "New runs:  2\n",
      "Inserting new runs:  0.025793790817260742\n",
      "-next--next--next--next--next-\n",
      "API calls:  2.629093885421753\n",
      "Total runs:  2\n",
      "Find new runs:  2.8848648071289062e-05\n",
      "New runs:  2\n",
      "Inserting new runs:  0.027690410614013672\n",
      "-next--next--next--next--next-\n",
      "API calls:  2.604440689086914\n",
      "Total runs:  0\n",
      "Find new runs:  1.7881393432617188e-05\n",
      "New runs:  0\n",
      "Inserting new runs:  9.5367431640625e-07\n",
      "-next--next--next--next--next-\n",
      "API calls:  2.569714069366455\n",
      "Total runs:  1\n",
      "Find new runs:  1.71661376953125e-05\n",
      "New runs:  1\n",
      "Inserting new runs:  0.027002573013305664\n",
      "-next--next--next--next--next-\n",
      "API calls:  2.7305748462677\n",
      "Total runs:  0\n",
      "Find new runs:  4.220008850097656e-05\n",
      "New runs:  0\n",
      "Inserting new runs:  1.430511474609375e-06\n",
      "-next--next--next--next--next-\n",
      "API calls:  2.6202454566955566\n",
      "Total runs:  4\n",
      "Find new runs:  2.86102294921875e-05\n",
      "New runs:  4\n",
      "Inserting new runs:  0.03431296348571777\n",
      "-next--next--next--next--next-\n",
      "API calls:  2.8106987476348877\n",
      "Total runs:  2\n",
      "Find new runs:  3.0040740966796875e-05\n",
      "New runs:  2\n",
      "Inserting new runs:  0.026209115982055664\n",
      "-next--next--next--next--next-\n",
      "API calls:  2.7179653644561768\n",
      "Total runs:  3\n",
      "Find new runs:  2.9087066650390625e-05\n",
      "New runs:  3\n",
      "Inserting new runs:  0.026698827743530273\n",
      "-next--next--next--next--next-\n",
      "API calls:  2.604154586791992\n",
      "Total runs:  1\n",
      "Find new runs:  2.6941299438476562e-05\n",
      "New runs:  1\n",
      "Inserting new runs:  0.026719093322753906\n",
      "-next--next--next--next--next-\n",
      "API calls:  2.5810391902923584\n",
      "Total runs:  0\n",
      "Find new runs:  1.811981201171875e-05\n",
      "New runs:  0\n",
      "Inserting new runs:  1.430511474609375e-06\n",
      "-next--next--next--next--next-\n",
      "API calls:  2.809041738510132\n",
      "Total runs:  2\n",
      "Find new runs:  6.270408630371094e-05\n",
      "New runs:  2\n",
      "Inserting new runs:  0.027166128158569336\n",
      "-next--next--next--next--next-\n",
      "API calls:  2.7022762298583984\n",
      "Total runs:  2\n",
      "Find new runs:  2.4318695068359375e-05\n",
      "New runs:  2\n",
      "Inserting new runs:  0.028373003005981445\n",
      "-next--next--next--next--next-\n",
      "==============================\n",
      "period 773, region kr\n",
      "getting DB data:  5.141881942749023\n",
      "API calls:  3.446834087371826\n",
      "Total runs:  6\n",
      "Find new runs:  3.457069396972656e-05\n",
      "New runs:  6\n",
      "Inserting new runs:  0.0338132381439209\n",
      "-next--next--next--next--next-\n",
      "API calls:  3.0122742652893066\n",
      "Total runs:  15\n",
      "Find new runs:  6.580352783203125e-05\n",
      "New runs:  15\n",
      "Inserting new runs:  0.050388336181640625\n",
      "-next--next--next--next--next-\n",
      "API calls:  3.0658676624298096\n",
      "Total runs:  1\n",
      "Find new runs:  4.220008850097656e-05\n",
      "New runs:  1\n",
      "Inserting new runs:  0.02721881866455078\n",
      "-next--next--next--next--next-\n",
      "API calls:  2.812382221221924\n",
      "Total runs:  6\n",
      "Find new runs:  3.266334533691406e-05\n",
      "New runs:  6\n",
      "Inserting new runs:  0.033249616622924805\n",
      "-next--next--next--next--next-\n",
      "API calls:  2.9191925525665283\n",
      "Total runs:  8\n",
      "Find new runs:  4.9114227294921875e-05\n",
      "New runs:  8\n",
      "Inserting new runs:  0.03581881523132324\n",
      "-next--next--next--next--next-\n",
      "API calls:  3.7425992488861084\n",
      "Total runs:  9\n",
      "Find new runs:  4.744529724121094e-05\n",
      "New runs:  9\n",
      "Inserting new runs:  0.0367131233215332\n",
      "-next--next--next--next--next-\n",
      "API calls:  2.771392583847046\n",
      "Total runs:  6\n",
      "Find new runs:  4.1484832763671875e-05\n",
      "New runs:  6\n",
      "Inserting new runs:  0.03559684753417969\n",
      "-next--next--next--next--next-\n",
      "API calls:  2.8371083736419678\n",
      "Total runs:  7\n",
      "Find new runs:  3.9577484130859375e-05\n",
      "New runs:  7\n",
      "Inserting new runs:  0.03374218940734863\n",
      "-next--next--next--next--next-\n",
      "API calls:  2.889991283416748\n",
      "Total runs:  2\n",
      "Find new runs:  2.8848648071289062e-05\n",
      "New runs:  2\n",
      "Inserting new runs:  0.026500225067138672\n",
      "-next--next--next--next--next-\n",
      "API calls:  2.7103044986724854\n",
      "Total runs:  4\n",
      "Find new runs:  2.7894973754882812e-05\n",
      "New runs:  4\n",
      "Inserting new runs:  0.03240633010864258\n",
      "-next--next--next--next--next-\n",
      "API calls:  2.806804895401001\n",
      "Total runs:  4\n",
      "Find new runs:  2.9802322387695312e-05\n",
      "New runs:  4\n",
      "Inserting new runs:  0.032877445220947266\n",
      "-next--next--next--next--next-\n"
     ]
    },
    {
     "name": "stdout",
     "output_type": "stream",
     "text": [
      "API calls:  3.028294801712036\n",
      "Total runs:  9\n",
      "Find new runs:  4.315376281738281e-05\n",
      "New runs:  9\n",
      "Inserting new runs:  0.046949148178100586\n",
      "-next--next--next--next--next-\n",
      "==============================\n",
      "448.74041175842285\n"
     ]
    }
   ],
   "source": [
    "t0 = time.time()\n",
    "importlib.reload(blizzard_api)\n",
    "importlib.reload(tasks)\n",
    "importlib.reload(blizzard_credentials)\n",
    "period = tasks.main_method()\n",
    "print(time.time() - t0)"
   ]
  },
  {
   "cell_type": "code",
   "execution_count": 6,
   "metadata": {},
   "outputs": [
    {
     "data": {
      "text/plain": [
       "773"
      ]
     },
     "execution_count": 6,
     "metadata": {},
     "output_type": "execute_result"
    }
   ],
   "source": [
    "importlib.reload(blizzard_api)\n",
    "caller = blizzard_api.Caller()\n",
    "caller.get_current_period('us')\n",
    "#caller.get_dungeons()"
   ]
  },
  {
   "cell_type": "code",
   "execution_count": null,
   "metadata": {},
   "outputs": [],
   "source": [
    "#JSONDecodeError"
   ]
  },
  {
   "cell_type": "code",
   "execution_count": 24,
   "metadata": {},
   "outputs": [
    {
     "ename": "AttributeError",
     "evalue": "'tuple' object has no attribute 'summary'",
     "output_type": "error",
     "traceback": [
      "\u001b[0;31m---------------------------------------------------------------------------\u001b[0m",
      "\u001b[0;31mAttributeError\u001b[0m                            Traceback (most recent call last)",
      "\u001b[0;32m<ipython-input-24-b5180656e610>\u001b[0m in \u001b[0;36m<module>\u001b[0;34m\u001b[0m\n\u001b[0;32m----> 1\u001b[0;31m \u001b[0mperiods\u001b[0m\u001b[0;34m.\u001b[0m\u001b[0msummary\u001b[0m\u001b[0;34m(\u001b[0m\u001b[0;34m)\u001b[0m\u001b[0;34m\u001b[0m\u001b[0;34m\u001b[0m\u001b[0m\n\u001b[0m",
      "\u001b[0;31mAttributeError\u001b[0m: 'tuple' object has no attribute 'summary'"
     ]
    }
   ],
   "source": [
    "periods.summary()"
   ]
  },
  {
   "cell_type": "code",
   "execution_count": 13,
   "metadata": {},
   "outputs": [],
   "source": [
    "importlib.reload(blizzard_api)\n",
    "caller = blizzard_api.Caller()"
   ]
  },
  {
   "cell_type": "code",
   "execution_count": 98,
   "metadata": {},
   "outputs": [
    {
     "data": {
      "text/plain": [
       "'12,165,132,165,165'"
      ]
     },
     "execution_count": 98,
     "metadata": {},
     "output_type": "execute_result"
    }
   ],
   "source": [
    "\"{x}{y:,}\".format(x=1, y=2165132165165)"
   ]
  },
  {
   "cell_type": "code",
   "execution_count": 104,
   "metadata": {},
   "outputs": [
    {
     "data": {
      "text/plain": [
       "['11', '22', '33']"
      ]
     },
     "execution_count": 104,
     "metadata": {},
     "output_type": "execute_result"
    }
   ],
   "source": [
    "x = [1,2,3]\n",
    "y = [1,2,3]\n",
    "\n",
    "[\"{x}{y}\".format(x=a[1],y=a[0]) for a in zip(x,y)]"
   ]
  },
  {
   "cell_type": "code",
   "execution_count": null,
   "metadata": {},
   "outputs": [],
   "source": []
  }
 ],
 "metadata": {
  "kernelspec": {
   "display_name": "Python 3",
   "language": "python",
   "name": "python3"
  },
  "language_info": {
   "codemirror_mode": {
    "name": "ipython",
    "version": 3
   },
   "file_extension": ".py",
   "mimetype": "text/x-python",
   "name": "python",
   "nbconvert_exporter": "python",
   "pygments_lexer": "ipython3",
   "version": "3.6.9"
  }
 },
 "nbformat": 4,
 "nbformat_minor": 4
}

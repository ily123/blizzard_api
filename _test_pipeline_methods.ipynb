{
 "cells": [
  {
   "cell_type": "code",
   "execution_count": 2,
   "metadata": {},
   "outputs": [],
   "source": [
    "import importlib\n",
    "import tasks\n",
    "import blizzard_api\n",
    "import time"
   ]
  },
  {
   "cell_type": "code",
   "execution_count": null,
   "metadata": {
    "scrolled": false
   },
   "outputs": [
    {
     "name": "stdout",
     "output_type": "stream",
     "text": [
      "period 772, region us\n",
      "getting DB data:  5.3633129596710205\n",
      "API calls:  18.17652678489685\n",
      "Total runs:  4410\n",
      "Find new runs:  0.05217480659484863\n",
      "New runs:  180\n",
      "Inserting new runs:  0.26131176948547363\n",
      "-next--next--next--next--next-\n",
      "API calls:  19.3294997215271\n",
      "Total runs:  5668\n",
      "Find new runs:  0.08068013191223145\n",
      "New runs:  202\n",
      "Inserting new runs:  0.23296403884887695\n",
      "-next--next--next--next--next-\n",
      "API calls:  12.170619487762451\n",
      "Total runs:  2709\n",
      "Find new runs:  0.024280071258544922\n",
      "New runs:  110\n",
      "Inserting new runs:  0.14786410331726074\n",
      "-next--next--next--next--next-\n",
      "API calls:  16.661054134368896\n",
      "Total runs:  4437\n",
      "Find new runs:  0.052731990814208984\n",
      "New runs:  180\n",
      "Inserting new runs:  0.23552942276000977\n",
      "-next--next--next--next--next-\n",
      "API calls:  14.719686031341553\n",
      "Total runs:  3930\n",
      "Find new runs:  0.052417755126953125\n",
      "New runs:  174\n",
      "Inserting new runs:  0.24429798126220703\n",
      "-next--next--next--next--next-\n",
      "API calls:  16.67359709739685\n",
      "Total runs:  3866\n",
      "Find new runs:  0.04413127899169922\n",
      "New runs:  158\n",
      "Inserting new runs:  0.21871042251586914\n",
      "-next--next--next--next--next-\n",
      "API calls:  13.760051727294922\n",
      "Total runs:  3801\n",
      "Find new runs:  0.04300856590270996\n",
      "New runs:  126\n",
      "Inserting new runs:  0.1622788906097412\n",
      "-next--next--next--next--next-\n",
      "API calls:  17.17482590675354\n",
      "Total runs:  4115\n",
      "Find new runs:  0.04584193229675293\n",
      "New runs:  160\n",
      "Inserting new runs:  0.23641228675842285\n",
      "-next--next--next--next--next-\n",
      "API calls:  12.85026478767395\n",
      "Total runs:  2918\n",
      "Find new runs:  0.03207707405090332\n",
      "New runs:  150\n",
      "Inserting new runs:  0.2602381706237793\n",
      "-next--next--next--next--next-\n",
      "API calls:  10.434095621109009\n",
      "Total runs:  2748\n",
      "Find new runs:  0.027933597564697266\n",
      "New runs:  114\n",
      "Inserting new runs:  0.15343928337097168\n",
      "-next--next--next--next--next-\n",
      "API calls:  9.743749141693115\n",
      "Total runs:  2607\n",
      "Find new runs:  0.029910802841186523\n",
      "New runs:  162\n",
      "Inserting new runs:  0.22197198867797852\n",
      "-next--next--next--next--next-\n",
      "API calls:  12.90653681755066\n",
      "Total runs:  4247\n",
      "Find new runs:  0.050423622131347656\n",
      "New runs:  177\n",
      "Inserting new runs:  0.2610156536102295\n",
      "-next--next--next--next--next-\n",
      "==============================\n",
      "period 772, region eu\n",
      "getting DB data:  5.301917314529419\n",
      "Leaderboard parse error: KeyError '_links'\n",
      "Leaderboard parse error: KeyError '_links'\n",
      "Leaderboard parse error: KeyError '_links'\n",
      "Leaderboard parse error: KeyError '_links'\n",
      "Leaderboard parse error: KeyError '_links'\n",
      "Leaderboard parse error: KeyError '_links'\n",
      "Leaderboard parse error: KeyError '_links'\n",
      "Leaderboard parse error: KeyError '_links'\n",
      "Leaderboard parse error: KeyError '_links'\n",
      "Leaderboard parse error: KeyError '_links'\n",
      "API calls:  18.92030143737793\n",
      "Total runs:  4842\n",
      "Find new runs:  0.03549671173095703\n",
      "New runs:  67\n",
      "Inserting new runs:  0.11188244819641113\n",
      "-next--next--next--next--next-\n",
      "Leaderboard parse error: KeyError '_links'\n",
      "Leaderboard parse error: KeyError '_links'\n",
      "Leaderboard parse error: KeyError '_links'\n",
      "Leaderboard parse error: KeyError '_links'\n",
      "Leaderboard parse error: KeyError '_links'\n",
      "Leaderboard parse error: KeyError '_links'\n",
      "Leaderboard parse error: KeyError '_links'\n",
      "Leaderboard parse error: KeyError '_links'\n",
      "Leaderboard parse error: KeyError '_links'\n",
      "Leaderboard parse error: KeyError '_links'\n",
      "API calls:  23.763141632080078\n",
      "Total runs:  6068\n",
      "Find new runs:  0.0375521183013916\n",
      "New runs:  66\n",
      "Inserting new runs:  0.08278989791870117\n",
      "-next--next--next--next--next-\n",
      "Leaderboard parse error: KeyError '_links'\n",
      "Leaderboard parse error: KeyError '_links'\n",
      "Leaderboard parse error: KeyError '_links'\n",
      "Leaderboard parse error: KeyError '_links'\n",
      "Leaderboard parse error: KeyError '_links'\n",
      "Leaderboard parse error: KeyError '_links'\n",
      "Leaderboard parse error: KeyError '_links'\n",
      "Leaderboard parse error: KeyError '_links'\n",
      "Leaderboard parse error: KeyError '_links'\n",
      "Leaderboard parse error: KeyError '_links'\n",
      "API calls:  20.22337532043457\n",
      "Total runs:  2581\n",
      "Find new runs:  0.013416051864624023\n",
      "New runs:  37\n",
      "Inserting new runs:  0.05457043647766113\n",
      "-next--next--next--next--next-\n",
      "Leaderboard parse error: KeyError '_links'\n",
      "Leaderboard parse error: KeyError '_links'\n",
      "Leaderboard parse error: KeyError '_links'\n",
      "Leaderboard parse error: KeyError '_links'\n",
      "Leaderboard parse error: KeyError '_links'\n",
      "Leaderboard parse error: KeyError '_links'\n",
      "Leaderboard parse error: KeyError '_links'\n",
      "Leaderboard parse error: KeyError '_links'\n",
      "Leaderboard parse error: KeyError '_links'\n",
      "Leaderboard parse error: KeyError '_links'\n",
      "API calls:  24.689398527145386\n",
      "Total runs:  4622\n",
      "Find new runs:  0.029497385025024414\n",
      "New runs:  60\n",
      "Inserting new runs:  0.09646487236022949\n",
      "-next--next--next--next--next-\n",
      "Leaderboard parse error: KeyError '_links'\n",
      "Leaderboard parse error: KeyError '_links'\n",
      "Leaderboard parse error: KeyError '_links'\n",
      "Leaderboard parse error: KeyError '_links'\n",
      "Leaderboard parse error: KeyError '_links'\n",
      "Leaderboard parse error: KeyError '_links'\n",
      "Leaderboard parse error: KeyError '_links'\n",
      "Leaderboard parse error: KeyError '_links'\n",
      "Leaderboard parse error: KeyError '_links'\n",
      "Leaderboard parse error: KeyError '_links'\n",
      "API calls:  18.52191662788391\n",
      "Total runs:  4261\n",
      "Find new runs:  0.024536848068237305\n",
      "New runs:  46\n",
      "Inserting new runs:  0.08762979507446289\n",
      "-next--next--next--next--next-\n",
      "Leaderboard parse error: KeyError '_links'\n",
      "Leaderboard parse error: KeyError '_links'\n",
      "Leaderboard parse error: KeyError '_links'\n",
      "Leaderboard parse error: KeyError '_links'\n",
      "Leaderboard parse error: KeyError '_links'\n",
      "Leaderboard parse error: KeyError '_links'\n",
      "Leaderboard parse error: KeyError '_links'\n",
      "Leaderboard parse error: KeyError '_links'\n",
      "Leaderboard parse error: KeyError '_links'\n",
      "Leaderboard parse error: KeyError '_links'\n",
      "API calls:  22.85654902458191\n",
      "Total runs:  4117\n",
      "Find new runs:  0.021479368209838867\n",
      "New runs:  47\n",
      "Inserting new runs:  0.08074784278869629\n",
      "-next--next--next--next--next-\n",
      "Leaderboard parse error: KeyError '_links'\n",
      "Leaderboard parse error: KeyError '_links'\n",
      "Leaderboard parse error: KeyError '_links'\n",
      "Leaderboard parse error: KeyError '_links'\n",
      "Leaderboard parse error: KeyError '_links'\n",
      "Leaderboard parse error: KeyError '_links'\n",
      "Leaderboard parse error: KeyError '_links'\n",
      "Leaderboard parse error: KeyError '_links'\n",
      "Leaderboard parse error: KeyError '_links'\n",
      "Leaderboard parse error: KeyError '_links'\n",
      "API calls:  25.687886714935303\n",
      "Total runs:  4155\n",
      "Find new runs:  0.024827957153320312\n",
      "New runs:  65\n",
      "Inserting new runs:  0.0999152660369873\n",
      "-next--next--next--next--next-\n"
     ]
    }
   ],
   "source": [
    "t0 = time.time()\n",
    "importlib.reload(blizzard_api)\n",
    "importlib.reload(tasks)\n",
    "period = tasks.main_method()\n",
    "print(time.time() - t0)"
   ]
  },
  {
   "cell_type": "code",
   "execution_count": 35,
   "metadata": {},
   "outputs": [
    {
     "data": {
      "text/plain": [
       "770"
      ]
     },
     "execution_count": 35,
     "metadata": {},
     "output_type": "execute_result"
    }
   ],
   "source": [
    "importlib.reload(blizzard_api)\n",
    "caller = blizzard_api.Caller()\n",
    "caller.get_current_period('us')\n",
    "#caller.get_dungeons()"
   ]
  },
  {
   "cell_type": "code",
   "execution_count": null,
   "metadata": {},
   "outputs": [],
   "source": [
    "#JSONDecodeError"
   ]
  },
  {
   "cell_type": "code",
   "execution_count": 24,
   "metadata": {},
   "outputs": [
    {
     "ename": "AttributeError",
     "evalue": "'tuple' object has no attribute 'summary'",
     "output_type": "error",
     "traceback": [
      "\u001b[0;31m---------------------------------------------------------------------------\u001b[0m",
      "\u001b[0;31mAttributeError\u001b[0m                            Traceback (most recent call last)",
      "\u001b[0;32m<ipython-input-24-b5180656e610>\u001b[0m in \u001b[0;36m<module>\u001b[0;34m\u001b[0m\n\u001b[0;32m----> 1\u001b[0;31m \u001b[0mperiods\u001b[0m\u001b[0;34m.\u001b[0m\u001b[0msummary\u001b[0m\u001b[0;34m(\u001b[0m\u001b[0;34m)\u001b[0m\u001b[0;34m\u001b[0m\u001b[0;34m\u001b[0m\u001b[0m\n\u001b[0m",
      "\u001b[0;31mAttributeError\u001b[0m: 'tuple' object has no attribute 'summary'"
     ]
    }
   ],
   "source": [
    "periods.summary()"
   ]
  },
  {
   "cell_type": "code",
   "execution_count": 13,
   "metadata": {},
   "outputs": [],
   "source": [
    "importlib.reload(blizzard_api)\n",
    "caller = blizzard_api.Caller()"
   ]
  },
  {
   "cell_type": "code",
   "execution_count": 98,
   "metadata": {},
   "outputs": [
    {
     "data": {
      "text/plain": [
       "'12,165,132,165,165'"
      ]
     },
     "execution_count": 98,
     "metadata": {},
     "output_type": "execute_result"
    }
   ],
   "source": [
    "\"{x}{y:,}\".format(x=1, y=2165132165165)"
   ]
  },
  {
   "cell_type": "code",
   "execution_count": 104,
   "metadata": {},
   "outputs": [
    {
     "data": {
      "text/plain": [
       "['11', '22', '33']"
      ]
     },
     "execution_count": 104,
     "metadata": {},
     "output_type": "execute_result"
    }
   ],
   "source": [
    "x = [1,2,3]\n",
    "y = [1,2,3]\n",
    "\n",
    "[\"{x}{y}\".format(x=a[1],y=a[0]) for a in zip(x,y)]"
   ]
  },
  {
   "cell_type": "code",
   "execution_count": null,
   "metadata": {},
   "outputs": [],
   "source": []
  }
 ],
 "metadata": {
  "kernelspec": {
   "display_name": "Python 3",
   "language": "python",
   "name": "python3"
  },
  "language_info": {
   "codemirror_mode": {
    "name": "ipython",
    "version": 3
   },
   "file_extension": ".py",
   "mimetype": "text/x-python",
   "name": "python",
   "nbconvert_exporter": "python",
   "pygments_lexer": "ipython3",
   "version": "3.6.9"
  }
 },
 "nbformat": 4,
 "nbformat_minor": 4
}

{
 "cells": [
  {
   "cell_type": "code",
   "execution_count": 26,
   "metadata": {},
   "outputs": [],
   "source": [
    "import importlib\n",
    "import tasks\n",
    "import blizzard_api\n",
    "import time"
   ]
  },
  {
   "cell_type": "code",
   "execution_count": 42,
   "metadata": {},
   "outputs": [
    {
     "data": {
      "text/plain": [
       "360"
      ]
     },
     "execution_count": 42,
     "metadata": {},
     "output_type": "execute_result"
    }
   ],
   "source": [
    "30 * 12"
   ]
  },
  {
   "cell_type": "code",
   "execution_count": null,
   "metadata": {
    "scrolled": false
   },
   "outputs": [
    {
     "name": "stdout",
     "output_type": "stream",
     "text": [
      "period 771, region us\n",
      "getting DB data:  5.124536991119385\n",
      "API calls:  8.657908916473389\n",
      "Total runs:  1053\n",
      "Find new runs:  0.0021028518676757812\n",
      "New runs:  4\n",
      "Inserting new runs:  0.02297234535217285\n",
      "-next--next--next--next--next-\n",
      "API calls:  13.235432624816895\n",
      "Total runs:  1645\n",
      "Find new runs:  0.0024580955505371094\n",
      "New runs:  2\n",
      "Inserting new runs:  0.027080297470092773\n",
      "-next--next--next--next--next-\n",
      "API calls:  8.959577322006226\n",
      "Total runs:  709\n",
      "Find new runs:  0.002072572708129883\n",
      "New runs:  8\n",
      "Inserting new runs:  0.026392459869384766\n",
      "-next--next--next--next--next-\n",
      "API calls:  9.580230474472046\n",
      "Total runs:  1177\n",
      "Find new runs:  0.002941608428955078\n",
      "New runs:  18\n",
      "Inserting new runs:  0.04527926445007324\n",
      "-next--next--next--next--next-\n",
      "API calls:  8.857697486877441\n",
      "Total runs:  1027\n",
      "Find new runs:  0.0025856494903564453\n",
      "New runs:  13\n",
      "Inserting new runs:  0.03763914108276367\n",
      "-next--next--next--next--next-\n",
      "API calls:  6.283657550811768\n",
      "Total runs:  827\n",
      "Find new runs:  0.0019791126251220703\n",
      "New runs:  11\n",
      "Inserting new runs:  0.03516125679016113\n",
      "-next--next--next--next--next-\n",
      "API calls:  7.830559968948364\n",
      "Total runs:  933\n",
      "Find new runs:  0.00283050537109375\n",
      "New runs:  23\n",
      "Inserting new runs:  0.0415492057800293\n",
      "-next--next--next--next--next-\n",
      "API calls:  7.987995624542236\n",
      "Total runs:  951\n",
      "Find new runs:  0.0027337074279785156\n",
      "New runs:  13\n",
      "Inserting new runs:  0.03362846374511719\n",
      "-next--next--next--next--next-\n",
      "API calls:  7.563380718231201\n",
      "Total runs:  642\n",
      "Find new runs:  0.0016236305236816406\n",
      "New runs:  7\n",
      "Inserting new runs:  0.02663564682006836\n",
      "-next--next--next--next--next-\n",
      "API calls:  6.540304899215698\n",
      "Total runs:  629\n",
      "Find new runs:  0.0017840862274169922\n",
      "New runs:  8\n",
      "Inserting new runs:  0.02832317352294922\n",
      "-next--next--next--next--next-\n",
      "API calls:  8.860472917556763\n",
      "Total runs:  942\n",
      "Find new runs:  0.0024788379669189453\n",
      "New runs:  13\n",
      "Inserting new runs:  0.026576757431030273\n",
      "-next--next--next--next--next-\n",
      "API calls:  8.730916261672974\n",
      "Total runs:  981\n",
      "Find new runs:  0.002460479736328125\n",
      "New runs:  15\n",
      "Inserting new runs:  0.03871774673461914\n",
      "-next--next--next--next--next-\n",
      "==============================\n",
      "period 771, region eu\n",
      "getting DB data:  5.196380615234375\n",
      "API calls:  4.0008955001831055\n",
      "Total runs:  24\n",
      "Find new runs:  0.00010538101196289062\n",
      "New runs:  13\n",
      "Inserting new runs:  0.03227829933166504\n",
      "-next--next--next--next--next-\n",
      "API calls:  3.77958607673645\n",
      "Total runs:  42\n",
      "Find new runs:  0.00012826919555664062\n",
      "New runs:  25\n",
      "Inserting new runs:  0.05760669708251953\n",
      "-next--next--next--next--next-\n",
      "API calls:  3.4660651683807373\n",
      "Total runs:  7\n",
      "Find new runs:  6.461143493652344e-05\n",
      "New runs:  2\n",
      "Inserting new runs:  0.026458740234375\n",
      "-next--next--next--next--next-\n",
      "API calls:  4.399264812469482\n",
      "Total runs:  27\n",
      "Find new runs:  5.3882598876953125e-05\n",
      "New runs:  14\n",
      "Inserting new runs:  0.04485774040222168\n",
      "-next--next--next--next--next-\n",
      "API calls:  4.595806121826172\n",
      "Total runs:  11\n",
      "Find new runs:  4.553794860839844e-05\n",
      "New runs:  9\n",
      "Inserting new runs:  0.0356142520904541\n",
      "-next--next--next--next--next-\n",
      "API calls:  3.7882423400878906\n",
      "Total runs:  13\n",
      "Find new runs:  3.886222839355469e-05\n",
      "New runs:  12\n",
      "Inserting new runs:  0.0288693904876709\n",
      "-next--next--next--next--next-\n",
      "API calls:  3.398083209991455\n",
      "Total runs:  13\n",
      "Find new runs:  6.771087646484375e-05\n",
      "New runs:  7\n",
      "Inserting new runs:  0.03469514846801758\n",
      "-next--next--next--next--next-\n"
     ]
    }
   ],
   "source": [
    "t0 = time.time()\n",
    "importlib.reload(tasks)\n",
    "period = tasks.main_method()\n",
    "print(time.time() - t0)"
   ]
  },
  {
   "cell_type": "code",
   "execution_count": 35,
   "metadata": {},
   "outputs": [
    {
     "data": {
      "text/plain": [
       "770"
      ]
     },
     "execution_count": 35,
     "metadata": {},
     "output_type": "execute_result"
    }
   ],
   "source": [
    "importlib.reload(blizzard_api)\n",
    "caller = blizzard_api.Caller()\n",
    "caller.get_current_period('us')\n",
    "#caller.get_dungeons()"
   ]
  },
  {
   "cell_type": "code",
   "execution_count": 24,
   "metadata": {},
   "outputs": [
    {
     "ename": "AttributeError",
     "evalue": "'tuple' object has no attribute 'summary'",
     "output_type": "error",
     "traceback": [
      "\u001b[0;31m---------------------------------------------------------------------------\u001b[0m",
      "\u001b[0;31mAttributeError\u001b[0m                            Traceback (most recent call last)",
      "\u001b[0;32m<ipython-input-24-b5180656e610>\u001b[0m in \u001b[0;36m<module>\u001b[0;34m\u001b[0m\n\u001b[0;32m----> 1\u001b[0;31m \u001b[0mperiods\u001b[0m\u001b[0;34m.\u001b[0m\u001b[0msummary\u001b[0m\u001b[0;34m(\u001b[0m\u001b[0;34m)\u001b[0m\u001b[0;34m\u001b[0m\u001b[0;34m\u001b[0m\u001b[0m\n\u001b[0m",
      "\u001b[0;31mAttributeError\u001b[0m: 'tuple' object has no attribute 'summary'"
     ]
    }
   ],
   "source": [
    "periods.summary()"
   ]
  },
  {
   "cell_type": "code",
   "execution_count": 13,
   "metadata": {},
   "outputs": [],
   "source": [
    "importlib.reload(blizzard_api)\n",
    "caller = blizzard_api.Caller()"
   ]
  }
 ],
 "metadata": {
  "kernelspec": {
   "display_name": "Python 3",
   "language": "python",
   "name": "python3"
  },
  "language_info": {
   "codemirror_mode": {
    "name": "ipython",
    "version": 3
   },
   "file_extension": ".py",
   "mimetype": "text/x-python",
   "name": "python",
   "nbconvert_exporter": "python",
   "pygments_lexer": "ipython3",
   "version": "3.6.9"
  }
 },
 "nbformat": 4,
 "nbformat_minor": 4
}

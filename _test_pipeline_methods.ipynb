{
 "cells": [
  {
   "cell_type": "code",
   "execution_count": 26,
   "metadata": {},
   "outputs": [],
   "source": [
    "import importlib\n",
    "import tasks\n",
    "import blizzard_api\n",
    "import time"
   ]
  },
  {
   "cell_type": "code",
   "execution_count": 42,
   "metadata": {},
   "outputs": [
    {
     "data": {
      "text/plain": [
       "360"
      ]
     },
     "execution_count": 42,
     "metadata": {},
     "output_type": "execute_result"
    }
   ],
   "source": [
    "30 * 12"
   ]
  },
  {
   "cell_type": "code",
   "execution_count": 71,
   "metadata": {
    "scrolled": false
   },
   "outputs": [
    {
     "name": "stdout",
     "output_type": "stream",
     "text": [
      "period 770, region eu\n",
      "getting DB data:  5.225879192352295\n",
      "API calls:  78.80692458152771\n",
      "Total runs:  13490\n",
      "Find new runs:  0.04879927635192871\n",
      "New runs:  4\n",
      "Inserting new runs:  0.025300264358520508\n",
      "-next--next--next--next--next-\n",
      "API calls:  72.00799798965454\n",
      "Total runs:  16928\n",
      "Find new runs:  0.07259035110473633\n",
      "New runs:  8\n",
      "Inserting new runs:  0.027054309844970703\n",
      "-next--next--next--next--next-\n",
      "API calls:  54.387749671936035\n",
      "Total runs:  10823\n",
      "Find new runs:  0.04050922393798828\n",
      "New runs:  2\n",
      "Inserting new runs:  0.020763874053955078\n",
      "-next--next--next--next--next-\n",
      "API calls:  69.78573560714722\n",
      "Total runs:  13217\n",
      "Find new runs:  0.0498507022857666\n",
      "New runs:  3\n",
      "Inserting new runs:  0.022057533264160156\n",
      "-next--next--next--next--next-\n",
      "API calls:  60.16125798225403\n",
      "Total runs:  13099\n",
      "Find new runs:  0.045809030532836914\n",
      "New runs:  3\n",
      "Inserting new runs:  0.023678302764892578\n",
      "-next--next--next--next--next-\n",
      "API calls:  61.91323637962341\n",
      "Total runs:  12255\n",
      "Find new runs:  0.04334568977355957\n",
      "New runs:  2\n",
      "Inserting new runs:  0.020595550537109375\n",
      "-next--next--next--next--next-\n",
      "API calls:  53.93889832496643\n",
      "Total runs:  12719\n",
      "Find new runs:  0.04729294776916504\n",
      "New runs:  5\n",
      "Inserting new runs:  0.020285606384277344\n",
      "-next--next--next--next--next-\n",
      "API calls:  62.12829279899597\n",
      "Total runs:  12996\n",
      "Find new runs:  0.04900979995727539\n",
      "New runs:  5\n",
      "Inserting new runs:  0.025148868560791016\n",
      "-next--next--next--next--next-\n",
      "API calls:  42.98976683616638\n",
      "Total runs:  9595\n",
      "Find new runs:  0.039793968200683594\n",
      "New runs:  3\n",
      "Inserting new runs:  0.023372650146484375\n",
      "-next--next--next--next--next-\n",
      "API calls:  39.398003339767456\n",
      "Total runs:  8942\n",
      "Find new runs:  0.03931260108947754\n",
      "New runs:  4\n",
      "Inserting new runs:  0.02063894271850586\n",
      "-next--next--next--next--next-\n",
      "API calls:  55.267738580703735\n",
      "Total runs:  12332\n",
      "Find new runs:  0.04942035675048828\n",
      "New runs:  10\n",
      "Inserting new runs:  0.03062272071838379\n",
      "-next--next--next--next--next-\n",
      "API calls:  59.26131224632263\n",
      "Total runs:  13217\n",
      "Find new runs:  0.045513153076171875\n",
      "New runs:  2\n",
      "Inserting new runs:  0.02132439613342285\n",
      "-next--next--next--next--next-\n",
      "==============================\n",
      "718.1993942260742\n"
     ]
    }
   ],
   "source": [
    "t0 = time.time()\n",
    "importlib.reload(tasks)\n",
    "period = tasks.main_method()\n",
    "print(time.time() - t0)"
   ]
  },
  {
   "cell_type": "code",
   "execution_count": 35,
   "metadata": {},
   "outputs": [
    {
     "data": {
      "text/plain": [
       "770"
      ]
     },
     "execution_count": 35,
     "metadata": {},
     "output_type": "execute_result"
    }
   ],
   "source": [
    "importlib.reload(blizzard_api)\n",
    "caller = blizzard_api.Caller()\n",
    "caller.get_current_period('us')\n",
    "#caller.get_dungeons()"
   ]
  },
  {
   "cell_type": "code",
   "execution_count": 24,
   "metadata": {},
   "outputs": [
    {
     "ename": "AttributeError",
     "evalue": "'tuple' object has no attribute 'summary'",
     "output_type": "error",
     "traceback": [
      "\u001b[0;31m---------------------------------------------------------------------------\u001b[0m",
      "\u001b[0;31mAttributeError\u001b[0m                            Traceback (most recent call last)",
      "\u001b[0;32m<ipython-input-24-b5180656e610>\u001b[0m in \u001b[0;36m<module>\u001b[0;34m\u001b[0m\n\u001b[0;32m----> 1\u001b[0;31m \u001b[0mperiods\u001b[0m\u001b[0;34m.\u001b[0m\u001b[0msummary\u001b[0m\u001b[0;34m(\u001b[0m\u001b[0;34m)\u001b[0m\u001b[0;34m\u001b[0m\u001b[0;34m\u001b[0m\u001b[0m\n\u001b[0m",
      "\u001b[0;31mAttributeError\u001b[0m: 'tuple' object has no attribute 'summary'"
     ]
    }
   ],
   "source": [
    "periods.summary()"
   ]
  },
  {
   "cell_type": "code",
   "execution_count": 13,
   "metadata": {},
   "outputs": [],
   "source": [
    "importlib.reload(blizzard_api)\n",
    "caller = blizzard_api.Caller()"
   ]
  }
 ],
 "metadata": {
  "kernelspec": {
   "display_name": "Python 3",
   "language": "python",
   "name": "python3"
  },
  "language_info": {
   "codemirror_mode": {
    "name": "ipython",
    "version": 3
   },
   "file_extension": ".py",
   "mimetype": "text/x-python",
   "name": "python",
   "nbconvert_exporter": "python",
   "pygments_lexer": "ipython3",
   "version": "3.6.9"
  }
 },
 "nbformat": 4,
 "nbformat_minor": 4
}

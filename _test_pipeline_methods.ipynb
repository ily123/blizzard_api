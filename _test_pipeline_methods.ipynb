{
 "cells": [
  {
   "cell_type": "markdown",
   "metadata": {},
   "source": [
    "This notebook does two things:\n",
    "\n",
    "1. Provides examples to use the code\n",
    "2. Doubles as a code tester"
   ]
  },
  {
   "cell_type": "code",
   "execution_count": 2,
   "metadata": {},
   "outputs": [],
   "source": [
    "import importlib\n",
    "import blizz_api\n",
    "import time\n",
    "import blizz_credentials\n",
    "import blizz_parser\n",
    "import mplusdb\n",
    "\n",
    "import pandas as pd"
   ]
  },
  {
   "cell_type": "markdown",
   "metadata": {},
   "source": [
    "### blizzard_credentials"
   ]
  },
  {
   "cell_type": "code",
   "execution_count": null,
   "metadata": {},
   "outputs": [],
   "source": [
    "# API access token getter\n",
    "auth = blizzard_credentials.Credentials(\"config/blizzard_api_access.ini\")\n",
    "api_token = auth.access_token\n",
    "print(api_token) # token is valid for 24 hrs"
   ]
  },
  {
   "cell_type": "markdown",
   "metadata": {},
   "source": [
    "### blizzard_api"
   ]
  },
  {
   "cell_type": "code",
   "execution_count": null,
   "metadata": {},
   "outputs": [],
   "source": [
    "### URL factory -- constructs API urls for the caller\n",
    "importlib.reload(blizzard_api)\n",
    "importlib.reload(blizz_parser)\n",
    "url_factory = blizzard_api.UrlFactory(access_token = api_token, region = 'us')\n",
    "print(url_factory.get_connected_realm_url(realm_id = 1234))\n",
    "print(url_factory.get_spec_url(spec_id = 1234))\n",
    "#help(url_factory)"
   ]
  },
  {
   "cell_type": "code",
   "execution_count": null,
   "metadata": {},
   "outputs": [],
   "source": [
    "# set up caller\n",
    "importlib.reload(blizzard_api)\n",
    "importlib.reload(blizz_parser)\n",
    "caller = blizzard_api.Caller(access_token = api_token)"
   ]
  },
  {
   "cell_type": "code",
   "execution_count": null,
   "metadata": {},
   "outputs": [],
   "source": [
    "# get spec names and ids\n",
    "importlib.reload(blizzard_api)\n",
    "caller = blizzard_api.Caller(access_token = api_token)\n",
    "result = caller.get_spec_ids()\n",
    "pd.DataFrame(result).head()"
   ]
  },
  {
   "cell_type": "code",
   "execution_count": null,
   "metadata": {},
   "outputs": [],
   "source": [
    "# get full info for a spec using spec id\n",
    "importlib.reload(blizzard_api)\n",
    "caller = blizzard_api.Caller(access_token = api_token)\n",
    "result = caller.get_spec_by_id(spec_id = 62)\n",
    "result"
   ]
  },
  {
   "cell_type": "code",
   "execution_count": null,
   "metadata": {},
   "outputs": [],
   "source": [
    "# get full info for all specs\n",
    "importlib.reload(blizzard_api)\n",
    "caller = blizzard_api.Caller(access_token = api_token)\n",
    "result = caller.get_class_spec_table()\n",
    "pd.DataFrame(result).head()"
   ]
  },
  {
   "cell_type": "code",
   "execution_count": null,
   "metadata": {},
   "outputs": [],
   "source": [
    "# get list of all timeperiods for region\n",
    "importlib.reload(blizzard_api)\n",
    "caller = blizzard_api.Caller(access_token = api_token)\n",
    "result = caller.get_period_ids(region = \"us\")\n",
    "print(result)"
   ]
  },
  {
   "cell_type": "code",
   "execution_count": null,
   "metadata": {},
   "outputs": [],
   "source": [
    "# get current period (week id) for region\n",
    "importlib.reload(blizzard_api)\n",
    "caller = blizzard_api.Caller(access_token = api_token)\n",
    "result = caller.get_current_period(region = \"us\")\n",
    "result"
   ]
  },
  {
   "cell_type": "code",
   "execution_count": null,
   "metadata": {},
   "outputs": [],
   "source": [
    "# get timestamps for period\n",
    "importlib.reload(blizzard_api)\n",
    "caller = blizzard_api.Caller(access_token = api_token)\n",
    "result = caller.get_period_startend(region = \"us\", period=773)\n",
    "result"
   ]
  },
  {
   "cell_type": "code",
   "execution_count": null,
   "metadata": {},
   "outputs": [],
   "source": [
    "# get dungeon ids (for the current expansion)\n",
    "importlib.reload(blizzard_api)\n",
    "caller = blizzard_api.Caller(access_token = api_token)\n",
    "result = caller.get_dungeons()\n",
    "pd.DataFrame(result).head()"
   ]
  },
  {
   "cell_type": "code",
   "execution_count": null,
   "metadata": {},
   "outputs": [],
   "source": [
    "# get list of shard ids\n",
    "importlib.reload(blizzard_api)\n",
    "caller = blizzard_api.Caller(access_token = api_token)\n",
    "result = caller.get_connected_realm_ids(region = \"us\")\n",
    "print(result)"
   ]
  },
  {
   "cell_type": "code",
   "execution_count": null,
   "metadata": {},
   "outputs": [],
   "source": [
    "# get list of old realms inside a shard\n",
    "importlib.reload(blizzard_api)\n",
    "caller = blizzard_api.Caller(access_token = api_token)\n",
    "result = caller.get_connected_realm(region = \"us\", realm_id=4)\n",
    "pd.DataFrame(result)"
   ]
  },
  {
   "cell_type": "code",
   "execution_count": null,
   "metadata": {},
   "outputs": [],
   "source": [
    "# get all realms/clusters\n",
    "importlib.reload(blizzard_api)\n",
    "caller = blizzard_api.Caller(access_token = api_token)\n",
    "result = caller.get_connected_realms(region = \"us\")\n",
    "pd.DataFrame(result)"
   ]
  },
  {
   "cell_type": "code",
   "execution_count": null,
   "metadata": {},
   "outputs": [],
   "source": [
    "# get leaderboard -- returns a KeyRunLeaderboard object\n",
    "importlib.reload(blizz_parser)\n",
    "importlib.reload(blizzard_api)\n",
    "caller = blizzard_api.Caller(access_token = api_token)\n",
    "leaderboard = caller.get_leaderboard(region = \"us\", realm = 4, dungeon = 244, period = 773)"
   ]
  },
  {
   "cell_type": "code",
   "execution_count": null,
   "metadata": {},
   "outputs": [],
   "source": [
    "# main functionality of the leaderboard object is to\n",
    "# provide a couple of ways to represent run meta data\n",
    "# (a format good for working with pandas, and a format for easy batch inserts into MySql)\n",
    "# and to serve as a container for Roster objects\n",
    "leaderboard.get_rosters_as_tuple_list()"
   ]
  },
  {
   "cell_type": "code",
   "execution_count": null,
   "metadata": {},
   "outputs": [],
   "source": [
    "help(leaderboard)"
   ]
  },
  {
   "cell_type": "code",
   "execution_count": null,
   "metadata": {},
   "outputs": [],
   "source": [
    "(get_new_data_every_30_mins)\n",
    "(summarize_data)\n",
    "(push data to EBS)"
   ]
  },
  {
   "cell_type": "code",
   "execution_count": null,
   "metadata": {},
   "outputs": [],
   "source": []
  },
  {
   "cell_type": "code",
   "execution_count": null,
   "metadata": {},
   "outputs": [],
   "source": []
  },
  {
   "cell_type": "code",
   "execution_count": null,
   "metadata": {},
   "outputs": [],
   "source": []
  },
  {
   "cell_type": "code",
   "execution_count": null,
   "metadata": {
    "scrolled": false
   },
   "outputs": [],
   "source": [
    "importlib.reload(blizzard_api)\n",
    "help(blizzard_api)"
   ]
  },
  {
   "cell_type": "code",
   "execution_count": null,
   "metadata": {},
   "outputs": [],
   "source": [
    "t0 = time.time()\n",
    "importlib.reload(blizz_parser)\n",
    "importlib.reload(blizzard_api)\n",
    "importlib.reload(tasks)\n",
    "importlib.reload(blizzard_credentials)\n",
    "period = tasks.main_method()\n",
    "print(time.time() - t0)"
   ]
  },
  {
   "cell_type": "code",
   "execution_count": null,
   "metadata": {},
   "outputs": [],
   "source": [
    "importlib.reload(blizzard_api)\n",
    "caller = blizzard_api.Caller()\n",
    "caller.get_current_period('us')\n",
    "#caller.get_dungeons()"
   ]
  },
  {
   "cell_type": "code",
   "execution_count": null,
   "metadata": {},
   "outputs": [],
   "source": [
    "#JSONDecodeError"
   ]
  },
  {
   "cell_type": "code",
   "execution_count": null,
   "metadata": {},
   "outputs": [],
   "source": [
    "periods.summary()"
   ]
  },
  {
   "cell_type": "code",
   "execution_count": null,
   "metadata": {},
   "outputs": [],
   "source": [
    "importlib.reload(blizzard_api)\n",
    "caller = blizzard_api.Caller()"
   ]
  },
  {
   "cell_type": "code",
   "execution_count": null,
   "metadata": {},
   "outputs": [],
   "source": [
    "\"{x}{y:,}\".format(x=1, y=2165132165165)"
   ]
  },
  {
   "cell_type": "code",
   "execution_count": null,
   "metadata": {},
   "outputs": [],
   "source": [
    "x = [1,2,3]\n",
    "y = [1,2,3]\n",
    "\n",
    "[\"{x}{y}\".format(x=a[1],y=a[0]) for a in zip(x,y)]"
   ]
  },
  {
   "cell_type": "code",
   "execution_count": null,
   "metadata": {},
   "outputs": [],
   "source": []
  },
  {
   "cell_type": "code",
   "execution_count": null,
   "metadata": {},
   "outputs": [],
   "source": []
  },
  {
   "cell_type": "code",
   "execution_count": null,
   "metadata": {},
   "outputs": [],
   "source": []
  },
  {
   "cell_type": "code",
   "execution_count": null,
   "metadata": {},
   "outputs": [],
   "source": [
    "importlib.reload(blizz_parser)\n",
    "importlib.reload(blizzard_api)\n",
    "importlib.reload(tasks)\n",
    "importlib.reload(blizzard_credentials)\n",
    "\n",
    "batch_caller = blizzard_api.BatchCaller(api_token)\n",
    "\n",
    "batch_caller.region = \"us\"\n",
    "batch_caller.dungeon = 244\n",
    "batch_caller.period = 744\n",
    "batch_caller.workers = 5\n",
    "\n",
    "t0 = time.time()\n",
    "#runs, rosters = batch_caller.get_data()\n",
    "print(time.time()-t0)"
   ]
  },
  {
   "cell_type": "code",
   "execution_count": null,
   "metadata": {},
   "outputs": [],
   "source": [
    "len(runs)"
   ]
  },
  {
   "cell_type": "code",
   "execution_count": null,
   "metadata": {},
   "outputs": [],
   "source": [
    "import requests"
   ]
  },
  {
   "cell_type": "code",
   "execution_count": null,
   "metadata": {},
   "outputs": [],
   "source": []
  },
  {
   "cell_type": "code",
   "execution_count": 5,
   "metadata": {},
   "outputs": [
    {
     "name": "stdout",
     "output_type": "stream",
     "text": [
      "START CYCLE:\n",
      "Retrieved existing run ids from MDB for [us 774]\n",
      "batch call (10 sec) success [us 774 244] inserted 175 new runs (0 sec) into MDB\n",
      "batch call (11 sec) success [us 774 245] inserted 247 new runs (0 sec) into MDB\n",
      "batch call (9 sec) success [us 774 246] inserted 145 new runs (0 sec) into MDB\n",
      "batch call (10 sec) success [us 774 247] inserted 191 new runs (0 sec) into MDB\n",
      "batch call (9 sec) success [us 774 248] inserted 191 new runs (0 sec) into MDB\n",
      "batch call (8 sec) success [us 774 249] inserted 147 new runs (0 sec) into MDB\n",
      "batch call (10 sec) success [us 774 250] inserted 168 new runs (0 sec) into MDB\n",
      "batch call (9 sec) success [us 774 251] inserted 165 new runs (0 sec) into MDB\n",
      "batch call (6 sec) success [us 774 252] inserted 115 new runs (0 sec) into MDB\n",
      "batch call (7 sec) success [us 774 353] inserted 105 new runs (0 sec) into MDB\n",
      "batch call (9 sec) success [us 774 369] inserted 151 new runs (0 sec) into MDB\n",
      "batch call (8 sec) success [us 774 370] inserted 154 new runs (0 sec) into MDB\n",
      "Retrieved existing run ids from MDB for [eu 773]\n",
      "batch call (63 sec) success [eu 773 244] inserted 11 new runs (0 sec) into MDB\n",
      "batch call (62 sec) success [eu 773 245] inserted 6 new runs (0 sec) into MDB\n",
      "batch call (49 sec) success [eu 773 246] inserted 8 new runs (0 sec) into MDB\n",
      "batch call (59 sec) success [eu 773 247] inserted 17 new runs (0 sec) into MDB\n",
      "batch call (57 sec) success [eu 773 248] inserted 11 new runs (0 sec) into MDB\n",
      "batch call (56 sec) success [eu 773 249] inserted 9 new runs (0 sec) into MDB\n",
      "batch call (55 sec) success [eu 773 250] inserted 19 new runs (0 sec) into MDB\n",
      "batch call (50 sec) success [eu 773 251] inserted 9 new runs (0 sec) into MDB\n",
      "batch call (50 sec) success [eu 773 252] inserted 7 new runs (0 sec) into MDB\n",
      "batch call (49 sec) success [eu 773 353] inserted 8 new runs (0 sec) into MDB\n",
      "batch call (52 sec) success [eu 773 369] inserted 10 new runs (0 sec) into MDB\n",
      "batch call (54 sec) success [eu 773 370] inserted 5 new runs (0 sec) into MDB\n",
      "Retrieved existing run ids from MDB for [tw 773]\n",
      "batch call (18 sec) success [tw 773 244] inserted 1 new runs (0 sec) into MDB\n",
      "batch call (24 sec) success [tw 773 245] inserted 1 new runs (0 sec) into MDB\n",
      "batch call (13 sec) success [tw 773 246] inserted 0 new runs (0 sec) into MDB\n",
      "batch call (16 sec) success [tw 773 247] inserted 3 new runs (0 sec) into MDB\n",
      "batch call (17 sec) success [tw 773 248] inserted 1 new runs (0 sec) into MDB\n",
      "batch call (16 sec) success [tw 773 249] inserted 1 new runs (0 sec) into MDB\n",
      "batch call (12 sec) success [tw 773 250] inserted 1 new runs (0 sec) into MDB\n",
      "batch call (22 sec) success [tw 773 251] inserted 2 new runs (0 sec) into MDB\n",
      "batch call (12 sec) success [tw 773 252] inserted 1 new runs (0 sec) into MDB\n",
      "batch call (13 sec) success [tw 773 353] inserted 0 new runs (0 sec) into MDB\n",
      "batch call (19 sec) success [tw 773 369] inserted 1 new runs (0 sec) into MDB\n",
      "batch call (10 sec) success [tw 773 370] inserted 2 new runs (0 sec) into MDB\n",
      "Retrieved existing run ids from MDB for [kr 773]\n",
      "batch call (24 sec) success [kr 773 244] inserted 11 new runs (0 sec) into MDB\n",
      "batch call (28 sec) success [kr 773 245] inserted 5 new runs (0 sec) into MDB\n",
      "batch call (21 sec) success [kr 773 246] inserted 4 new runs (0 sec) into MDB\n",
      "batch call (19 sec) success [kr 773 247] inserted 5 new runs (0 sec) into MDB\n",
      "batch call (23 sec) success [kr 773 248] inserted 2 new runs (0 sec) into MDB\n",
      "batch call (18 sec) success [kr 773 249] inserted 5 new runs (0 sec) into MDB\n",
      "batch call (18 sec) success [kr 773 250] inserted 4 new runs (0 sec) into MDB\n",
      "batch call (22 sec) success [kr 773 251] inserted 6 new runs (0 sec) into MDB\n",
      "batch call (19 sec) success [kr 773 252] inserted 4 new runs (0 sec) into MDB\n",
      "batch call (23 sec) success [kr 773 353] inserted 7 new runs (0 sec) into MDB\n",
      "batch call (25 sec) success [kr 773 369] inserted 8 new runs (0 sec) into MDB\n",
      "batch call (22 sec) success [kr 773 370] inserted 5 new runs (0 sec) into MDB\n",
      "END CYCLE, exec time 1268 seconds\n"
     ]
    }
   ],
   "source": [
    "import pipeline\n",
    "importlib.reload(pipeline)\n",
    "importlib.reload(blizz_api)\n",
    "importlib.reload(mplusdb)\n",
    "pipeline.get_data()"
   ]
  },
  {
   "cell_type": "code",
   "execution_count": null,
   "metadata": {},
   "outputs": [],
   "source": [
    "#500 Server Error: Internal Server Error for url\n"
   ]
  },
  {
   "cell_type": "code",
   "execution_count": 7,
   "metadata": {},
   "outputs": [],
   "source": [
    "import pipeline\n",
    "importlib.reload(pipeline)\n",
    "importlib.reload(blizz_api)\n",
    "importlib.reload(mplusdb)\n",
    "\n",
    "#pipeline.update_mdb_summary()\n",
    "mdb = mplusdb.MplusDatabase(\"config/db_config.ini\")\n",
    "mdb.update_weekly_top500_table(period_start=0, period_end=774)\n",
    "#res = mdb.pull_existing_run_ids(region=1, period=774)\n",
    "#df = mdb.get_summary_spec_table_as_df()\n",
    "#t0 = time.time()\n",
    "#pipeline.update_export_summary()\n",
    "#print(time.time() - t0)"
   ]
  },
  {
   "cell_type": "code",
   "execution_count": null,
   "metadata": {},
   "outputs": [],
   "source": [
    "import pipeline\n",
    "importlib.reload(mplusdb)\n",
    "importlib.reload(pipeline)\n",
    "mdb = mplusdb.MplusDatabase(\"config/db_config.ini\")\n",
    "#mdb.update_weekly_top500_table(773, 773)"
   ]
  },
  {
   "cell_type": "code",
   "execution_count": null,
   "metadata": {},
   "outputs": [],
   "source": [
    "#len(res)\n",
    "res = mdb.get_weekly_top500()"
   ]
  },
  {
   "cell_type": "code",
   "execution_count": null,
   "metadata": {},
   "outputs": [],
   "source": [
    "res"
   ]
  },
  {
   "cell_type": "code",
   "execution_count": null,
   "metadata": {},
   "outputs": [],
   "source": [
    "importlib.reload(blizz_credentials)\n",
    "cred = blizz_credentials.Credentials(\"config/blizzard_api_access.ini\")"
   ]
  },
  {
   "cell_type": "code",
   "execution_count": null,
   "metadata": {},
   "outputs": [],
   "source": [
    "mdb.send_query()"
   ]
  },
  {
   "cell_type": "code",
   "execution_count": null,
   "metadata": {},
   "outputs": [],
   "source": []
  }
 ],
 "metadata": {
  "kernelspec": {
   "display_name": "Python 3",
   "language": "python",
   "name": "python3"
  },
  "language_info": {
   "codemirror_mode": {
    "name": "ipython",
    "version": 3
   },
   "file_extension": ".py",
   "mimetype": "text/x-python",
   "name": "python",
   "nbconvert_exporter": "python",
   "pygments_lexer": "ipython3",
   "version": "3.6.9"
  }
 },
 "nbformat": 4,
 "nbformat_minor": 4
}

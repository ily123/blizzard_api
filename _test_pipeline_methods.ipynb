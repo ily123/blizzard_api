{
 "cells": [
  {
   "cell_type": "markdown",
   "metadata": {},
   "source": [
    "This notebook does two things:\n",
    "\n",
    "1. Provides examples to use the code\n",
    "2. Doubles as a code tester"
   ]
  },
  {
   "cell_type": "code",
   "execution_count": 5,
   "metadata": {},
   "outputs": [],
   "source": [
    "import importlib\n",
    "import tasks\n",
    "import blizzard_api\n",
    "import time\n",
    "import blizzard_credentials\n",
    "import blizz_parser\n",
    "\n",
    "import pandas as pd"
   ]
  },
  {
   "cell_type": "markdown",
   "metadata": {},
   "source": [
    "### blizzard_credentials"
   ]
  },
  {
   "cell_type": "code",
   "execution_count": 2,
   "metadata": {},
   "outputs": [
    {
     "name": "stdout",
     "output_type": "stream",
     "text": [
      "USv5FxjCMvWZU2vOHEPOk26aIdz0dao5jM\n"
     ]
    }
   ],
   "source": [
    "# API access token getter\n",
    "auth = blizzard_credentials.Credentials(\"config/blizzard_api_access.ini\")\n",
    "api_token = auth.access_token\n",
    "print(api_token) # token is valid for 24 hrs"
   ]
  },
  {
   "cell_type": "markdown",
   "metadata": {},
   "source": [
    "### blizzard_api"
   ]
  },
  {
   "cell_type": "code",
   "execution_count": 6,
   "metadata": {},
   "outputs": [
    {
     "name": "stdout",
     "output_type": "stream",
     "text": [
      "https://us.api.blizzard.com/data/wow/connected-realm/1234?namespace=dynamic-us&locale=en_US&access_token=USv5FxjCMvWZU2vOHEPOk26aIdz0dao5jM\n",
      "https://us.api.blizzard.com/data/wow/playable-specialization/1234?namespace=static-us&locale=en_US&access_token=USv5FxjCMvWZU2vOHEPOk26aIdz0dao5jM\n"
     ]
    }
   ],
   "source": [
    "### URL factory -- constructs API urls for the caller\n",
    "importlib.reload(blizzard_api)\n",
    "importlib.reload(blizz_parser)\n",
    "url_factory = blizzard_api.UrlFactory(access_token = api_token, region = 'us')\n",
    "print(url_factory.get_connected_realm_url(realm_id = 1234))\n",
    "print(url_factory.get_spec_url(spec_id = 1234))\n",
    "#help(url_factory)"
   ]
  },
  {
   "cell_type": "code",
   "execution_count": 12,
   "metadata": {},
   "outputs": [],
   "source": [
    "# set up caller\n",
    "importlib.reload(blizzard_api)\n",
    "importlib.reload(blizz_parser)\n",
    "caller = blizzard_api.Caller(access_token = api_token)"
   ]
  },
  {
   "cell_type": "code",
   "execution_count": 9,
   "metadata": {},
   "outputs": [
    {
     "data": {
      "text/html": [
       "<div>\n",
       "<style scoped>\n",
       "    .dataframe tbody tr th:only-of-type {\n",
       "        vertical-align: middle;\n",
       "    }\n",
       "\n",
       "    .dataframe tbody tr th {\n",
       "        vertical-align: top;\n",
       "    }\n",
       "\n",
       "    .dataframe thead th {\n",
       "        text-align: right;\n",
       "    }\n",
       "</style>\n",
       "<table border=\"1\" class=\"dataframe\">\n",
       "  <thead>\n",
       "    <tr style=\"text-align: right;\">\n",
       "      <th></th>\n",
       "      <th>spec_id</th>\n",
       "      <th>spec_name</th>\n",
       "    </tr>\n",
       "  </thead>\n",
       "  <tbody>\n",
       "    <tr>\n",
       "      <th>0</th>\n",
       "      <td>62</td>\n",
       "      <td>Arcane</td>\n",
       "    </tr>\n",
       "    <tr>\n",
       "      <th>1</th>\n",
       "      <td>63</td>\n",
       "      <td>Fire</td>\n",
       "    </tr>\n",
       "    <tr>\n",
       "      <th>2</th>\n",
       "      <td>64</td>\n",
       "      <td>Frost</td>\n",
       "    </tr>\n",
       "    <tr>\n",
       "      <th>3</th>\n",
       "      <td>65</td>\n",
       "      <td>Holy</td>\n",
       "    </tr>\n",
       "    <tr>\n",
       "      <th>4</th>\n",
       "      <td>66</td>\n",
       "      <td>Protection</td>\n",
       "    </tr>\n",
       "  </tbody>\n",
       "</table>\n",
       "</div>"
      ],
      "text/plain": [
       "   spec_id   spec_name\n",
       "0       62      Arcane\n",
       "1       63        Fire\n",
       "2       64       Frost\n",
       "3       65        Holy\n",
       "4       66  Protection"
      ]
     },
     "execution_count": 9,
     "metadata": {},
     "output_type": "execute_result"
    }
   ],
   "source": [
    "# get spec names and ids\n",
    "importlib.reload(blizzard_api)\n",
    "caller = blizzard_api.Caller(access_token = api_token)\n",
    "result = caller.get_spec_ids()\n",
    "pd.DataFrame(result).head()"
   ]
  },
  {
   "cell_type": "code",
   "execution_count": 10,
   "metadata": {},
   "outputs": [
    {
     "data": {
      "text/plain": [
       "{'class_name': 'mage',\n",
       " 'class_id': 8,\n",
       " 'spec_name': 'arcane',\n",
       " 'spec_id': 62,\n",
       " 'role': 'damage'}"
      ]
     },
     "execution_count": 10,
     "metadata": {},
     "output_type": "execute_result"
    }
   ],
   "source": [
    "# get full info for a spec using spec id\n",
    "importlib.reload(blizzard_api)\n",
    "caller = blizzard_api.Caller(access_token = api_token)\n",
    "result = caller.get_spec_by_id(spec_id = 62)\n",
    "result"
   ]
  },
  {
   "cell_type": "code",
   "execution_count": 11,
   "metadata": {},
   "outputs": [
    {
     "data": {
      "text/html": [
       "<div>\n",
       "<style scoped>\n",
       "    .dataframe tbody tr th:only-of-type {\n",
       "        vertical-align: middle;\n",
       "    }\n",
       "\n",
       "    .dataframe tbody tr th {\n",
       "        vertical-align: top;\n",
       "    }\n",
       "\n",
       "    .dataframe thead th {\n",
       "        text-align: right;\n",
       "    }\n",
       "</style>\n",
       "<table border=\"1\" class=\"dataframe\">\n",
       "  <thead>\n",
       "    <tr style=\"text-align: right;\">\n",
       "      <th></th>\n",
       "      <th>class_name</th>\n",
       "      <th>class_id</th>\n",
       "      <th>spec_name</th>\n",
       "      <th>spec_id</th>\n",
       "      <th>role</th>\n",
       "    </tr>\n",
       "  </thead>\n",
       "  <tbody>\n",
       "    <tr>\n",
       "      <th>0</th>\n",
       "      <td>mage</td>\n",
       "      <td>8</td>\n",
       "      <td>arcane</td>\n",
       "      <td>62</td>\n",
       "      <td>damage</td>\n",
       "    </tr>\n",
       "    <tr>\n",
       "      <th>1</th>\n",
       "      <td>mage</td>\n",
       "      <td>8</td>\n",
       "      <td>fire</td>\n",
       "      <td>63</td>\n",
       "      <td>damage</td>\n",
       "    </tr>\n",
       "    <tr>\n",
       "      <th>2</th>\n",
       "      <td>mage</td>\n",
       "      <td>8</td>\n",
       "      <td>frost</td>\n",
       "      <td>64</td>\n",
       "      <td>damage</td>\n",
       "    </tr>\n",
       "    <tr>\n",
       "      <th>3</th>\n",
       "      <td>paladin</td>\n",
       "      <td>2</td>\n",
       "      <td>holy</td>\n",
       "      <td>65</td>\n",
       "      <td>healer</td>\n",
       "    </tr>\n",
       "    <tr>\n",
       "      <th>4</th>\n",
       "      <td>paladin</td>\n",
       "      <td>2</td>\n",
       "      <td>protection</td>\n",
       "      <td>66</td>\n",
       "      <td>tank</td>\n",
       "    </tr>\n",
       "  </tbody>\n",
       "</table>\n",
       "</div>"
      ],
      "text/plain": [
       "  class_name  class_id   spec_name  spec_id    role\n",
       "0       mage         8      arcane       62  damage\n",
       "1       mage         8        fire       63  damage\n",
       "2       mage         8       frost       64  damage\n",
       "3    paladin         2        holy       65  healer\n",
       "4    paladin         2  protection       66    tank"
      ]
     },
     "execution_count": 11,
     "metadata": {},
     "output_type": "execute_result"
    }
   ],
   "source": [
    "# get full info for all specs\n",
    "importlib.reload(blizzard_api)\n",
    "caller = blizzard_api.Caller(access_token = api_token)\n",
    "result = caller.get_class_spec_table()\n",
    "pd.DataFrame(result).head()"
   ]
  },
  {
   "cell_type": "code",
   "execution_count": 13,
   "metadata": {},
   "outputs": [
    {
     "name": "stdout",
     "output_type": "stream",
     "text": [
      "[641, 642, 643, 644, 645, 646, 647, 648, 649, 650, 651, 652, 653, 654, 655, 656, 657, 658, 659, 660, 661, 662, 663, 664, 665, 666, 667, 668, 669, 670, 671, 672, 673, 674, 675, 676, 677, 678, 679, 680, 681, 682, 683, 684, 685, 686, 687, 688, 689, 690, 691, 692, 693, 694, 695, 696, 697, 698, 699, 700, 701, 702, 703, 704, 705, 706, 707, 708, 709, 710, 711, 712, 713, 714, 715, 716, 717, 718, 719, 720, 721, 722, 723, 724, 725, 726, 727, 728, 729, 730, 731, 732, 733, 734, 735, 736, 737, 738, 739, 740, 741, 742, 743, 744, 745, 746, 747, 748, 749, 750, 751, 752, 753, 754, 755, 756, 757, 758, 759, 760, 761, 762, 763, 764, 765, 766, 767, 768, 769, 770, 771, 772, 773]\n"
     ]
    }
   ],
   "source": [
    "# get list of all timeperiods for region\n",
    "importlib.reload(blizzard_api)\n",
    "caller = blizzard_api.Caller(access_token = api_token)\n",
    "result = caller.get_period_ids(region = \"us\")\n",
    "print(result)"
   ]
  },
  {
   "cell_type": "code",
   "execution_count": 14,
   "metadata": {},
   "outputs": [
    {
     "data": {
      "text/plain": [
       "773"
      ]
     },
     "execution_count": 14,
     "metadata": {},
     "output_type": "execute_result"
    }
   ],
   "source": [
    "# get current period (week id) for region\n",
    "importlib.reload(blizzard_api)\n",
    "caller = blizzard_api.Caller(access_token = api_token)\n",
    "result = caller.get_current_period(region = \"us\")\n",
    "result"
   ]
  },
  {
   "cell_type": "code",
   "execution_count": 15,
   "metadata": {},
   "outputs": [
    {
     "data": {
      "text/plain": [
       "(1603206000000, 1603810799000)"
      ]
     },
     "execution_count": 15,
     "metadata": {},
     "output_type": "execute_result"
    }
   ],
   "source": [
    "# get timestamps for period\n",
    "importlib.reload(blizzard_api)\n",
    "caller = blizzard_api.Caller(access_token = api_token)\n",
    "result = caller.get_period_startend(region = \"us\", period=773)\n",
    "result"
   ]
  },
  {
   "cell_type": "code",
   "execution_count": 16,
   "metadata": {},
   "outputs": [
    {
     "data": {
      "text/html": [
       "<div>\n",
       "<style scoped>\n",
       "    .dataframe tbody tr th:only-of-type {\n",
       "        vertical-align: middle;\n",
       "    }\n",
       "\n",
       "    .dataframe tbody tr th {\n",
       "        vertical-align: top;\n",
       "    }\n",
       "\n",
       "    .dataframe thead th {\n",
       "        text-align: right;\n",
       "    }\n",
       "</style>\n",
       "<table border=\"1\" class=\"dataframe\">\n",
       "  <thead>\n",
       "    <tr style=\"text-align: right;\">\n",
       "      <th></th>\n",
       "      <th>id</th>\n",
       "      <th>name</th>\n",
       "    </tr>\n",
       "  </thead>\n",
       "  <tbody>\n",
       "    <tr>\n",
       "      <th>0</th>\n",
       "      <td>244</td>\n",
       "      <td>Atal'Dazar</td>\n",
       "    </tr>\n",
       "    <tr>\n",
       "      <th>1</th>\n",
       "      <td>245</td>\n",
       "      <td>Freehold</td>\n",
       "    </tr>\n",
       "    <tr>\n",
       "      <th>2</th>\n",
       "      <td>246</td>\n",
       "      <td>Tol Dagor</td>\n",
       "    </tr>\n",
       "    <tr>\n",
       "      <th>3</th>\n",
       "      <td>247</td>\n",
       "      <td>The MOTHERLODE!!</td>\n",
       "    </tr>\n",
       "    <tr>\n",
       "      <th>4</th>\n",
       "      <td>248</td>\n",
       "      <td>Waycrest Manor</td>\n",
       "    </tr>\n",
       "  </tbody>\n",
       "</table>\n",
       "</div>"
      ],
      "text/plain": [
       "    id              name\n",
       "0  244        Atal'Dazar\n",
       "1  245          Freehold\n",
       "2  246         Tol Dagor\n",
       "3  247  The MOTHERLODE!!\n",
       "4  248    Waycrest Manor"
      ]
     },
     "execution_count": 16,
     "metadata": {},
     "output_type": "execute_result"
    }
   ],
   "source": [
    "# get dungeon ids (for the current expansion)\n",
    "importlib.reload(blizzard_api)\n",
    "caller = blizzard_api.Caller(access_token = api_token)\n",
    "result = caller.get_dungeons()\n",
    "pd.DataFrame(result).head()"
   ]
  },
  {
   "cell_type": "code",
   "execution_count": 17,
   "metadata": {},
   "outputs": [
    {
     "name": "stdout",
     "output_type": "stream",
     "text": [
      "[4, 5, 9, 11, 12, 47, 52, 53, 54, 55, 57, 58, 60, 61, 63, 64, 67, 69, 71, 73, 75, 76, 77, 78, 84, 86, 96, 99, 100, 104, 106, 113, 114, 115, 117, 118, 120, 121, 125, 127, 151, 154, 155, 157, 158, 160, 162, 163, 1070, 1071, 1072, 1129, 1136, 1138, 1147, 1151, 1168, 1171, 1175, 1184, 1185, 1190, 1425, 1426, 1427, 1428, 3207, 3208, 3209, 3234, 3661, 3675, 3676, 3678, 3683, 3684, 3685, 3693, 3694, 3721, 3723, 3725, 3726]\n"
     ]
    }
   ],
   "source": [
    "# get list of shard ids\n",
    "importlib.reload(blizzard_api)\n",
    "caller = blizzard_api.Caller(access_token = api_token)\n",
    "result = caller.get_connected_realm_ids(region = \"us\")\n",
    "print(result)"
   ]
  },
  {
   "cell_type": "code",
   "execution_count": 18,
   "metadata": {},
   "outputs": [
    {
     "data": {
      "text/html": [
       "<div>\n",
       "<style scoped>\n",
       "    .dataframe tbody tr th:only-of-type {\n",
       "        vertical-align: middle;\n",
       "    }\n",
       "\n",
       "    .dataframe tbody tr th {\n",
       "        vertical-align: top;\n",
       "    }\n",
       "\n",
       "    .dataframe thead th {\n",
       "        text-align: right;\n",
       "    }\n",
       "</style>\n",
       "<table border=\"1\" class=\"dataframe\">\n",
       "  <thead>\n",
       "    <tr style=\"text-align: right;\">\n",
       "      <th></th>\n",
       "      <th>cluster_id</th>\n",
       "      <th>realm_id</th>\n",
       "      <th>name</th>\n",
       "      <th>name_slug</th>\n",
       "      <th>region</th>\n",
       "      <th>locale</th>\n",
       "      <th>timezone</th>\n",
       "    </tr>\n",
       "  </thead>\n",
       "  <tbody>\n",
       "    <tr>\n",
       "      <th>0</th>\n",
       "      <td>4</td>\n",
       "      <td>4</td>\n",
       "      <td>Kilrogg</td>\n",
       "      <td>kilrogg</td>\n",
       "      <td>1</td>\n",
       "      <td>enUS</td>\n",
       "      <td>America/Los_Angeles</td>\n",
       "    </tr>\n",
       "    <tr>\n",
       "      <th>1</th>\n",
       "      <td>4</td>\n",
       "      <td>1355</td>\n",
       "      <td>Winterhoof</td>\n",
       "      <td>winterhoof</td>\n",
       "      <td>1</td>\n",
       "      <td>enUS</td>\n",
       "      <td>America/Los_Angeles</td>\n",
       "    </tr>\n",
       "  </tbody>\n",
       "</table>\n",
       "</div>"
      ],
      "text/plain": [
       "   cluster_id  realm_id        name   name_slug  region locale  \\\n",
       "0           4         4     Kilrogg     kilrogg       1   enUS   \n",
       "1           4      1355  Winterhoof  winterhoof       1   enUS   \n",
       "\n",
       "              timezone  \n",
       "0  America/Los_Angeles  \n",
       "1  America/Los_Angeles  "
      ]
     },
     "execution_count": 18,
     "metadata": {},
     "output_type": "execute_result"
    }
   ],
   "source": [
    "# get list of old realms inside a shard\n",
    "importlib.reload(blizzard_api)\n",
    "caller = blizzard_api.Caller(access_token = api_token)\n",
    "result = caller.get_connected_realm(region = \"us\", realm_id=4)\n",
    "pd.DataFrame(result)"
   ]
  },
  {
   "cell_type": "code",
   "execution_count": 19,
   "metadata": {},
   "outputs": [
    {
     "data": {
      "text/html": [
       "<div>\n",
       "<style scoped>\n",
       "    .dataframe tbody tr th:only-of-type {\n",
       "        vertical-align: middle;\n",
       "    }\n",
       "\n",
       "    .dataframe tbody tr th {\n",
       "        vertical-align: top;\n",
       "    }\n",
       "\n",
       "    .dataframe thead th {\n",
       "        text-align: right;\n",
       "    }\n",
       "</style>\n",
       "<table border=\"1\" class=\"dataframe\">\n",
       "  <thead>\n",
       "    <tr style=\"text-align: right;\">\n",
       "      <th></th>\n",
       "      <th>cluster_id</th>\n",
       "      <th>realm_id</th>\n",
       "      <th>name</th>\n",
       "      <th>name_slug</th>\n",
       "      <th>region</th>\n",
       "      <th>locale</th>\n",
       "      <th>timezone</th>\n",
       "    </tr>\n",
       "  </thead>\n",
       "  <tbody>\n",
       "    <tr>\n",
       "      <th>0</th>\n",
       "      <td>4</td>\n",
       "      <td>4</td>\n",
       "      <td>Kilrogg</td>\n",
       "      <td>kilrogg</td>\n",
       "      <td>1</td>\n",
       "      <td>enUS</td>\n",
       "      <td>America/Los_Angeles</td>\n",
       "    </tr>\n",
       "    <tr>\n",
       "      <th>1</th>\n",
       "      <td>4</td>\n",
       "      <td>1355</td>\n",
       "      <td>Winterhoof</td>\n",
       "      <td>winterhoof</td>\n",
       "      <td>1</td>\n",
       "      <td>enUS</td>\n",
       "      <td>America/Los_Angeles</td>\n",
       "    </tr>\n",
       "    <tr>\n",
       "      <th>2</th>\n",
       "      <td>5</td>\n",
       "      <td>5</td>\n",
       "      <td>Proudmoore</td>\n",
       "      <td>proudmoore</td>\n",
       "      <td>1</td>\n",
       "      <td>enUS</td>\n",
       "      <td>America/Los_Angeles</td>\n",
       "    </tr>\n",
       "    <tr>\n",
       "      <th>3</th>\n",
       "      <td>9</td>\n",
       "      <td>9</td>\n",
       "      <td>Kil'jaeden</td>\n",
       "      <td>kiljaeden</td>\n",
       "      <td>1</td>\n",
       "      <td>enUS</td>\n",
       "      <td>America/Los_Angeles</td>\n",
       "    </tr>\n",
       "    <tr>\n",
       "      <th>4</th>\n",
       "      <td>11</td>\n",
       "      <td>11</td>\n",
       "      <td>Tichondrius</td>\n",
       "      <td>tichondrius</td>\n",
       "      <td>1</td>\n",
       "      <td>enUS</td>\n",
       "      <td>America/Los_Angeles</td>\n",
       "    </tr>\n",
       "    <tr>\n",
       "      <th>...</th>\n",
       "      <td>...</td>\n",
       "      <td>...</td>\n",
       "      <td>...</td>\n",
       "      <td>...</td>\n",
       "      <td>...</td>\n",
       "      <td>...</td>\n",
       "      <td>...</td>\n",
       "    </tr>\n",
       "    <tr>\n",
       "      <th>241</th>\n",
       "      <td>3725</td>\n",
       "      <td>3736</td>\n",
       "      <td>Jubei'Thos</td>\n",
       "      <td>jubeithos</td>\n",
       "      <td>1</td>\n",
       "      <td>enUS</td>\n",
       "      <td>Australia/Melbourne</td>\n",
       "    </tr>\n",
       "    <tr>\n",
       "      <th>242</th>\n",
       "      <td>3725</td>\n",
       "      <td>3737</td>\n",
       "      <td>Gundrak</td>\n",
       "      <td>gundrak</td>\n",
       "      <td>1</td>\n",
       "      <td>enUS</td>\n",
       "      <td>Australia/Melbourne</td>\n",
       "    </tr>\n",
       "    <tr>\n",
       "      <th>243</th>\n",
       "      <td>3726</td>\n",
       "      <td>3726</td>\n",
       "      <td>Khaz'goroth</td>\n",
       "      <td>khazgoroth</td>\n",
       "      <td>1</td>\n",
       "      <td>enUS</td>\n",
       "      <td>Australia/Melbourne</td>\n",
       "    </tr>\n",
       "    <tr>\n",
       "      <th>244</th>\n",
       "      <td>3726</td>\n",
       "      <td>3722</td>\n",
       "      <td>Aman'Thul</td>\n",
       "      <td>amanthul</td>\n",
       "      <td>1</td>\n",
       "      <td>enUS</td>\n",
       "      <td>Australia/Melbourne</td>\n",
       "    </tr>\n",
       "    <tr>\n",
       "      <th>245</th>\n",
       "      <td>3726</td>\n",
       "      <td>3735</td>\n",
       "      <td>Dath'Remar</td>\n",
       "      <td>dathremar</td>\n",
       "      <td>1</td>\n",
       "      <td>enUS</td>\n",
       "      <td>Australia/Melbourne</td>\n",
       "    </tr>\n",
       "  </tbody>\n",
       "</table>\n",
       "<p>246 rows × 7 columns</p>\n",
       "</div>"
      ],
      "text/plain": [
       "     cluster_id  realm_id         name    name_slug  region locale  \\\n",
       "0             4         4      Kilrogg      kilrogg       1   enUS   \n",
       "1             4      1355   Winterhoof   winterhoof       1   enUS   \n",
       "2             5         5   Proudmoore   proudmoore       1   enUS   \n",
       "3             9         9   Kil'jaeden    kiljaeden       1   enUS   \n",
       "4            11        11  Tichondrius  tichondrius       1   enUS   \n",
       "..          ...       ...          ...          ...     ...    ...   \n",
       "241        3725      3736   Jubei'Thos    jubeithos       1   enUS   \n",
       "242        3725      3737      Gundrak      gundrak       1   enUS   \n",
       "243        3726      3726  Khaz'goroth   khazgoroth       1   enUS   \n",
       "244        3726      3722    Aman'Thul     amanthul       1   enUS   \n",
       "245        3726      3735   Dath'Remar    dathremar       1   enUS   \n",
       "\n",
       "                timezone  \n",
       "0    America/Los_Angeles  \n",
       "1    America/Los_Angeles  \n",
       "2    America/Los_Angeles  \n",
       "3    America/Los_Angeles  \n",
       "4    America/Los_Angeles  \n",
       "..                   ...  \n",
       "241  Australia/Melbourne  \n",
       "242  Australia/Melbourne  \n",
       "243  Australia/Melbourne  \n",
       "244  Australia/Melbourne  \n",
       "245  Australia/Melbourne  \n",
       "\n",
       "[246 rows x 7 columns]"
      ]
     },
     "execution_count": 19,
     "metadata": {},
     "output_type": "execute_result"
    }
   ],
   "source": [
    "# get all realms/clusters\n",
    "importlib.reload(blizzard_api)\n",
    "caller = blizzard_api.Caller(access_token = api_token)\n",
    "result = caller.get_connected_realms(region = \"us\")\n",
    "pd.DataFrame(result)"
   ]
  },
  {
   "cell_type": "code",
   "execution_count": 20,
   "metadata": {},
   "outputs": [],
   "source": [
    "# get leaderboard -- returns a KeyRunLeaderboard object\n",
    "importlib.reload(blizzard_api)\n",
    "caller = blizzard_api.Caller(access_token = api_token)\n",
    "leaderboard = caller.get_leaderboard(region = \"us\", realm = 4, dungeon = 244, period = 773)"
   ]
  },
  {
   "cell_type": "code",
   "execution_count": 21,
   "metadata": {},
   "outputs": [
    {
     "data": {
      "text/plain": [
       "<blizz_parser.KeyRunLeaderboard at 0x7f589b4a6198>"
      ]
     },
     "execution_count": 21,
     "metadata": {},
     "output_type": "execute_result"
    }
   ],
   "source": [
    "# main functionality of the leaderboard object is to\n",
    "# provide a couple of ways to represent run meta data\n",
    "# (a format good for working with pandas, and a format for easy batch inserts into MySql)\n",
    "# and to serve as a container for Roster objects\n",
    "leaderboard\n"
   ]
  },
  {
   "cell_type": "code",
   "execution_count": null,
   "metadata": {},
   "outputs": [],
   "source": [
    "help(leaderboard)"
   ]
  },
  {
   "cell_type": "code",
   "execution_count": null,
   "metadata": {},
   "outputs": [],
   "source": []
  },
  {
   "cell_type": "code",
   "execution_count": null,
   "metadata": {},
   "outputs": [],
   "source": []
  },
  {
   "cell_type": "code",
   "execution_count": null,
   "metadata": {},
   "outputs": [],
   "source": []
  },
  {
   "cell_type": "code",
   "execution_count": null,
   "metadata": {},
   "outputs": [],
   "source": []
  },
  {
   "cell_type": "code",
   "execution_count": null,
   "metadata": {
    "scrolled": false
   },
   "outputs": [],
   "source": [
    "importlib.reload(blizzard_api)\n",
    "help(blizzard_api)"
   ]
  },
  {
   "cell_type": "code",
   "execution_count": null,
   "metadata": {},
   "outputs": [],
   "source": [
    "t0 = time.time()\n",
    "importlib.reload(blizzard_api)\n",
    "importlib.reload(tasks)\n",
    "importlib.reload(blizzard_credentials)\n",
    "period = tasks.main_method()\n",
    "print(time.time() - t0)"
   ]
  },
  {
   "cell_type": "code",
   "execution_count": null,
   "metadata": {},
   "outputs": [],
   "source": [
    "importlib.reload(blizzard_api)\n",
    "caller = blizzard_api.Caller()\n",
    "caller.get_current_period('us')\n",
    "#caller.get_dungeons()"
   ]
  },
  {
   "cell_type": "code",
   "execution_count": null,
   "metadata": {},
   "outputs": [],
   "source": [
    "#JSONDecodeError"
   ]
  },
  {
   "cell_type": "code",
   "execution_count": null,
   "metadata": {},
   "outputs": [],
   "source": [
    "periods.summary()"
   ]
  },
  {
   "cell_type": "code",
   "execution_count": null,
   "metadata": {},
   "outputs": [],
   "source": [
    "importlib.reload(blizzard_api)\n",
    "caller = blizzard_api.Caller()"
   ]
  },
  {
   "cell_type": "code",
   "execution_count": null,
   "metadata": {},
   "outputs": [],
   "source": [
    "\"{x}{y:,}\".format(x=1, y=2165132165165)"
   ]
  },
  {
   "cell_type": "code",
   "execution_count": null,
   "metadata": {},
   "outputs": [],
   "source": [
    "x = [1,2,3]\n",
    "y = [1,2,3]\n",
    "\n",
    "[\"{x}{y}\".format(x=a[1],y=a[0]) for a in zip(x,y)]"
   ]
  },
  {
   "cell_type": "code",
   "execution_count": null,
   "metadata": {},
   "outputs": [],
   "source": []
  }
 ],
 "metadata": {
  "kernelspec": {
   "display_name": "Python 3",
   "language": "python",
   "name": "python3"
  },
  "language_info": {
   "codemirror_mode": {
    "name": "ipython",
    "version": 3
   },
   "file_extension": ".py",
   "mimetype": "text/x-python",
   "name": "python",
   "nbconvert_exporter": "python",
   "pygments_lexer": "ipython3",
   "version": "3.6.9"
  }
 },
 "nbformat": 4,
 "nbformat_minor": 4
}

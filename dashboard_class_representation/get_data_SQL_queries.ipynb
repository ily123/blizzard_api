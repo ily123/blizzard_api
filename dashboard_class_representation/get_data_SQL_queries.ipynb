{
 "cells": [
  {
   "cell_type": "code",
   "execution_count": 1,
   "metadata": {},
   "outputs": [],
   "source": [
    "import sys\n",
    "if '../' not in sys.path:\n",
    "    sys.path.append('../')\n",
    "\n",
    "import mplusdb\n",
    "import pandas as pd"
   ]
  },
  {
   "cell_type": "markdown",
   "metadata": {},
   "source": [
    "#### Get all key run counts, sliced by key level, and by spec"
   ]
  },
  {
   "cell_type": "code",
   "execution_count": 6,
   "metadata": {},
   "outputs": [
    {
     "ename": "TimeoutError",
     "evalue": "This will launch a 15 min query. Is this what you are trying to do? ",
     "output_type": "error",
     "traceback": [
      "\u001b[0;31m---------------------------------------------------------------------------\u001b[0m",
      "\u001b[0;31mTimeoutError\u001b[0m                              Traceback (most recent call last)",
      "\u001b[0;32m<ipython-input-6-3745b9bd17eb>\u001b[0m in \u001b[0;36m<module>\u001b[0;34m\u001b[0m\n\u001b[0;32m----> 1\u001b[0;31m \u001b[0;32mraise\u001b[0m \u001b[0mTimeoutError\u001b[0m\u001b[0;34m(\u001b[0m\u001b[0;34m'This will launch a 15 min query. Is this what you are trying to do? '\u001b[0m\u001b[0;34m)\u001b[0m \u001b[0;31m#safety break\u001b[0m\u001b[0;34m\u001b[0m\u001b[0;34m\u001b[0m\u001b[0m\n\u001b[0m\u001b[1;32m      2\u001b[0m query = \"\"\"SELECT spec, level, count(level) FROM \n\u001b[1;32m      3\u001b[0m     (SELECT run_id, spec, level FROM temp_run INNER JOIN\n\u001b[1;32m      4\u001b[0m     roster ON roster.run_id = temp_run.id) as J \n\u001b[1;32m      5\u001b[0m     \u001b[0mGROUP\u001b[0m \u001b[0mBY\u001b[0m \u001b[0mspec\u001b[0m\u001b[0;34m,\u001b[0m \u001b[0mlevel\u001b[0m\u001b[0;34m;\u001b[0m\u001b[0;34m\u001b[0m\u001b[0;34m\u001b[0m\u001b[0m\n",
      "\u001b[0;31mTimeoutError\u001b[0m: This will launch a 15 min query. Is this what you are trying to do? "
     ]
    }
   ],
   "source": [
    "raise TimeoutError('This will launch a 15 min query. Is this what you are trying to do? ') #safety break\n",
    "query = \"\"\"SELECT spec, level, count(level) FROM \n",
    "    (SELECT run_id, spec, level FROM temp_run INNER JOIN\n",
    "    roster ON roster.run_id = temp_run.id) as J \n",
    "    GROUP BY spec, level;\n",
    "    \"\"\"\n",
    "print(query)\n",
    "conn = mdb.connect()\n",
    "cursor = conn.cursor()\n",
    "cursor.execute('use keyruns;')\n",
    "cursor.execute(query)\n",
    "ret = cursor.fetchall()\n",
    "cursor.close()\n",
    "conn.close()"
   ]
  },
  {
   "cell_type": "code",
   "execution_count": 7,
   "metadata": {},
   "outputs": [
    {
     "ename": "TimeoutError",
     "evalue": "This will overwrite things. Is this what you are trying to do? ",
     "output_type": "error",
     "traceback": [
      "\u001b[0;31m---------------------------------------------------------------------------\u001b[0m",
      "\u001b[0;31mTimeoutError\u001b[0m                              Traceback (most recent call last)",
      "\u001b[0;32m<ipython-input-7-0e185aeda886>\u001b[0m in \u001b[0;36m<module>\u001b[0;34m\u001b[0m\n\u001b[0;32m----> 1\u001b[0;31m \u001b[0;32mraise\u001b[0m \u001b[0mTimeoutError\u001b[0m\u001b[0;34m(\u001b[0m\u001b[0;34m'This will overwrite things. Is this what you are trying to do? '\u001b[0m\u001b[0;34m)\u001b[0m \u001b[0;31m#safety break\u001b[0m\u001b[0;34m\u001b[0m\u001b[0;34m\u001b[0m\u001b[0m\n\u001b[0m\u001b[1;32m      2\u001b[0m \u001b[0mdf\u001b[0m \u001b[0;34m=\u001b[0m \u001b[0mpd\u001b[0m\u001b[0;34m.\u001b[0m\u001b[0mDataFrame\u001b[0m\u001b[0;34m(\u001b[0m\u001b[0mret\u001b[0m\u001b[0;34m,\u001b[0m \u001b[0mcolumns\u001b[0m \u001b[0;34m=\u001b[0m \u001b[0;34m[\u001b[0m\u001b[0;34m'spec'\u001b[0m\u001b[0;34m,\u001b[0m \u001b[0;34m'key_level'\u001b[0m\u001b[0;34m,\u001b[0m \u001b[0;34m'num_keys'\u001b[0m\u001b[0;34m]\u001b[0m\u001b[0;34m)\u001b[0m\u001b[0;34m\u001b[0m\u001b[0;34m\u001b[0m\u001b[0m\n\u001b[1;32m      3\u001b[0m \u001b[0mdf\u001b[0m\u001b[0;34m.\u001b[0m\u001b[0mto_pickle\u001b[0m\u001b[0;34m(\u001b[0m\u001b[0;34m'keynums_groupby_level_spec.pkl'\u001b[0m\u001b[0;34m)\u001b[0m\u001b[0;34m\u001b[0m\u001b[0;34m\u001b[0m\u001b[0m\n",
      "\u001b[0;31mTimeoutError\u001b[0m: This will overwrite things. Is this what you are trying to do? "
     ]
    }
   ],
   "source": [
    "raise TimeoutError('This will overwrite things. Is this what you are trying to do? ') #safety break\n",
    "df = pd.DataFrame(ret, columns = ['spec', 'key_level', 'num_keys'])\n",
    "df.to_pickle('keynums_groupby_level_spec.pkl')"
   ]
  },
  {
   "cell_type": "markdown",
   "metadata": {},
   "source": [
    "#### Get all key run counts level >= 20, sliced by period (week) and spec"
   ]
  },
  {
   "cell_type": "code",
   "execution_count": null,
   "metadata": {},
   "outputs": [],
   "source": [
    "query = \"\"\"SELECT spec, level, count(level) FROM \n",
    "    (SELECT run_id, spec, level FROM temp_run INNER JOIN\n",
    "    roster ON roster.run_id = temp_run.id) as J \n",
    "    GROUP BY spec, level;\n",
    "    \"\"\"\n",
    "print(query)\n",
    "conn = mdb.connect()\n",
    "cursor = conn.cursor()\n",
    "cursor.execute('use keyruns;')\n",
    "cursor.execute(query)\n",
    "ret = cursor.fetchall()\n",
    "cursor.close()\n",
    "conn.close()"
   ]
  }
 ],
 "metadata": {
  "kernelspec": {
   "display_name": "Python 3",
   "language": "python",
   "name": "python3"
  },
  "language_info": {
   "codemirror_mode": {
    "name": "ipython",
    "version": 3
   },
   "file_extension": ".py",
   "mimetype": "text/x-python",
   "name": "python",
   "nbconvert_exporter": "python",
   "pygments_lexer": "ipython3",
   "version": "3.6.9"
  }
 },
 "nbformat": 4,
 "nbformat_minor": 4
}

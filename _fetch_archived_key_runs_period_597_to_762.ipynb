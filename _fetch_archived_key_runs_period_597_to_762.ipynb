{
 "cells": [
  {
   "cell_type": "markdown",
   "metadata": {},
   "source": [
    "### What is archived data?\n",
    "\n",
    "These are the data going back to Spring 2017 (period 597). \n",
    "\n",
    "The leaderboards for those weeks are in their final state. I would like to pull these data into the DB. This only has to be done once."
   ]
  },
  {
   "cell_type": "code",
   "execution_count": 7,
   "metadata": {},
   "outputs": [],
   "source": [
    "import requests\n",
    "import importlib\n",
    "import blizzard_api\n",
    "import mysql\n",
    "import mplusdb\n",
    "import blizzard_credentials\n",
    "import pandas as pd\n",
    "import utils\n",
    "import time\n",
    "from concurrent.futures import ThreadPoolExecutor, as_completed"
   ]
  },
  {
   "cell_type": "code",
   "execution_count": null,
   "metadata": {},
   "outputs": [],
   "source": [
    "\n",
    "\n",
    "\n",
    "#597 is the earliest period\n",
    "\n",
    "#game client\n",
    "\n",
    "#mdb get period table\n",
    "\n",
    "#mdb get dungeon table\n",
    "\n",
    "# caller\n",
    "\n",
    "# dungeon x region x period\n",
    "\n",
    "driver.get_leaderboard(period=, dungeon=, realm=)\n",
    "\n",
    "\n",
    "caller.get_leaderboard(period='all', dungeon='Atal', realm='malganis')"
   ]
  },
  {
   "cell_type": "code",
   "execution_count": 21,
   "metadata": {},
   "outputs": [],
   "source": [
    "importlib.reload(blizzard_api)\n",
    "importlib.reload(utils)\n",
    "caller = blizzard_api.Caller()\n",
    "leaderboard = caller.get_leaderboard(region='us', dungeon=244, realm=11, period=763)"
   ]
  },
  {
   "cell_type": "code",
   "execution_count": 22,
   "metadata": {},
   "outputs": [
    {
     "data": {
      "text/plain": [
       "'USPiHiHQ8qS77Y4uJPh7Iy3HjY2TvIJxqs'"
      ]
     },
     "execution_count": 22,
     "metadata": {},
     "output_type": "execute_result"
    }
   ],
   "source": [
    "caller.access_token"
   ]
  },
  {
   "cell_type": "code",
   "execution_count": 3,
   "metadata": {},
   "outputs": [
    {
     "name": "stdout",
     "output_type": "stream",
     "text": [
      "500\n"
     ]
    }
   ],
   "source": [
    "print(len(leaderboard.keyruns))#__dict__.keys()"
   ]
  },
  {
   "cell_type": "code",
   "execution_count": 19,
   "metadata": {},
   "outputs": [],
   "source": [
    "import pickle\n",
    "pickle.dump(leaderboard, open('/home/ubuntu/temp/leaderboard_test.pkl', 'bw'))"
   ]
  },
  {
   "cell_type": "code",
   "execution_count": 4,
   "metadata": {},
   "outputs": [],
   "source": [
    "url_factory = blizzard_api.UrlFactory(access_token = caller.access_token, region='eu')\n",
    "\n",
    "realm = 1403\n",
    "urls = []\n",
    "for dungeon in list(range(244,252+1)) + [353]:\n",
    "    for period in range(660, 760):\n",
    "        url = url_factory.get_mythic_plus_leaderboard_url(dungeon, realm, period)\n",
    "        urls.append(url)"
   ]
  },
  {
   "cell_type": "code",
   "execution_count": 5,
   "metadata": {},
   "outputs": [
    {
     "data": {
      "text/plain": [
       "1000"
      ]
     },
     "execution_count": 5,
     "metadata": {},
     "output_type": "execute_result"
    }
   ],
   "source": [
    "len(urls)"
   ]
  },
  {
   "cell_type": "code",
   "execution_count": 85,
   "metadata": {},
   "outputs": [
    {
     "name": "stdout",
     "output_type": "stream",
     "text": [
      "call 5\n",
      "time, min: 0.20\n",
      "time/call: 2.37\n"
     ]
    }
   ],
   "source": [
    "t0 = time.time()\n",
    "cut = 5\n",
    "for index, url in enumerate(urls[:cut]):\n",
    "    response = requests.get(url)\n",
    "    if response.status_code != 200:\n",
    "        print(url)\n",
    "    print('\\rcall %s' % (index+1), end='')\n",
    "    \n",
    "print('')\n",
    "t_end = time.time() - t0\n",
    "print('time, min: %1.2f' % (t_end/60))\n",
    "print('time/call: %1.2f' % (t_end/cut))"
   ]
  },
  {
   "cell_type": "code",
   "execution_count": 6,
   "metadata": {},
   "outputs": [],
   "source": []
  },
  {
   "cell_type": "code",
   "execution_count": 8,
   "metadata": {},
   "outputs": [],
   "source": [
    "cut = 100"
   ]
  },
  {
   "cell_type": "code",
   "execution_count": 28,
   "metadata": {},
   "outputs": [
    {
     "name": "stdout",
     "output_type": "stream",
     "text": [
      "140001310988312\n",
      "140001310988312\n",
      "140001310988312\n",
      "140001310988312\n",
      "140001310988312\n",
      "140001310988312\n",
      "140001310988312\n",
      "140001310988312\n",
      "140001310988312\n",
      "140001310988312\n",
      "140001310988312\n",
      "140001310988312\n",
      "140001310988312\n",
      "140001310988312\n",
      "140001310988312\n",
      "140001310988312\n",
      "140001310988312\n",
      "140001310988312\n",
      "140001310988312\n",
      "140001310988312\n",
      "140001310988312\n",
      "140001310988312\n",
      "140001310988312\n",
      "140001310988312\n",
      "140001310988312\n",
      "140001310988312\n",
      "140001310988312\n",
      "140001310988312\n",
      "140001310988312\n",
      "140001310988312\n",
      "140001310988312\n",
      "140001310988312\n",
      "140001310988312\n",
      "140001310988312\n",
      "140001310988312\n",
      "140001310988312\n",
      "140001310988312\n",
      "140001310988312\n",
      "140001310988312\n",
      "140001310988312\n",
      "140001310988312\n",
      "140001310988312\n",
      "140001310988312\n",
      "140001310988312\n",
      "140001310988312\n",
      "140001310988312\n",
      "140001310988312\n",
      "140001310988312\n",
      "140001310988312\n",
      "140001310988312\n",
      "140001310988312\n",
      "140001310988312\n",
      "140001310988312\n",
      "140001310988312\n",
      "140001310988312\n",
      "140001310988312\n",
      "140001310988312\n",
      "140001310988312\n",
      "140001310988312\n",
      "140001310988312\n",
      "140001310988312\n",
      "140001310988312\n",
      "140001310988312\n",
      "140001310988312\n",
      "140001310988312\n",
      "140001310988312\n",
      "140001310988312\n",
      "140001310988312\n",
      "140001310988312\n",
      "140001310988312\n",
      "140001310988312\n",
      "140001310988312\n",
      "140001310988312\n",
      "140001310988312\n",
      "140001310988312\n",
      "140001310988312\n",
      "140001310988312\n",
      "140001310988312\n",
      "140001310988312\n",
      "140001310988312\n",
      "140001310988312\n",
      "140001310988312\n",
      "140001310988312\n",
      "140001310988312\n",
      "140001310988312\n",
      "140001310988312\n",
      "140001310988312\n",
      "140001310988312\n",
      "140001310988312\n",
      "140001310988312\n",
      "140001310988312\n",
      "140001310988312\n",
      "140001310988312\n",
      "140001310988312\n",
      "140001310988312\n",
      "140001310988312\n",
      "140001310988312\n",
      "140001310988312\n",
      "140001310988312\n",
      "140001310988312\n",
      "\n",
      "time, min: 0.00\n",
      "time/call, sec: 0.00\n"
     ]
    }
   ],
   "source": [
    "def test_function(url):\n",
    "    time.sleep(2)\n",
    "    response = requests.get(url)\n",
    "    return response\n",
    "\n",
    "def test_caller(caller):\n",
    "    return(id(caller.access_token))\n",
    "\n",
    "\n",
    "caller_ = blizzard_api.Caller()\n",
    "\n",
    "\n",
    "urls_ = urls[:100]\n",
    "def runner():\n",
    "    threads = []\n",
    "    with ThreadPoolExecutor(max_workers = 5) as executor:\n",
    "        for url in urls_:\n",
    "            threads.append(executor.submit(test_caller, caller_))\n",
    "    for task in as_completed(threads):\n",
    "        #if task.result().status_code != 200:\n",
    "            #print(task.result().status_code)\n",
    "        #print(task.__dict__)\n",
    "        print(task.result())\n",
    "        \n",
    "        \n",
    "t0 = time.time()        \n",
    "runner()\n",
    "print('')\n",
    "t_end = time.time() - t0\n",
    "print('time, min: %1.2f' % (t_end/60))\n",
    "print('time/call, sec: %1.2f' % (t_end/len(urls_)))"
   ]
  },
  {
   "cell_type": "code",
   "execution_count": null,
   "metadata": {},
   "outputs": [],
   "source": []
  }
 ],
 "metadata": {
  "kernelspec": {
   "display_name": "Python 3",
   "language": "python",
   "name": "python3"
  },
  "language_info": {
   "codemirror_mode": {
    "name": "ipython",
    "version": 3
   },
   "file_extension": ".py",
   "mimetype": "text/x-python",
   "name": "python",
   "nbconvert_exporter": "python",
   "pygments_lexer": "ipython3",
   "version": "3.7.3"
  }
 },
 "nbformat": 4,
 "nbformat_minor": 2
}

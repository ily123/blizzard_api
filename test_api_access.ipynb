{
 "cells": [
  {
   "cell_type": "code",
   "execution_count": 1,
   "metadata": {},
   "outputs": [],
   "source": [
    "import requests"
   ]
  },
  {
   "cell_type": "code",
   "execution_count": 26,
   "metadata": {},
   "outputs": [
    {
     "name": "stdout",
     "output_type": "stream",
     "text": [
      "{'client_id': '002379f2ee5b44088bf762c5170cac56', 'client_secret': 'Cw2ICTjZZqJNeSJaLaViG78RX7t7FbDX'}\n"
     ]
    }
   ],
   "source": [
    "def get_client_id_and_secret(tokens_file_path):\n",
    "    \"\"\"\n",
    "    Loads Blizzard OAuth client id and secret from a text file.\n",
    "    \n",
    "    File must be stricktly formatted as two tab-delimited lines:\n",
    "    \n",
    "        client_id     client_id_string\n",
    "        client_secret client_secret_sting\n",
    "        \n",
    "    Parameters\n",
    "    ----------\n",
    "    tokens_file_path : str\n",
    "        file path of the file with client id and secret\n",
    "        \n",
    "    Returns\n",
    "    -------\n",
    "    credentials : dict\n",
    "        dictionary containing client id and secret\n",
    "    \"\"\"\n",
    "    \n",
    "    credentials = {'client_id':None, 'client_secret':None}\n",
    "    file = open(tokens_file_path, 'r')\n",
    "    line = file.readline()\n",
    "    while line:\n",
    "        cargo = line.split()[1]\n",
    "        if 'client_id' in line:\n",
    "            credentials['client_id'] = cargo\n",
    "        elif 'client_secret' in line:\n",
    "            credentials['client_secret'] = cargo\n",
    "        line = file.readline()\n",
    "    file.close()\n",
    "    return credentials\n",
    "\n",
    "tokens_file_path = '.api_tokens'\n",
    "credentials = get_client_id_and_secret(tokens_file_path)\n",
    "print(credentials)"
   ]
  },
  {
   "cell_type": "code",
   "execution_count": 33,
   "metadata": {},
   "outputs": [],
   "source": [
    "def create_access_token(credentials):\n",
    "    \"\"\"\n",
    "    Given a credentials dict, generates OAuth access token.\n",
    "    \n",
    "    Parameters\n",
    "    ----------\n",
    "    credentials : dict\n",
    "        dict containing client id and secret\n",
    "    \n",
    "    Returns\n",
    "    -------\n",
    "    access_token : str\n",
    "        OAuth access tokens that allows us to make calls to\n",
    "        Blizzard API.\n",
    "    \"\"\"\n",
    "    \n",
    "    region = 'us'\n",
    "    client_id = credentials['client_id']\n",
    "    client_secret = credentials['client_secret']\n",
    "    data = { 'grant_type': 'client_credentials' }\n",
    "    response = requests.post('https://%s.battle.net/oauth/token' % region,\n",
    "                             data=data, auth=(client_id, client_secret))\n",
    "    return response.json()['access_token']\n",
    "\n",
    "access_token = create_access_token(credentials)"
   ]
  },
  {
   "cell_type": "code",
   "execution_count": 76,
   "metadata": {},
   "outputs": [],
   "source": [
    "call = '%%%' #https://develop.battle.net/documentation/world-of-warcraft/game-data-apis\n",
    "resp = requests.get(call)\n",
    "resp.json()"
   ]
  }
 ],
 "metadata": {
  "kernelspec": {
   "display_name": "Python 3",
   "language": "python",
   "name": "python3"
  },
  "language_info": {
   "codemirror_mode": {
    "name": "ipython",
    "version": 3
   },
   "file_extension": ".py",
   "mimetype": "text/x-python",
   "name": "python",
   "nbconvert_exporter": "python",
   "pygments_lexer": "ipython3",
   "version": "3.7.7"
  }
 },
 "nbformat": 4,
 "nbformat_minor": 4
}

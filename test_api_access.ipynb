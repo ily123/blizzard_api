{
 "cells": [
  {
   "cell_type": "code",
   "execution_count": 99,
   "metadata": {},
   "outputs": [],
   "source": [
    "import requests\n",
    "import importlib\n",
    "import blizzard_api"
   ]
  },
  {
   "cell_type": "code",
   "execution_count": 100,
   "metadata": {},
   "outputs": [
    {
     "data": {
      "text/plain": [
       "<module 'blizzard_api' from '/Users/ilyanovikov/Documents/CodeRepos/blizzard_api/blizzard_api.py'>"
      ]
     },
     "execution_count": 100,
     "metadata": {},
     "output_type": "execute_result"
    }
   ],
   "source": [
    "importlib.reload(blizzard_api)"
   ]
  },
  {
   "cell_type": "code",
   "execution_count": 101,
   "metadata": {},
   "outputs": [],
   "source": [
    "def get_client_id_and_secret(tokens_file_path):\n",
    "    \"\"\"\n",
    "    Loads Blizzard OAuth client id and secret from a text file.\n",
    "    \n",
    "    File must be stricktly formatted as two tab-delimited lines:\n",
    "    \n",
    "        client_id     client_id_string\n",
    "        client_secret client_secret_sting\n",
    "        \n",
    "    Parameters\n",
    "    ----------\n",
    "    tokens_file_path : str\n",
    "        file path of the file with client id and secret\n",
    "        \n",
    "    Returns\n",
    "    -------\n",
    "    credentials : dict\n",
    "        dictionary containing client id and secret\n",
    "    \"\"\"\n",
    "    \n",
    "    credentials = {'client_id':None, 'client_secret':None}\n",
    "    file = open(tokens_file_path, 'r')\n",
    "    line = file.readline()\n",
    "    while line:\n",
    "        cargo = line.split()[1]\n",
    "        if 'client_id' in line:\n",
    "            credentials['client_id'] = cargo\n",
    "        elif 'client_secret' in line:\n",
    "            credentials['client_secret'] = cargo\n",
    "        line = file.readline()\n",
    "    file.close()\n",
    "    return credentials\n",
    "\n",
    "tokens_file_path = '.api_tokens'\n",
    "credentials = get_client_id_and_secret(tokens_file_path)"
   ]
  },
  {
   "cell_type": "code",
   "execution_count": 102,
   "metadata": {},
   "outputs": [],
   "source": [
    "def create_access_token(credentials):\n",
    "    \"\"\"\n",
    "    Given a credentials dict, generates OAuth access token.\n",
    "    \n",
    "    Parameters\n",
    "    ----------\n",
    "    credentials : dict\n",
    "        dict containing client id and secret\n",
    "    \n",
    "    Returns\n",
    "    -------\n",
    "    access_token : str\n",
    "        OAuth access tokens that allows us to make calls to\n",
    "        Blizzard API.\n",
    "    \"\"\"\n",
    "    \n",
    "    region = 'us'\n",
    "    client_id = credentials['client_id']\n",
    "    client_secret = credentials['client_secret']\n",
    "    data = { 'grant_type': 'client_credentials' }\n",
    "    response = requests.post('https://%s.battle.net/oauth/token' % region,\n",
    "                             data=data, auth=(client_id, client_secret))\n",
    "    return response.json()['access_token']\n",
    "\n",
    "access_token = create_access_token(credentials)"
   ]
  },
  {
   "cell_type": "code",
   "execution_count": 104,
   "metadata": {},
   "outputs": [],
   "source": [
    "call2 = 'https://us.api.blizzard.com/data/wow/connected-realm/11/mythic-leaderboard/244/period/758?namespace=dynamic-us&locale=en_US&access_token='+access_token"
   ]
  },
  {
   "cell_type": "code",
   "execution_count": 105,
   "metadata": {},
   "outputs": [],
   "source": [
    "response2 = requests.get(call2)"
   ]
  },
  {
   "cell_type": "code",
   "execution_count": 106,
   "metadata": {},
   "outputs": [],
   "source": [
    "jsn = response2.json()"
   ]
  },
  {
   "cell_type": "code",
   "execution_count": 133,
   "metadata": {},
   "outputs": [
    {
     "name": "stdout",
     "output_type": "stream",
     "text": [
      "_links\n",
      "map\n",
      "period\n",
      "period_start_timestamp\n",
      "period_end_timestamp\n",
      "connected_realm\n",
      "leading_groups\n",
      "keystone_affixes\n",
      "map_challenge_mode_id\n",
      "name\n",
      "hi\n",
      "dict_keys(['ranking', 'duration', 'completed_timestamp', 'keystone_level', 'members'])\n",
      "{'key_run_json': {'ranking': 1, 'duration': 1743830, 'completed_timestamp': 1594694682000, 'keystone_level': 28, 'members': [{'profile': {'name': 'Nerftank', 'id': 174202811, 'realm': {'key': {'href': 'https://us.api.blizzard.com/data/wow/realm/1566?namespace=dynamic-us'}, 'id': 1566, 'slug': 'area-52'}}, 'faction': {'type': 'HORDE'}, 'specialization': {'key': {'href': 'https://us.api.blizzard.com/data/wow/playable-specialization/73?namespace=static-8.3.7_35114-us'}, 'id': 73}}, {'profile': {'name': 'Nikolei', 'id': 193256771, 'realm': {'key': {'href': 'https://us.api.blizzard.com/data/wow/realm/11?namespace=dynamic-us'}, 'id': 11, 'slug': 'tichondrius'}}, 'faction': {'type': 'HORDE'}, 'specialization': {'key': {'href': 'https://us.api.blizzard.com/data/wow/playable-specialization/260?namespace=static-8.3.7_35114-us'}, 'id': 260}}, {'profile': {'name': 'Imbottom', 'id': 179787980, 'realm': {'key': {'href': 'https://us.api.blizzard.com/data/wow/realm/1566?namespace=dynamic-us'}, 'id': 1566, 'slug': 'area-52'}}, 'faction': {'type': 'HORDE'}, 'specialization': {'key': {'href': 'https://us.api.blizzard.com/data/wow/playable-specialization/253?namespace=static-8.3.7_35114-us'}, 'id': 253}}, {'profile': {'name': 'Asûna', 'id': 132176612, 'realm': {'key': {'href': 'https://us.api.blizzard.com/data/wow/realm/6?namespace=dynamic-us'}, 'id': 6, 'slug': 'hyjal'}}, 'faction': {'type': 'HORDE'}, 'specialization': {'key': {'href': 'https://us.api.blizzard.com/data/wow/playable-specialization/63?namespace=static-8.3.7_35114-us'}, 'id': 63}}, {'profile': {'name': 'Ellesmêre', 'id': 171680274, 'realm': {'key': {'href': 'https://us.api.blizzard.com/data/wow/realm/1566?namespace=dynamic-us'}, 'id': 1566, 'slug': 'area-52'}}, 'faction': {'type': 'HORDE'}, 'specialization': {'key': {'href': 'https://us.api.blizzard.com/data/wow/playable-specialization/65?namespace=static-8.3.7_35114-us'}, 'id': 65}}]}, 'duration_in_ms': 1743830, 'completed_timestamp': 1594694682000, 'keystone_level': 28, 'members': [174202811, 193256771, 179787980, 132176612, 171680274]}\n"
     ]
    }
   ],
   "source": [
    "importlib.reload(blizzard_api)\n",
    "parser = blizzard_api.BlizzardJsonParser(jsn)\n",
    "print('hi')\n",
    "keyrun = parser.parse_keyrun_json()\n",
    "\n",
    "print(keyrun.__dict__)"
   ]
  }
 ],
 "metadata": {
  "kernelspec": {
   "display_name": "Python 3",
   "language": "python",
   "name": "python3"
  },
  "language_info": {
   "codemirror_mode": {
    "name": "ipython",
    "version": 3
   },
   "file_extension": ".py",
   "mimetype": "text/x-python",
   "name": "python",
   "nbconvert_exporter": "python",
   "pygments_lexer": "ipython3",
   "version": "3.7.7"
  }
 },
 "nbformat": 4,
 "nbformat_minor": 4
}

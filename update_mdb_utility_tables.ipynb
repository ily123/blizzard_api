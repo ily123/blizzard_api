{
 "cells": [
  {
   "cell_type": "markdown",
   "metadata": {},
   "source": [
    "## GOAL OF THIS NB:\n",
    "\n",
    "MDB has several utility tables that contain static information. This includes names and ids, for:\n",
    "   \n",
    " * Dungeons\n",
    " * Affixes\n",
    " * Specs\n",
    " * Periods (old, non-current)\n",
    " \n",
    " This information gets updated very infrequently (once every 2 years). This notebook load this static information into MDB.\n",
    " \n",
    "### Assumptions:\n",
    " \n",
    "We assume the tables already exist in MDB. They should have been created via the script (sql_script/schema.sql). If the table is missing, I will create it manually, and add to script later."
   ]
  },
  {
   "cell_type": "code",
   "execution_count": 24,
   "metadata": {},
   "outputs": [],
   "source": [
    "import blizz_api\n",
    "import blizz_credentials\n",
    "import blizz_parser\n",
    "import utils\n",
    "\n",
    "import importlib"
   ]
  },
  {
   "cell_type": "code",
   "execution_count": 20,
   "metadata": {},
   "outputs": [
    {
     "data": {
      "text/plain": [
       "'US8GxvFQtnTshzCjvOuD1qKQ3yvsH5tx9b'"
      ]
     },
     "execution_count": 20,
     "metadata": {},
     "output_type": "execute_result"
    }
   ],
   "source": [
    "# this token expires every 24 hours\n",
    "auth = blizz_credentials.Credentials(\"config/blizzard_api_access.ini\")\n",
    "auth.access_token"
   ]
  },
  {
   "cell_type": "code",
   "execution_count": 33,
   "metadata": {},
   "outputs": [
    {
     "name": "stdout",
     "output_type": "stream",
     "text": [
      "<blizz_parser.KeyRunLeaderboard object at 0x7f139dd77b70>\n"
     ]
    }
   ],
   "source": [
    "# fetch mythic+ period index\n",
    "#get_period_startend(self, region:str, period:int) -> Tuple[int, int]\n",
    "importlib.reload(utils)\n",
    "importlib.reload(blizz_api)\n",
    "importlib.reload(blizz_parser)\n",
    "\n",
    "caller = blizz_api.Caller(access_token=auth.access_token)\n",
    "#ret = caller.get_spec_by_id(577)\n",
    "#ret = caller.get_period_startend(region=\"us\", period=641)\n",
    "ret = caller.get_leaderboard(region=\"us\", dungeon=382,period=780, realm=11)\n",
    "print(ret)"
   ]
  },
  {
   "cell_type": "code",
   "execution_count": 34,
   "metadata": {},
   "outputs": [
    {
     "data": {
      "text/plain": [
       "[3, 10, 11, 121]"
      ]
     },
     "execution_count": 34,
     "metadata": {},
     "output_type": "execute_result"
    }
   ],
   "source": [
    "ret.affixes"
   ]
  },
  {
   "cell_type": "code",
   "execution_count": 3,
   "metadata": {
    "scrolled": false
   },
   "outputs": [
    {
     "name": "stdout",
     "output_type": "stream",
     "text": [
      "Help on module blizz_api:\n",
      "\n",
      "NAME\n",
      "    blizz_api - Classes to query and parse World of Warcraft  (WoW) M+ game data.\n",
      "\n",
      "DESCRIPTION\n",
      "    Blizzard/WoW API docs:\n",
      "    https://develop.battle.net/documentation/world-of-warcraft/game-data-apis\n",
      "    \n",
      "    \n",
      "    Usage example:\n",
      "    \n",
      "        import blizz_api\n",
      "    \n",
      "        batch_caller = blizz_api.BatchCaller(api_token)\n",
      "        batch_caller.region = \"us\"\n",
      "        batch_caller.dungeon = 244\n",
      "        batch_caller.period = 744\n",
      "        batch_caller.workers = 5\n",
      "        runs, rosters = batch_caller.get_data()\n",
      "\n",
      "CLASSES\n",
      "    builtins.object\n",
      "        BatchCaller\n",
      "        Caller\n",
      "        UrlFactory\n",
      "    \n",
      "    class BatchCaller(builtins.object)\n",
      "     |  Collects region-wider leaderboard for a dungeon using parallel calls.\n",
      "     |  \n",
      "     |  Attributes needs to be set after object is created.\n",
      "     |  \n",
      "     |  Attributes\n",
      "     |  ----------\n",
      "     |      access_token : str\n",
      "     |          valid API access token\n",
      "     |      region : str\n",
      "     |          region one of \"us\", \"eu\", \"kr\", \"tw\"\n",
      "     |      dungeon : int\n",
      "     |          a valid dungeon id\n",
      "     |      period : int\n",
      "     |          a valid period id\n",
      "     |      workers : int\n",
      "     |          number of threads to spawn (ex: 5)\n",
      "     |  \n",
      "     |  Methods defined here:\n",
      "     |  \n",
      "     |  __init__(self, access_token:str) -> None\n",
      "     |      Inits with access token.\n",
      "     |  \n",
      "     |  get_data(self) -> Tuple[List[tuple], List[tuple]]\n",
      "     |      Collects run leaderboard data from all regional realms in parallel.\n",
      "     |      \n",
      "     |      Returns\n",
      "     |      -------\n",
      "     |          runs\n",
      "     |              list of runs as list of tuples\n",
      "     |          rosters\n",
      "     |              list of player characters as list of tuples\n",
      "     |  \n",
      "     |  ----------------------------------------------------------------------\n",
      "     |  Data descriptors defined here:\n",
      "     |  \n",
      "     |  __dict__\n",
      "     |      dictionary for instance variables (if defined)\n",
      "     |  \n",
      "     |  __weakref__\n",
      "     |      list of weak references to the object (if defined)\n",
      "    \n",
      "    class Caller(builtins.object)\n",
      "     |  Abstracts API interactions into a high-level interface.\n",
      "     |  \n",
      "     |  Methods defined here:\n",
      "     |  \n",
      "     |  __init__(self, access_token:Union[str, NoneType]=None) -> None\n",
      "     |      Inits wtih access token. If token not given, tries to get one.\n",
      "     |  \n",
      "     |  get_class_spec_table(self) -> List[dict]\n",
      "     |      Gets table of playable classes and specs.\n",
      "     |  \n",
      "     |  get_connected_realm(self, region:str, realm_id:int) -> List[dict]\n",
      "     |      Gets info for a shard given its id and region.\n",
      "     |  \n",
      "     |  get_connected_realm_ids(self, region:str) -> List[int]\n",
      "     |      Gets list of connected realm ids for region.\n",
      "     |  \n",
      "     |  get_connected_realms(self, region:str) -> List[dict]\n",
      "     |      Gets full info for all of region's shards.\n",
      "     |  \n",
      "     |  get_current_period(self, region:str) -> int\n",
      "     |      Gets current m+ period for region.\n",
      "     |  \n",
      "     |  get_dungeons(self) -> List[dict]\n",
      "     |      Gets list of dungeon ids.\n",
      "     |      \n",
      "     |      Warning: only returns data for current expansion.\n",
      "     |  \n",
      "     |  get_leaderboard(self, region:str, realm:int, dungeon:int, period:int) -> Type[blizz_parser.KeyRunLeaderboard]\n",
      "     |      Gets leaderboard for specified region/realm/dungeon/period.\n",
      "     |  \n",
      "     |  get_period_ids(self, region:str) -> List[int]\n",
      "     |      Gets list of m+ period ids for region.\n",
      "     |  \n",
      "     |  get_period_startend(self, region:str, period:int) -> Tuple[int, int]\n",
      "     |      Gets start and end timestamp for period.\n",
      "     |  \n",
      "     |  get_spec_by_id(self, spec_id:int) -> dict\n",
      "     |      Gets full spec info given spec id.\n",
      "     |  \n",
      "     |  get_spec_ids(self) -> List[dict]\n",
      "     |      Gets list of spec ids and names.\n",
      "     |  \n",
      "     |  ----------------------------------------------------------------------\n",
      "     |  Data descriptors defined here:\n",
      "     |  \n",
      "     |  __dict__\n",
      "     |      dictionary for instance variables (if defined)\n",
      "     |  \n",
      "     |  __weakref__\n",
      "     |      list of weak references to the object (if defined)\n",
      "    \n",
      "    class UrlFactory(builtins.object)\n",
      "     |  API url call constructor.\n",
      "     |  \n",
      "     |  Methods defined here:\n",
      "     |  \n",
      "     |  __init__(self, access_token:str, region:str) -> None\n",
      "     |      Inits with API access token and region id.\n",
      "     |      \n",
      "     |      Region id must be one of 'us', 'eu', 'kr', 'tw', 'cn'\n",
      "     |  \n",
      "     |  get_connected_realm_index_url(self) -> str\n",
      "     |      Constucts URL for connected realm index (list) call.\n",
      "     |  \n",
      "     |  get_connected_realm_url(self, realm_id:int) -> str\n",
      "     |      Constructs URL for connected realm call.\n",
      "     |  \n",
      "     |  get_dungeon_index_url(self) -> str\n",
      "     |      Constructs URL for dungeons index call.\n",
      "     |  \n",
      "     |  get_mythic_plus_leaderboard_url(self, dungeon_id:int, realm_id:int, period:int) -> str\n",
      "     |      Constructs URL for mythic+ leaderboard call.\n",
      "     |  \n",
      "     |  get_spec_index_url(self) -> str\n",
      "     |      Constructs URL for a spec index call.\n",
      "     |  \n",
      "     |  get_spec_url(self, spec_id:int) -> str\n",
      "     |      Constructs URL for spec call.\n",
      "     |  \n",
      "     |  get_timeperiod_index_url(self) -> str\n",
      "     |      Constructs URL for timeperiod index call.\n",
      "     |  \n",
      "     |  get_timeperiod_url(self, period:int) -> str\n",
      "     |      Constructs URL for timeperiod call.\n",
      "     |  \n",
      "     |  ----------------------------------------------------------------------\n",
      "     |  Data descriptors defined here:\n",
      "     |  \n",
      "     |  __dict__\n",
      "     |      dictionary for instance variables (if defined)\n",
      "     |  \n",
      "     |  __weakref__\n",
      "     |      list of weak references to the object (if defined)\n",
      "\n",
      "DATA\n",
      "    Optional = typing.Optional\n",
      "\n",
      "FILE\n",
      "    /home/ubuntu/CodeRepos/metawatch/blizz_api.py\n",
      "\n",
      "\n"
     ]
    }
   ],
   "source": [
    "help(blizz_api)"
   ]
  },
  {
   "cell_type": "code",
   "execution_count": null,
   "metadata": {},
   "outputs": [],
   "source": []
  }
 ],
 "metadata": {
  "kernelspec": {
   "display_name": "scraper",
   "language": "python",
   "name": "scraper"
  },
  "language_info": {
   "codemirror_mode": {
    "name": "ipython",
    "version": 3
   },
   "file_extension": ".py",
   "mimetype": "text/x-python",
   "name": "python",
   "nbconvert_exporter": "python",
   "pygments_lexer": "ipython3",
   "version": "3.6.9"
  }
 },
 "nbformat": 4,
 "nbformat_minor": 4
}

{
 "cells": [
  {
   "cell_type": "markdown",
   "metadata": {},
   "source": [
    "## GOAL OF THIS NB:\n",
    "\n",
    "MDB has several utility tables that contain static information. This includes names and ids, for:\n",
    "   \n",
    " * Dungeons\n",
    " * Affixes\n",
    " * Specs\n",
    " * Periods (old, non-current)\n",
    " \n",
    " This information gets updated very infrequently (once every 2 years). This notebook load this static information into MDB.\n",
    " \n",
    "### Assumptions:\n",
    " \n",
    "We assume the tables already exist in MDB. They should have been created via the script (sql_script/schema.sql). If the table is missing, I will create it manually, and add to script later."
   ]
  },
  {
   "cell_type": "code",
   "execution_count": 63,
   "metadata": {},
   "outputs": [],
   "source": [
    "import blizz_api\n",
    "import blizz_credentials\n",
    "import blizz_parser\n",
    "import utils\n",
    "import mplusdb\n",
    "\n",
    "import importlib\n",
    "import pandas as pd\n",
    "\n",
    "pd.options.display.max_rows = 999"
   ]
  },
  {
   "cell_type": "code",
   "execution_count": 20,
   "metadata": {},
   "outputs": [
    {
     "data": {
      "text/plain": [
       "'US8GxvFQtnTshzCjvOuD1qKQ3yvsH5tx9b'"
      ]
     },
     "execution_count": 20,
     "metadata": {},
     "output_type": "execute_result"
    }
   ],
   "source": [
    "# this token expires every 24 hours\n",
    "auth = blizz_credentials.Credentials(\"config/blizzard_api_access.ini\")\n",
    "auth.access_token"
   ]
  },
  {
   "cell_type": "code",
   "execution_count": 72,
   "metadata": {},
   "outputs": [],
   "source": [
    "# initialize MDB object for uploading data\n",
    "importlib.reload(mplusdb)\n",
    "mdb = mplusdb.MplusDatabase(config_file_path=\"config/db_config.ini\")"
   ]
  },
  {
   "cell_type": "code",
   "execution_count": 33,
   "metadata": {},
   "outputs": [
    {
     "name": "stdout",
     "output_type": "stream",
     "text": [
      "<blizz_parser.KeyRunLeaderboard object at 0x7f139dd77b70>\n"
     ]
    }
   ],
   "source": [
    "### USE THIS CELL TO REMIND YOURSELF WHAT METHODS TO CALL\n",
    "\n",
    "# fetch mythic+ period index\n",
    "#get_period_startend(self, region:str, period:int) -> Tuple[int, int]\n",
    "#importlib.reload(utils)\n",
    "#importlib.reload(blizz_api)\n",
    "#importlib.reload(blizz_parser)\n",
    "#caller = blizz_api.Caller(access_token=auth.access_token)\n",
    "#ret = caller.get_spec_by_id(577)\n",
    "#ret = caller.get_period_startend(region=\"us\", period=641)\n",
    "#ret = caller.get_leaderboard(region=\"us\", dungeon=382,period=780, realm=11)\n",
    "#print(ret)"
   ]
  },
  {
   "cell_type": "markdown",
   "metadata": {},
   "source": [
    "---\n",
    "#### PERIOD TABLE"
   ]
  },
  {
   "cell_type": "code",
   "execution_count": 57,
   "metadata": {
    "scrolled": true
   },
   "outputs": [],
   "source": [
    "# Go through each period (641 => 792)\n",
    "# and get timestamps and affix info\n",
    "period_data = []\n",
    "\n",
    "caller = blizz_api.Caller(access_token=auth.access_token)\n",
    "for period in range(641, 792+1):\n",
    "    # I don't know the exact period border between the expansions,\n",
    "    # so try 3 base dungeons from each. One should post, two others will error.\n",
    "    possible_dungeons = [197, 244, 382] # a legion / bfa / sl dungeon\n",
    "    affixes = None\n",
    "    for dungeon in possible_dungeons:\n",
    "        try:\n",
    "            leaderboard = caller.get_leaderboard(region=\"us\", dungeon=dungeon, period=period, realm=11)\n",
    "            affixes = leaderboard.affixes\n",
    "        except:\n",
    "            pass\n",
    "    is_tyrannical = 1 if 9 in affixes else 0\n",
    "    # get regional period start & end\n",
    "    for region in [\"us\", \"eu\", \"tw\", \"kr\"]:\n",
    "        start, end = caller.get_period_startend(region=region, period=period)\n",
    "        affixes_token = \"_\".join([str(affix_id) for affix_id in affixes])\n",
    "        period_data.append((region, period, start, end, is_tyrannical, affixes_token))"
   ]
  },
  {
   "cell_type": "code",
   "execution_count": 78,
   "metadata": {},
   "outputs": [],
   "source": [
    "# replace region string tokens with ints\n",
    "period_data_edit = []\n",
    "region = {\"us\":1, \"eu\":3, \"kr\":2, \"tw\":4}\n",
    "for row in period_data:\n",
    "    new_row = list(row)\n",
    "    new_row[0] = region[row[0]]\n",
    "    period_data_edit.append(new_row)"
   ]
  },
  {
   "cell_type": "code",
   "execution_count": 79,
   "metadata": {},
   "outputs": [],
   "source": [
    "# dump into MDB\n",
    "mdb.insert(table=\"period\", data=period_data_edit)"
   ]
  },
  {
   "cell_type": "markdown",
   "metadata": {},
   "source": [
    "**NOTE:**\n",
    "\n",
    "Period endpoint only goes back to 641. Leaderboard goes back to 597. At some point, I need to go back to 597, and get that data via leaderboard endpoint."
   ]
  },
  {
   "cell_type": "markdown",
   "metadata": {},
   "source": [
    "---\n",
    "#### AFFIX TABLE"
   ]
  },
  {
   "cell_type": "code",
   "execution_count": null,
   "metadata": {},
   "outputs": [],
   "source": [
    "\"\"\"\n",
    "+-----------------+-----------------+------+-----+---------+-------+\n",
    "| Field           | Type            | Null | Key | Default | Extra |\n",
    "+-----------------+-----------------+------+-----+---------+-------+\n",
    "| region          | int unsigned    | NO   | PRI | NULL    |       |\n",
    "| id              | int unsigned    | NO   | PRI | NULL    |       |\n",
    "| start_timestamp | bigint unsigned | NO   |     | NULL    |       |\n",
    "| end_timestamp   | bigint unsigned | NO   |     | NULL    |       |\n",
    "| tyrannical      | tinyint(1)      | YES  |     | 0       |       |\n",
    "| affixes         | varchar(50)     | YES  |     | NULL    |       |\n",
    "+-----------------+-----------------+------+-----+---------+-------+\n",
    "\"\"\""
   ]
  }
 ],
 "metadata": {
  "kernelspec": {
   "display_name": "scraper",
   "language": "python",
   "name": "scraper"
  },
  "language_info": {
   "codemirror_mode": {
    "name": "ipython",
    "version": 3
   },
   "file_extension": ".py",
   "mimetype": "text/x-python",
   "name": "python",
   "nbconvert_exporter": "python",
   "pygments_lexer": "ipython3",
   "version": "3.6.9"
  }
 },
 "nbformat": 4,
 "nbformat_minor": 4
}

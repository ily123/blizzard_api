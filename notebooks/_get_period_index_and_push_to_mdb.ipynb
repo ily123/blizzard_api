{
 "cells": [
  {
   "cell_type": "markdown",
   "metadata": {},
   "source": [
    "### Upload time period mapping to MDB"
   ]
  },
  {
   "cell_type": "code",
   "execution_count": 52,
   "metadata": {},
   "outputs": [],
   "source": [
    "import requests\n",
    "import importlib\n",
    "import blizzard_api\n",
    "import mplusdb\n",
    "import blizzard_credentials\n",
    "import pandas as pd\n",
    "import utils\n",
    "import mplusdb"
   ]
  },
  {
   "cell_type": "code",
   "execution_count": 6,
   "metadata": {},
   "outputs": [],
   "source": [
    "#grab access token\n",
    "importlib.reload(blizzard_credentials)\n",
    "tokens_file_path = '.api_tokens'\n",
    "authorization = blizzard_credentials.Credentials(tokens_file_path)\n",
    "access_token = authorization.access_token"
   ]
  },
  {
   "cell_type": "code",
   "execution_count": 56,
   "metadata": {},
   "outputs": [
    {
     "name": "stdout",
     "output_type": "stream",
     "text": [
      " region kr period 762\n"
     ]
    }
   ],
   "source": [
    "# get period ids and end/start timestamps for every region\n",
    "parser = blizzard_api.ResponseParser()\n",
    "period_timestamps = []\n",
    "for region in ['us', 'eu', 'tw', 'kr']:\n",
    "    region_code = utils.Utils().encode_region(region)\n",
    "    call_factory = blizzard_api.CallFactory(\n",
    "        region = region, access_token = access_token)\n",
    "    # get list of periods on record - should be the same for every region\n",
    "    period_index_url = call_factory.get_timeperiod_index_url()\n",
    "    response = requests.get(period_index_url)\n",
    "    periods = parser.parse_timeperiod_index_json(response.json())\n",
    "    \n",
    "    # get start/end timestamp for every period\n",
    "    for period in periods:\n",
    "        period_url = call_factory.get_timeperiod_url(period)\n",
    "        response = requests.get(period_url)\n",
    "        start, end = parser.parse_timeperiod_json(response.json())\n",
    "        period_timestamps.append((region_code, period, start, end))\n",
    "        print('\\r region %s period %s' % (region, period), end='')\n",
    "print('')"
   ]
  },
  {
   "cell_type": "code",
   "execution_count": 59,
   "metadata": {},
   "outputs": [
    {
     "data": {
      "text/html": [
       "<div>\n",
       "<style scoped>\n",
       "    .dataframe tbody tr th:only-of-type {\n",
       "        vertical-align: middle;\n",
       "    }\n",
       "\n",
       "    .dataframe tbody tr th {\n",
       "        vertical-align: top;\n",
       "    }\n",
       "\n",
       "    .dataframe thead th {\n",
       "        text-align: right;\n",
       "    }\n",
       "</style>\n",
       "<table border=\"1\" class=\"dataframe\">\n",
       "  <thead>\n",
       "    <tr style=\"text-align: right;\">\n",
       "      <th></th>\n",
       "      <th>0</th>\n",
       "      <th>1</th>\n",
       "      <th>2</th>\n",
       "      <th>3</th>\n",
       "    </tr>\n",
       "  </thead>\n",
       "  <tbody>\n",
       "    <tr>\n",
       "      <th>0</th>\n",
       "      <td>1</td>\n",
       "      <td>641</td>\n",
       "      <td>1523372400000</td>\n",
       "      <td>1523977199000</td>\n",
       "    </tr>\n",
       "    <tr>\n",
       "      <th>1</th>\n",
       "      <td>1</td>\n",
       "      <td>642</td>\n",
       "      <td>1523977200000</td>\n",
       "      <td>1524581999000</td>\n",
       "    </tr>\n",
       "    <tr>\n",
       "      <th>2</th>\n",
       "      <td>1</td>\n",
       "      <td>643</td>\n",
       "      <td>1524582000000</td>\n",
       "      <td>1525186799000</td>\n",
       "    </tr>\n",
       "    <tr>\n",
       "      <th>3</th>\n",
       "      <td>1</td>\n",
       "      <td>644</td>\n",
       "      <td>1525186800000</td>\n",
       "      <td>1525791599000</td>\n",
       "    </tr>\n",
       "    <tr>\n",
       "      <th>4</th>\n",
       "      <td>1</td>\n",
       "      <td>645</td>\n",
       "      <td>1525791600000</td>\n",
       "      <td>1526396399000</td>\n",
       "    </tr>\n",
       "  </tbody>\n",
       "</table>\n",
       "</div>"
      ],
      "text/plain": [
       "   0    1              2              3\n",
       "0  1  641  1523372400000  1523977199000\n",
       "1  1  642  1523977200000  1524581999000\n",
       "2  1  643  1524582000000  1525186799000\n",
       "3  1  644  1525186800000  1525791599000\n",
       "4  1  645  1525791600000  1526396399000"
      ]
     },
     "execution_count": 59,
     "metadata": {},
     "output_type": "execute_result"
    }
   ],
   "source": [
    "pd.DataFrame(period_timestamps).head(5)"
   ]
  },
  {
   "cell_type": "code",
   "execution_count": 75,
   "metadata": {},
   "outputs": [],
   "source": [
    "importlib.reload(mplusdb)\n",
    "mdb = mplusdb.MplusDatabase('.db_config')"
   ]
  },
  {
   "cell_type": "code",
   "execution_count": 76,
   "metadata": {},
   "outputs": [],
   "source": [
    "mdb.insert(table ='period',\n",
    "           data = period_timestamps)"
   ]
  }
 ],
 "metadata": {
  "kernelspec": {
   "display_name": "Python 3",
   "language": "python",
   "name": "python3"
  }
 },
 "nbformat": 4,
 "nbformat_minor": 2
}

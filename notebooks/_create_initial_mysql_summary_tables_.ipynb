{
 "cells": [
  {
   "cell_type": "markdown",
   "metadata": {},
   "source": [
    "* Currently, every time I want to summarize data, I re-run the entire query (for both the season-wide ridgeplot, and the week-by-week histogram).\n",
    "* Re-running the queries over the entire data set takes a combined ~10 minutes.\n",
    "\n",
    "That's a very long time. So, instead, let's make a summary table witin the database, and query it when we need to retrieve summaries. This will save a lot of time, because we don't need to recalculate it every time.\n",
    "\n",
    "## I. spec table\n",
    "We need the spec-level-count summary. \n",
    "* First, we will do an initial group by over the entire roster/run join table. This is what we do multiple times a day now to get the summary. This time, instead of piping the summary out, we will save it as the \"summary_spec\" table within MDB.\n",
    "\n",
    "* Second, to update the summary table with new data, we will make a sql query that will:\n",
    "    * Create a summary for the sub-set of the roster/run join table LIMITED TO THE CURRENT WEEK ONLY (and week CURRENT-1 to account for any sort of region-based period overlaps). Intead of taking 3-4 minutes, this should only take a few seconds.\n",
    "    * Insert results of the CURRENT WEEK summary into the summary table. Within the CURERNT_WEEK subset, we'll just recalculate/overwrite the relevant rows in the summary table every time the query is called."
   ]
  },
  {
   "cell_type": "code",
   "execution_count": 1,
   "metadata": {},
   "outputs": [],
   "source": [
    "import pandas as pd\n",
    "import mplusdb"
   ]
  },
  {
   "cell_type": "code",
   "execution_count": 4,
   "metadata": {},
   "outputs": [],
   "source": [
    "mdb = mplusdb.MplusDatabase('.db_config')"
   ]
  },
  {
   "cell_type": "markdown",
   "metadata": {},
   "source": [
    "### spec table"
   ]
  },
  {
   "cell_type": "code",
   "execution_count": 17,
   "metadata": {},
   "outputs": [],
   "source": [
    "# Create the initial summary table -- we'll have to pipe thse data outside first, bc\n",
    "# the buffer size is too small to handle this operation with a CREATE SELECT\n",
    "\n",
    "# run this directly in the mdb\n",
    "CREATE_EMPTY_TABLE = \"\"\"\n",
    "CREATE TABLE summary_spec (\n",
    "    period int unsigned default 0 not null,\n",
    "    spec int unsigned default 0 not null,\n",
    "    level int unsigned default 0 not null,\n",
    "    count int unsigned default 0 not null,\n",
    "    PRIMARY KEY (period, spec, level)\n",
    ");\n",
    "\"\"\"\n",
    "\n",
    "# summarize all of the available data\n",
    "SUMMARY_QUERY = \"\"\"\n",
    "SELECT period, spec, level, count(level) as count\n",
    "FROM new_table\n",
    "INNER JOIN roster\n",
    "ON new_table.id = roster.run_id\n",
    "GROUP BY period, spec, level;\n",
    "\"\"\"\n",
    "\n",
    "#insert the summary data into the summary table\n",
    "INSERT_QUERY = \"\"\"\n",
    "INSERT INTO summary_spec values(%s, %s, %s, %s)\n",
    "\"\"\"\n",
    "conn = None\n",
    "data = None\n",
    "try:\n",
    "    conn = mdb.connect()\n",
    "    cursor = conn.cursor()\n",
    "    cursor.execute(SUMMARY_QUERY)\n",
    "    data = cursor.fetchall()\n",
    "    cursor.executemany(INSERT_QUERY, data)\n",
    "    conn.commit()\n",
    "except:\n",
    "    print(\"an oopsie, closing connection\")\n",
    "finally:\n",
    "    cursor.close()\n",
    "    conn.close()\n"
   ]
  },
  {
   "cell_type": "code",
   "execution_count": 99,
   "metadata": {},
   "outputs": [],
   "source": [
    "# update the spec summary with something like this\n",
    "# (this will go into the summarize.py script)\n",
    "UPDATE_QUERY = \"\"\"\n",
    "INSERT INTO summary_spec(period, spec, level, count)\n",
    "SELECT period, spec, level, count(level) as count\n",
    "FROM new_table\n",
    "INNER JOIN roster on new_table.id = roster.run_id\n",
    "WHERE new_table.period BETWEEN 770 AND 772\n",
    "GROUP BY period, spec, level\n",
    "ON DUPLICATE KEY UPDATE count=VALUES(count);\n",
    "\"\"\""
   ]
  },
  {
   "cell_type": "code",
   "execution_count": 100,
   "metadata": {},
   "outputs": [],
   "source": [
    "import importlib\n",
    "import summarize\n",
    "import pandas as pd"
   ]
  },
  {
   "cell_type": "code",
   "execution_count": 101,
   "metadata": {},
   "outputs": [],
   "source": [
    "importlib.reload(summarize)\n",
    "data = summarize.get_runs_summary()"
   ]
  },
  {
   "cell_type": "code",
   "execution_count": 102,
   "metadata": {},
   "outputs": [
    {
     "data": {
      "text/html": [
       "<div>\n",
       "<style scoped>\n",
       "    .dataframe tbody tr th:only-of-type {\n",
       "        vertical-align: middle;\n",
       "    }\n",
       "\n",
       "    .dataframe tbody tr th {\n",
       "        vertical-align: top;\n",
       "    }\n",
       "\n",
       "    .dataframe thead th {\n",
       "        text-align: right;\n",
       "    }\n",
       "</style>\n",
       "<table border=\"1\" class=\"dataframe\">\n",
       "  <thead>\n",
       "    <tr style=\"text-align: right;\">\n",
       "      <th></th>\n",
       "      <th>season</th>\n",
       "      <th>spec</th>\n",
       "      <th>level</th>\n",
       "      <th>count</th>\n",
       "    </tr>\n",
       "  </thead>\n",
       "  <tbody>\n",
       "    <tr>\n",
       "      <th>0</th>\n",
       "      <td>bfa4</td>\n",
       "      <td>62</td>\n",
       "      <td>2</td>\n",
       "      <td>74334</td>\n",
       "    </tr>\n",
       "    <tr>\n",
       "      <th>1</th>\n",
       "      <td>bfa4</td>\n",
       "      <td>62</td>\n",
       "      <td>3</td>\n",
       "      <td>21381</td>\n",
       "    </tr>\n",
       "    <tr>\n",
       "      <th>2</th>\n",
       "      <td>bfa4</td>\n",
       "      <td>62</td>\n",
       "      <td>4</td>\n",
       "      <td>35278</td>\n",
       "    </tr>\n",
       "    <tr>\n",
       "      <th>3</th>\n",
       "      <td>bfa4</td>\n",
       "      <td>62</td>\n",
       "      <td>5</td>\n",
       "      <td>53770</td>\n",
       "    </tr>\n",
       "    <tr>\n",
       "      <th>4</th>\n",
       "      <td>bfa4</td>\n",
       "      <td>62</td>\n",
       "      <td>6</td>\n",
       "      <td>50560</td>\n",
       "    </tr>\n",
       "    <tr>\n",
       "      <th>...</th>\n",
       "      <td>...</td>\n",
       "      <td>...</td>\n",
       "      <td>...</td>\n",
       "      <td>...</td>\n",
       "    </tr>\n",
       "    <tr>\n",
       "      <th>1876</th>\n",
       "      <td>bfa4_postpatch</td>\n",
       "      <td>581</td>\n",
       "      <td>21</td>\n",
       "      <td>229</td>\n",
       "    </tr>\n",
       "    <tr>\n",
       "      <th>1877</th>\n",
       "      <td>bfa4_postpatch</td>\n",
       "      <td>581</td>\n",
       "      <td>22</td>\n",
       "      <td>135</td>\n",
       "    </tr>\n",
       "    <tr>\n",
       "      <th>1878</th>\n",
       "      <td>bfa4_postpatch</td>\n",
       "      <td>581</td>\n",
       "      <td>23</td>\n",
       "      <td>83</td>\n",
       "    </tr>\n",
       "    <tr>\n",
       "      <th>1879</th>\n",
       "      <td>bfa4_postpatch</td>\n",
       "      <td>581</td>\n",
       "      <td>24</td>\n",
       "      <td>28</td>\n",
       "    </tr>\n",
       "    <tr>\n",
       "      <th>1880</th>\n",
       "      <td>bfa4_postpatch</td>\n",
       "      <td>581</td>\n",
       "      <td>25</td>\n",
       "      <td>7</td>\n",
       "    </tr>\n",
       "  </tbody>\n",
       "</table>\n",
       "<p>1881 rows × 4 columns</p>\n",
       "</div>"
      ],
      "text/plain": [
       "              season  spec  level  count\n",
       "0               bfa4    62      2  74334\n",
       "1               bfa4    62      3  21381\n",
       "2               bfa4    62      4  35278\n",
       "3               bfa4    62      5  53770\n",
       "4               bfa4    62      6  50560\n",
       "...              ...   ...    ...    ...\n",
       "1876  bfa4_postpatch   581     21    229\n",
       "1877  bfa4_postpatch   581     22    135\n",
       "1878  bfa4_postpatch   581     23     83\n",
       "1879  bfa4_postpatch   581     24     28\n",
       "1880  bfa4_postpatch   581     25      7\n",
       "\n",
       "[1881 rows x 4 columns]"
      ]
     },
     "execution_count": 102,
     "metadata": {},
     "output_type": "execute_result"
    }
   ],
   "source": [
    "data"
   ]
  },
  {
   "cell_type": "code",
   "execution_count": 85,
   "metadata": {},
   "outputs": [],
   "source": [
    "summarize.push_runs_summary_to_sqlite(data)"
   ]
  }
 ],
 "metadata": {
  "kernelspec": {
   "display_name": "Python 3",
   "language": "python",
   "name": "python3"
  },
  "language_info": {
   "codemirror_mode": {
    "name": "ipython",
    "version": 3
   },
   "file_extension": ".py",
   "mimetype": "text/x-python",
   "name": "python",
   "nbconvert_exporter": "python",
   "pygments_lexer": "ipython3",
   "version": "3.6.9"
  }
 },
 "nbformat": 4,
 "nbformat_minor": 4
}

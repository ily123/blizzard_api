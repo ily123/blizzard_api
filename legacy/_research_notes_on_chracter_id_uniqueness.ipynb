{
 "cells": [
  {
   "cell_type": "markdown",
   "metadata": {},
   "source": [
    "#### What I found playing with the DB:\n",
    "---\n",
    "* Character ID stays the same when player renames chracter\n",
    "* Chracter ID gets reassigned when chracter changes realms\n",
    "* Chracter IDs are not unique across region\n",
    "* Character IDs are not unique within region\n",
    "* The same character ID sometimes shows up with an UNKNOWN names in some runs (but not others)\n",
    "\n",
    "\n",
    "\n",
    "Counts of non-uniqs are pretty low (<3%). I think the system tries to assign faux-unique ids based on the raw number of existing records (auto-increment of some sort?), but sometimes has clashes, so they don't strictly enforce uniqueness."
   ]
  }
 ],
 "metadata": {
  "kernelspec": {
   "display_name": "Python 3",
   "language": "python",
   "name": "python3"
  },
  "language_info": {
   "codemirror_mode": {
    "name": "ipython",
    "version": 3
   },
   "file_extension": ".py",
   "mimetype": "text/x-python",
   "name": "python",
   "nbconvert_exporter": "python",
   "pygments_lexer": "ipython3",
   "version": "3.6.12"
  }
 },
 "nbformat": 4,
 "nbformat_minor": 2
}

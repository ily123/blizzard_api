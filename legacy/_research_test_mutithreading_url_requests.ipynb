{
 "cells": [
  {
   "cell_type": "markdown",
   "metadata": {},
   "source": [
    "### What is archived data?\n",
    "\n",
    "These are the data going back to Spring 2017 (period 597). \n",
    "\n",
    "The leaderboards for those weeks are in their final state. I would like to pull these data into the DB. This only has to be done once."
   ]
  },
  {
   "cell_type": "code",
   "execution_count": 117,
   "metadata": {},
   "outputs": [],
   "source": [
    "import requests\n",
    "import importlib\n",
    "import blizzard_api\n",
    "import mysql\n",
    "import mplusdb\n",
    "import blizzard_credentials\n",
    "import pandas as pd\n",
    "import utils\n",
    "import time\n",
    "from concurrent.futures import ThreadPoolExecutor, as_completed\n",
    "import matplotlib.pyplot as plt\n",
    "import matplotlib.ticker as ticker"
   ]
  },
  {
   "cell_type": "code",
   "execution_count": 111,
   "metadata": {},
   "outputs": [],
   "source": [
    "auth = blizzard_credentials.Credentials('.api_tokens')\n",
    "access_token = auth.access_token"
   ]
  },
  {
   "cell_type": "code",
   "execution_count": 114,
   "metadata": {},
   "outputs": [],
   "source": [
    "url_factory = blizzard_api.UrlFactory(access_token = access_token, region='eu')\n",
    "\n",
    "realm = 1403\n",
    "urls = []\n",
    "for dungeon in list(range(244,252+1)) + [353]:\n",
    "    for period in range(660, 760):\n",
    "        url = url_factory.get_mythic_plus_leaderboard_url(dungeon, realm, period)\n",
    "        urls.append(url)"
   ]
  },
  {
   "cell_type": "code",
   "execution_count": 115,
   "metadata": {},
   "outputs": [
    {
     "data": {
      "text/plain": [
       "1000"
      ]
     },
     "execution_count": 115,
     "metadata": {},
     "output_type": "execute_result"
    }
   ],
   "source": [
    "len(urls)"
   ]
  },
  {
   "cell_type": "code",
   "execution_count": 64,
   "metadata": {},
   "outputs": [
    {
     "name": "stdout",
     "output_type": "stream",
     "text": [
      "call 100\n",
      "time, min: 4.05\n",
      "time/call: 2.43\n"
     ]
    }
   ],
   "source": [
    "t0 = time.time()\n",
    "cut = 100\n",
    "for index, url in enumerate(urls[:cut]):\n",
    "    response = requests.get(url)\n",
    "    if response.status_code != 200:\n",
    "        print(url)\n",
    "    print('\\rcall %s' % (index+1), end='')\n",
    "    \n",
    "print('')\n",
    "t_end = time.time() - t0\n",
    "print('time, min: %1.2f' % (t_end/60))\n",
    "print('time/call: %1.2f' % (t_end/cut))"
   ]
  },
  {
   "cell_type": "code",
   "execution_count": 56,
   "metadata": {},
   "outputs": [
    {
     "name": "stdout",
     "output_type": "stream",
     "text": [
      "\n",
      "time, min: 7.00\n",
      "time/call, sec: 0.42\n"
     ]
    }
   ],
   "source": [
    "def test_function(url):\n",
    "    time.sleep(0.1)\n",
    "    response = requests.get(url)\n",
    "    return response\n",
    "\n",
    "def test_caller(caller):\n",
    "    return(id(caller.access_token))\n",
    "\n",
    "\n",
    "caller_ = blizzard_api.Caller()\n",
    "\n",
    "\n",
    "urls_ = urls#[:200]\n",
    "def runner():\n",
    "    threads = []\n",
    "    with ThreadPoolExecutor(max_workers = 5) as executor:\n",
    "        for url in urls_:\n",
    "            #threads.append(executor.submit(test_caller, caller_))\n",
    "            threads.append(executor.submit(test_function, url))\n",
    "    for task in as_completed(threads):\n",
    "        if task.result().status_code != 200:\n",
    "            print(task.result().status_code)\n",
    "        #print(task.__dict__)\n",
    "        #print(task.result())\n",
    "        \n",
    "        \n",
    "t0 = time.time()        \n",
    "runner()\n",
    "print('')\n",
    "t_end = time.time() - t0\n",
    "print('time, min: %1.2f' % (t_end/60))\n",
    "print('time/call, sec: %1.2f' % (t_end/len(urls_)))"
   ]
  },
  {
   "cell_type": "code",
   "execution_count": 123,
   "metadata": {},
   "outputs": [
    {
     "data": {
      "image/png": "[encoded data removed]",
      "text/plain": [
       "<Figure size 864x360 with 3 Axes>"
      ]
     },
     "metadata": {
      "needs_background": "light"
     },
     "output_type": "display_data"
    }
   ],
   "source": [
    "# recorded these by hand. (lazy to write a function)\n",
    "\n",
    "# with 10 workers\n",
    "data = {\n",
    "    'link_num' : [10, 100, 200, 300, 400, 500, 1000],\n",
    "    'total_time_min' : [0.07, 0.47, 0.82, 1.03, 1.65, 2.03, 4.14],\n",
    "    'time_per_link_sec' : [0.42, 0.28, 0.24, 0.21, 0.25, 0.23, 0.25]\n",
    "    }\n",
    "\n",
    "# with 200 links\n",
    "# 20 workers run both CPUs at 65% - need to stay <20%\n",
    "# 10 workers peak at 50%, avg around 30%\n",
    "data_workers = {\n",
    "    'num_workers' : [5, 10, 15, 20],\n",
    "    'total_time_min' : [1.70, 0.84, 0.73, 0.69],\n",
    "    'time_per_link_sec' : [0.51, 0.25, 0.22, 0.21]\n",
    "}\n",
    "\n",
    "performance = pd.DataFrame(data)\n",
    "thread_performance = pd.DataFrame(data_workers)\n",
    "\n",
    "\n",
    "fig, axes = plt.subplots(1, 3, figsize = [12, 5])\n",
    "axes[0].plot(performance.link_num,\n",
    "    performance.time_per_link_sec)\n",
    "axes[0].set_title('Url call takes ~0.25 seconds')\n",
    "axes[0].set(xlabel = '# links')\n",
    "axes[0].set(ylabel = 'sec/link')\n",
    "axes[0].set(ylim = [0, 0.6])\n",
    "\n",
    "axes[1].set_title('fds')\n",
    "axes[1].plot(thread_performance.num_workers,\n",
    "    thread_performance.time_per_link_sec)\n",
    "axes[1].set(ylabel = 'sec/link')\n",
    "axes[1].set(xlabel = '# workers')\n",
    "axes[1].set(title = 'Call time improvement\\ndiminishes after 10 workers')\n",
    "axes[1].set(ylim = [0, 0.6])\n",
    "\n",
    "\n",
    "\n",
    "axes[2].bar([1,2,3,4],\n",
    "    thread_performance.total_time_min)\n",
    "axes[2].set(title='Call time improvement\\ndiminises after 10 workers')\n",
    "axes[2].set(ylabel = 'total time, min')\n",
    "axes[2].set(xlabel = '# workers')\n",
    "axes[2].xaxis.set_major_locator(ticker.FixedLocator([1,2,3,4]))\n",
    "axes[2].xaxis.set_major_formatter(ticker.FixedFormatter(['5', '10', '15', '20']))\n",
    "\n",
    "fig.tight_layout(pad=3)\n",
    "\n",
    "plt.show()"
   ]
  },
  {
   "cell_type": "code",
   "execution_count": null,
   "metadata": {},
   "outputs": [],
   "source": []
  }
 ],
 "metadata": {
  "kernelspec": {
   "display_name": "scraper",
   "language": "python",
   "name": "scraper"
  },
  "language_info": {
   "codemirror_mode": {
    "name": "ipython",
    "version": 3
   },
   "file_extension": ".py",
   "mimetype": "text/x-python",
   "name": "python",
   "nbconvert_exporter": "python",
   "pygments_lexer": "ipython3",
   "version": "3.6.9"
  }
 },
 "nbformat": 4,
 "nbformat_minor": 2
}
